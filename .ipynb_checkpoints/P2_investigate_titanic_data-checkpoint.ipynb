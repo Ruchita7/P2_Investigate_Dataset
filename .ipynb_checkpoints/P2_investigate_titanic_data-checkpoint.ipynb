{
 "cells": [
  {
   "cell_type": "markdown",
   "metadata": {},
   "source": [
    "<h2 align=\"center\"> P2 - Investigate a Dataset</h2>"
   ]
  },
  {
   "cell_type": "markdown",
   "metadata": {},
   "source": [
    "As part of P2-Investigate a Dataset, I chose to investigate **Titanic dataset**. \n"
   ]
  },
  {
   "cell_type": "markdown",
   "metadata": {},
   "source": [
    "<h3>Index</h3>"
   ]
  },
  {
   "cell_type": "markdown",
   "metadata": {},
   "source": [
    "* Section 1:Overview\n",
    "    * Brief History\n",
    "    * Dataset Information\n",
    "* Section 2: Questions\n",
    "* Section 3: Data Wrangling\n",
    "    * Understanding the data\n",
    "    * Data cleaning\n",
    "* Section 4: Data Exploration\n",
    "    * Analyzing Relationships\n",
    "    * Investigating Survival Factors\n",
    "* Section 5 : Limitation of the analysis\n",
    "* Section 6 : Statistical Tests\n",
    "* Section 7 : Conclusion\n",
    "* Section 8 : References"
   ]
  },
  {
   "cell_type": "markdown",
   "metadata": {},
   "source": [
    "<h2 align=\"center\">SECTION 1 : OVERVIEW</h2>"
   ]
  },
  {
   "cell_type": "markdown",
   "metadata": {},
   "source": [
    "<h3>Brief History</h3>"
   ]
  },
  {
   "cell_type": "markdown",
   "metadata": {},
   "source": [
    "<img src=\"https://s-media-cache-ak0.pinimg.com/originals/bf/cc/d2/bfccd2da3c0525373b9dd84bcc99c6ff.jpg\" height=\"100px\" width=\"500px\"/>"
   ]
  },
  {
   "cell_type": "markdown",
   "metadata": {},
   "source": [
    "Titanic was a British passenger liner that sank in the North Atlantic Ocean in the early morning of 15 April 1912, after colliding with an iceberg during her maiden voyage from Southampton to New York City. Of the 2,224 passengers and crew aboard, more than 1,500 died, making it one of the deadliest commercial peacetime maritime disasters in modern history. The British registered ocean liner was built in 1912 for the transatlantic passenger and mail service between Southampton and New York. Constructed at the Harland and Wolff shipyard in Belfast, Ireland the Titanic was, on her maiden voyage, the largest vessel afloat. Thomas Andrews, her architect, died in the disaster.<br/><br/>\n",
    "Although Titanic had advanced safety features such as watertight compartments and remotely activated watertight doors, there were not enough lifeboats to accommodate all of those aboard due to outdated maritime safety regulations. Titanic only carried enough lifeboats for 1,178 people—slightly more than half of the number on board, and one third of her total capacity.\n",
    "After leaving Southampton on 10 April 1912, e new liner sailed from Southampton, England and on  14 April, four days into the crossing and about 375 miles (600 km) south of Newfoundland, she hit an iceberg at 11:40 p.m. ship's time. The collision caused the ship's hull plates to buckle inwards along her starboard side and opened five of her sixteen watertight compartments to the sea; the ship gradually filled with water. Meanwhile, passengers and some crew members were evacuated in lifeboats, many of which were launched only partially loaded. A disproportionate number of men were left aboard because of a \"women and children first\" protocol for loading lifeboats.[3] At 2:20 a.m., she broke apart and foundered—with well over one thousand people still aboard. Just under two hours after Titanic sank, the Cunard liner RMS Carpathia arrived at the scene, where she brought aboard an estimated 705 survivors.<br/><br/>\n",
    "It has rightly been called as the greatest shipwreck drama of the 20th century, a catastrophic event which has been greeted with worldwide shock and outrage at the huge loss of life and the regulatory and operational failures that had led to it."
   ]
  },
  {
   "cell_type": "markdown",
   "metadata": {},
   "source": [
    "<h3>Dataset Information</h3>"
   ]
  },
  {
   "cell_type": "markdown",
   "metadata": {},
   "source": [
    "The dataset contains demographics and passenger information from **891** of the **2224 passengers and crew on board the Titanic**. "
   ]
  },
  {
   "cell_type": "markdown",
   "metadata": {},
   "source": [
    "** VARIABLE DESCRIPTIONS:**\n",
    "\n",
    "<table width=\"50%\" align=\"left\" border=\"none\">\n",
    "<tr><td>survival</td><td>Survival<br/>(0 = No; 1 = Yes)</td></tr>\n",
    "<tr><td>pclass</td><td>Passenger Class<br/>(1 = 1st; 2 = 2nd; 3 = 3rd)</td></tr>\n",
    "<tr><td>name</td><td>Name</td></tr>\n",
    "<tr><td>sex</td><td>Sex</td></tr>\n",
    "<tr><td>age</td><td>Age</td></tr>\n",
    "<tr><td>sibsp</td><td>Number of Siblings/Spouses Aboard</td></tr>\n",
    "<tr><td>parch</td><td>Number of Parents/Children Aboard</td></tr>\n",
    "<tr><td>ticket</td><td>Ticket Number</td></tr>\n",
    "<tr><td>cabin</td><td>Cabin</td></tr>\n",
    "<tr><td>embarked</td><td>Port of Embarkation<br/>(C = Cherbourg; Q = Queenstown; S = Southampton)</td></tr>\n",
    "</table>\n"
   ]
  },
  {
   "cell_type": "markdown",
   "metadata": {},
   "source": [
    "**SPECIAL NOTES:**\n",
    "\n",
    "* Pclass is a proxy for socio-economic status (SES)<br/>\n",
    " 1st ~ Upper; 2nd ~ Middle; 3rd ~ Lower<br/><br/>\n",
    "\n",
    "* Age is in Years; Fractional if Age less than One (1) <br/>\n",
    "    If the Age is Estimated, it is in the form xx.5<br/><br/>\n",
    "\n",
    "* With respect to the family relation variables (i.e. sibsp and parch) some relations were ignored.  The following are the \n",
    "  definitions used for sibsp and parch.<br/>\n",
    "\n",
    "    Sibling:  Brother, Sister, Stepbrother, or Stepsister of Passenger Aboard Titanic<br/>\n",
    "    Spouse:   Husband or Wife of Passenger Aboard Titanic (Mistresses and Fiances Ignored)<br/>\n",
    "    Parent:   Mother or Father of Passenger Aboard Titanic<br/>\n",
    "    Child:    Son, Daughter, Stepson, or Stepdaughter of Passenger Aboard Titanic<br/>\n",
    "\n",
    "    Other family relatives excluded from this study include cousins, nephews/nieces, aunts/uncles, and in-laws.  Some children   \n",
    "    travelled only with a nanny, therefore parch=0 for them.  As well, some travelled with very close friends or neighbors in a \n",
    "    village, however, the definitions do not support such relations."
   ]
  },
  {
   "cell_type": "markdown",
   "metadata": {},
   "source": [
    "<h2 align=\"center\">SECTION 2: QUESTIONS</h2>"
   ]
  },
  {
   "cell_type": "markdown",
   "metadata": {},
   "source": [
    "<h3> Questions I hope to investigate in this report</h3>"
   ]
  },
  {
   "cell_type": "markdown",
   "metadata": {},
   "source": [
    "Q1. Do individual passenger traits like\n",
    "    \n",
    " * age\n",
    " * gender\n",
    " * age group\n",
    "    \n",
    "   impact their survival?"
   ]
  },
  {
   "cell_type": "markdown",
   "metadata": {},
   "source": [
    "Q2. Did the passenger travelling condition namely \n",
    " \n",
    " * class\n",
    " * port of embarkation\n",
    "    \n",
    "had an impact on their survival? Did individual passenger traits had any relationship with this?"
   ]
  },
  {
   "cell_type": "markdown",
   "metadata": {},
   "source": [
    " <h2 align=\"center\">SECTION 3: DATA WRANGLING</h2>"
   ]
  },
  {
   "cell_type": "markdown",
   "metadata": {},
   "source": [
    "<h3>Understanding the data set</h3>"
   ]
  },
  {
   "cell_type": "markdown",
   "metadata": {},
   "source": [
    "**Imports**"
   ]
  },
  {
   "cell_type": "code",
   "execution_count": 1,
   "metadata": {
    "collapsed": false
   },
   "outputs": [
    {
     "name": "stdout",
     "output_type": "stream",
     "text": [
      "Populating the interactive namespace from numpy and matplotlib\n"
     ]
    }
   ],
   "source": [
    "%pylab inline\n",
    "import pandas as pd\n",
    "import seaborn as sns\n",
    "import numpy as np"
   ]
  },
  {
   "cell_type": "markdown",
   "metadata": {},
   "source": [
    "We read the titanic-data.csv into panda data frame(**titanic_df**) and print the top 5 head records to have a overview of the data."
   ]
  },
  {
   "cell_type": "code",
   "execution_count": 15,
   "metadata": {
    "collapsed": false
   },
   "outputs": [
    {
     "data": {
      "text/html": [
       "<div>\n",
       "<table border=\"1\" class=\"dataframe\">\n",
       "  <thead>\n",
       "    <tr style=\"text-align: right;\">\n",
       "      <th></th>\n",
       "      <th>PassengerId</th>\n",
       "      <th>Survived</th>\n",
       "      <th>Pclass</th>\n",
       "      <th>Name</th>\n",
       "      <th>Sex</th>\n",
       "      <th>Age</th>\n",
       "      <th>SibSp</th>\n",
       "      <th>Parch</th>\n",
       "      <th>Ticket</th>\n",
       "      <th>Fare</th>\n",
       "      <th>Cabin</th>\n",
       "      <th>Embarked</th>\n",
       "    </tr>\n",
       "  </thead>\n",
       "  <tbody>\n",
       "    <tr>\n",
       "      <th>0</th>\n",
       "      <td>1</td>\n",
       "      <td>0</td>\n",
       "      <td>3</td>\n",
       "      <td>Braund, Mr. Owen Harris</td>\n",
       "      <td>male</td>\n",
       "      <td>22.0</td>\n",
       "      <td>1</td>\n",
       "      <td>0</td>\n",
       "      <td>A/5 21171</td>\n",
       "      <td>7.2500</td>\n",
       "      <td>NaN</td>\n",
       "      <td>S</td>\n",
       "    </tr>\n",
       "    <tr>\n",
       "      <th>1</th>\n",
       "      <td>2</td>\n",
       "      <td>1</td>\n",
       "      <td>1</td>\n",
       "      <td>Cumings, Mrs. John Bradley (Florence Briggs Th...</td>\n",
       "      <td>female</td>\n",
       "      <td>38.0</td>\n",
       "      <td>1</td>\n",
       "      <td>0</td>\n",
       "      <td>PC 17599</td>\n",
       "      <td>71.2833</td>\n",
       "      <td>C85</td>\n",
       "      <td>C</td>\n",
       "    </tr>\n",
       "    <tr>\n",
       "      <th>2</th>\n",
       "      <td>3</td>\n",
       "      <td>1</td>\n",
       "      <td>3</td>\n",
       "      <td>Heikkinen, Miss. Laina</td>\n",
       "      <td>female</td>\n",
       "      <td>26.0</td>\n",
       "      <td>0</td>\n",
       "      <td>0</td>\n",
       "      <td>STON/O2. 3101282</td>\n",
       "      <td>7.9250</td>\n",
       "      <td>NaN</td>\n",
       "      <td>S</td>\n",
       "    </tr>\n",
       "    <tr>\n",
       "      <th>3</th>\n",
       "      <td>4</td>\n",
       "      <td>1</td>\n",
       "      <td>1</td>\n",
       "      <td>Futrelle, Mrs. Jacques Heath (Lily May Peel)</td>\n",
       "      <td>female</td>\n",
       "      <td>35.0</td>\n",
       "      <td>1</td>\n",
       "      <td>0</td>\n",
       "      <td>113803</td>\n",
       "      <td>53.1000</td>\n",
       "      <td>C123</td>\n",
       "      <td>S</td>\n",
       "    </tr>\n",
       "    <tr>\n",
       "      <th>4</th>\n",
       "      <td>5</td>\n",
       "      <td>0</td>\n",
       "      <td>3</td>\n",
       "      <td>Allen, Mr. William Henry</td>\n",
       "      <td>male</td>\n",
       "      <td>35.0</td>\n",
       "      <td>0</td>\n",
       "      <td>0</td>\n",
       "      <td>373450</td>\n",
       "      <td>8.0500</td>\n",
       "      <td>NaN</td>\n",
       "      <td>S</td>\n",
       "    </tr>\n",
       "  </tbody>\n",
       "</table>\n",
       "</div>"
      ],
      "text/plain": [
       "   PassengerId  Survived  Pclass  \\\n",
       "0            1         0       3   \n",
       "1            2         1       1   \n",
       "2            3         1       3   \n",
       "3            4         1       1   \n",
       "4            5         0       3   \n",
       "\n",
       "                                                Name     Sex   Age  SibSp  \\\n",
       "0                            Braund, Mr. Owen Harris    male  22.0      1   \n",
       "1  Cumings, Mrs. John Bradley (Florence Briggs Th...  female  38.0      1   \n",
       "2                             Heikkinen, Miss. Laina  female  26.0      0   \n",
       "3       Futrelle, Mrs. Jacques Heath (Lily May Peel)  female  35.0      1   \n",
       "4                           Allen, Mr. William Henry    male  35.0      0   \n",
       "\n",
       "   Parch            Ticket     Fare Cabin Embarked  \n",
       "0      0         A/5 21171   7.2500   NaN        S  \n",
       "1      0          PC 17599  71.2833   C85        C  \n",
       "2      0  STON/O2. 3101282   7.9250   NaN        S  \n",
       "3      0            113803  53.1000  C123        S  \n",
       "4      0            373450   8.0500   NaN        S  "
      ]
     },
     "execution_count": 15,
     "metadata": {},
     "output_type": "execute_result"
    }
   ],
   "source": [
    "titanic_df = pd.read_csv('titanic-data.csv')\n",
    "titanic_df.head()"
   ]
  },
  {
   "cell_type": "markdown",
   "metadata": {},
   "source": [
    "When I dived deeper into this data to understand the data formats and for the purposes of cleaning this data,\n",
    "I found that out of **891 passenger records** available:\n",
    "* Age of 177 passengers is missing\n",
    "* Cabin details of only 204 passengers are available and of 607 are missing\n",
    "* Port of embarkation of 2 passengers is missing"
   ]
  },
  {
   "cell_type": "markdown",
   "metadata": {},
   "source": [
    "Below are the some of the general statistics about the data set"
   ]
  },
  {
   "cell_type": "code",
   "execution_count": 16,
   "metadata": {
    "collapsed": false
   },
   "outputs": [
    {
     "name": "stdout",
     "output_type": "stream",
     "text": [
      "<class 'pandas.core.frame.DataFrame'>\n",
      "RangeIndex: 891 entries, 0 to 890\n",
      "Data columns (total 12 columns):\n",
      "PassengerId    891 non-null int64\n",
      "Survived       891 non-null int64\n",
      "Pclass         891 non-null int64\n",
      "Name           891 non-null object\n",
      "Sex            891 non-null object\n",
      "Age            714 non-null float64\n",
      "SibSp          891 non-null int64\n",
      "Parch          891 non-null int64\n",
      "Ticket         891 non-null object\n",
      "Fare           891 non-null float64\n",
      "Cabin          204 non-null object\n",
      "Embarked       889 non-null object\n",
      "dtypes: float64(2), int64(5), object(5)\n",
      "memory usage: 83.6+ KB\n"
     ]
    },
    {
     "data": {
      "text/html": [
       "<div>\n",
       "<table border=\"1\" class=\"dataframe\">\n",
       "  <thead>\n",
       "    <tr style=\"text-align: right;\">\n",
       "      <th></th>\n",
       "      <th>PassengerId</th>\n",
       "      <th>Survived</th>\n",
       "      <th>Pclass</th>\n",
       "      <th>Age</th>\n",
       "      <th>SibSp</th>\n",
       "      <th>Parch</th>\n",
       "      <th>Fare</th>\n",
       "    </tr>\n",
       "  </thead>\n",
       "  <tbody>\n",
       "    <tr>\n",
       "      <th>count</th>\n",
       "      <td>891.000000</td>\n",
       "      <td>891.000000</td>\n",
       "      <td>891.000000</td>\n",
       "      <td>714.000000</td>\n",
       "      <td>891.000000</td>\n",
       "      <td>891.000000</td>\n",
       "      <td>891.000000</td>\n",
       "    </tr>\n",
       "    <tr>\n",
       "      <th>mean</th>\n",
       "      <td>446.000000</td>\n",
       "      <td>0.383838</td>\n",
       "      <td>2.308642</td>\n",
       "      <td>29.699118</td>\n",
       "      <td>0.523008</td>\n",
       "      <td>0.381594</td>\n",
       "      <td>32.204208</td>\n",
       "    </tr>\n",
       "    <tr>\n",
       "      <th>std</th>\n",
       "      <td>257.353842</td>\n",
       "      <td>0.486592</td>\n",
       "      <td>0.836071</td>\n",
       "      <td>14.526497</td>\n",
       "      <td>1.102743</td>\n",
       "      <td>0.806057</td>\n",
       "      <td>49.693429</td>\n",
       "    </tr>\n",
       "    <tr>\n",
       "      <th>min</th>\n",
       "      <td>1.000000</td>\n",
       "      <td>0.000000</td>\n",
       "      <td>1.000000</td>\n",
       "      <td>0.420000</td>\n",
       "      <td>0.000000</td>\n",
       "      <td>0.000000</td>\n",
       "      <td>0.000000</td>\n",
       "    </tr>\n",
       "    <tr>\n",
       "      <th>25%</th>\n",
       "      <td>223.500000</td>\n",
       "      <td>0.000000</td>\n",
       "      <td>2.000000</td>\n",
       "      <td>20.125000</td>\n",
       "      <td>0.000000</td>\n",
       "      <td>0.000000</td>\n",
       "      <td>7.910400</td>\n",
       "    </tr>\n",
       "    <tr>\n",
       "      <th>50%</th>\n",
       "      <td>446.000000</td>\n",
       "      <td>0.000000</td>\n",
       "      <td>3.000000</td>\n",
       "      <td>28.000000</td>\n",
       "      <td>0.000000</td>\n",
       "      <td>0.000000</td>\n",
       "      <td>14.454200</td>\n",
       "    </tr>\n",
       "    <tr>\n",
       "      <th>75%</th>\n",
       "      <td>668.500000</td>\n",
       "      <td>1.000000</td>\n",
       "      <td>3.000000</td>\n",
       "      <td>38.000000</td>\n",
       "      <td>1.000000</td>\n",
       "      <td>0.000000</td>\n",
       "      <td>31.000000</td>\n",
       "    </tr>\n",
       "    <tr>\n",
       "      <th>max</th>\n",
       "      <td>891.000000</td>\n",
       "      <td>1.000000</td>\n",
       "      <td>3.000000</td>\n",
       "      <td>80.000000</td>\n",
       "      <td>8.000000</td>\n",
       "      <td>6.000000</td>\n",
       "      <td>512.329200</td>\n",
       "    </tr>\n",
       "  </tbody>\n",
       "</table>\n",
       "</div>"
      ],
      "text/plain": [
       "       PassengerId    Survived      Pclass         Age       SibSp  \\\n",
       "count   891.000000  891.000000  891.000000  714.000000  891.000000   \n",
       "mean    446.000000    0.383838    2.308642   29.699118    0.523008   \n",
       "std     257.353842    0.486592    0.836071   14.526497    1.102743   \n",
       "min       1.000000    0.000000    1.000000    0.420000    0.000000   \n",
       "25%     223.500000    0.000000    2.000000   20.125000    0.000000   \n",
       "50%     446.000000    0.000000    3.000000   28.000000    0.000000   \n",
       "75%     668.500000    1.000000    3.000000   38.000000    1.000000   \n",
       "max     891.000000    1.000000    3.000000   80.000000    8.000000   \n",
       "\n",
       "            Parch        Fare  \n",
       "count  891.000000  891.000000  \n",
       "mean     0.381594   32.204208  \n",
       "std      0.806057   49.693429  \n",
       "min      0.000000    0.000000  \n",
       "25%      0.000000    7.910400  \n",
       "50%      0.000000   14.454200  \n",
       "75%      0.000000   31.000000  \n",
       "max      6.000000  512.329200  "
      ]
     },
     "execution_count": 16,
     "metadata": {},
     "output_type": "execute_result"
    }
   ],
   "source": [
    "titanic_df.info()\n",
    "titanic_df.describe()"
   ]
  },
  {
   "cell_type": "markdown",
   "metadata": {},
   "source": [
    "<h3>Data Cleaning</h3>"
   ]
  },
  {
   "cell_type": "markdown",
   "metadata": {},
   "source": [
    "To handle and clean the missing data, I would be refining the data set as follows:"
   ]
  },
  {
   "cell_type": "markdown",
   "metadata": {},
   "source": [
    "* I would not be using **cabin** details of the passengers for my analyis,so I chose to drop this column from my data frame.\n",
    "* As for the missing **port of embarkation **, I chose to ignore these passengers as they are just a 0.224 proportion of the data set. \n",
    "* Since I would be investigating the passengers based on their **Age** as well, I chose to fill 0 for the missing values so that any wrong ages do not impact my analysis. Also 0 is chosen as existing passenger ages do not have passengers with age=0"
   ]
  },
  {
   "cell_type": "code",
   "execution_count": 17,
   "metadata": {
    "collapsed": true
   },
   "outputs": [],
   "source": [
    "# drop column for 'Çabin' from the data set\n",
    "titanic_data_frame= titanic_df.drop('Cabin',1)"
   ]
  },
  {
   "cell_type": "code",
   "execution_count": 18,
   "metadata": {
    "collapsed": false
   },
   "outputs": [
    {
     "data": {
      "text/plain": [
       "0"
      ]
     },
     "execution_count": 18,
     "metadata": {},
     "output_type": "execute_result"
    }
   ],
   "source": [
    "#Passengers with age=0 in existing data set\n",
    "titanic_df[titanic_df['Age']==0]['PassengerId'].count()"
   ]
  },
  {
   "cell_type": "code",
   "execution_count": 19,
   "metadata": {
    "collapsed": false
   },
   "outputs": [
    {
     "data": {
      "text/html": [
       "<div>\n",
       "<table border=\"1\" class=\"dataframe\">\n",
       "  <thead>\n",
       "    <tr style=\"text-align: right;\">\n",
       "      <th></th>\n",
       "      <th>PassengerId</th>\n",
       "      <th>Survived</th>\n",
       "      <th>Pclass</th>\n",
       "      <th>Name</th>\n",
       "      <th>Sex</th>\n",
       "      <th>Age</th>\n",
       "      <th>SibSp</th>\n",
       "      <th>Parch</th>\n",
       "      <th>Ticket</th>\n",
       "      <th>Fare</th>\n",
       "      <th>Embarked</th>\n",
       "    </tr>\n",
       "  </thead>\n",
       "  <tbody>\n",
       "    <tr>\n",
       "      <th>0</th>\n",
       "      <td>1</td>\n",
       "      <td>0</td>\n",
       "      <td>3</td>\n",
       "      <td>Braund, Mr. Owen Harris</td>\n",
       "      <td>male</td>\n",
       "      <td>22.0</td>\n",
       "      <td>1</td>\n",
       "      <td>0</td>\n",
       "      <td>A/5 21171</td>\n",
       "      <td>7.2500</td>\n",
       "      <td>S</td>\n",
       "    </tr>\n",
       "    <tr>\n",
       "      <th>1</th>\n",
       "      <td>2</td>\n",
       "      <td>1</td>\n",
       "      <td>1</td>\n",
       "      <td>Cumings, Mrs. John Bradley (Florence Briggs Th...</td>\n",
       "      <td>female</td>\n",
       "      <td>38.0</td>\n",
       "      <td>1</td>\n",
       "      <td>0</td>\n",
       "      <td>PC 17599</td>\n",
       "      <td>71.2833</td>\n",
       "      <td>C</td>\n",
       "    </tr>\n",
       "    <tr>\n",
       "      <th>2</th>\n",
       "      <td>3</td>\n",
       "      <td>1</td>\n",
       "      <td>3</td>\n",
       "      <td>Heikkinen, Miss. Laina</td>\n",
       "      <td>female</td>\n",
       "      <td>26.0</td>\n",
       "      <td>0</td>\n",
       "      <td>0</td>\n",
       "      <td>STON/O2. 3101282</td>\n",
       "      <td>7.9250</td>\n",
       "      <td>S</td>\n",
       "    </tr>\n",
       "    <tr>\n",
       "      <th>3</th>\n",
       "      <td>4</td>\n",
       "      <td>1</td>\n",
       "      <td>1</td>\n",
       "      <td>Futrelle, Mrs. Jacques Heath (Lily May Peel)</td>\n",
       "      <td>female</td>\n",
       "      <td>35.0</td>\n",
       "      <td>1</td>\n",
       "      <td>0</td>\n",
       "      <td>113803</td>\n",
       "      <td>53.1000</td>\n",
       "      <td>S</td>\n",
       "    </tr>\n",
       "    <tr>\n",
       "      <th>4</th>\n",
       "      <td>5</td>\n",
       "      <td>0</td>\n",
       "      <td>3</td>\n",
       "      <td>Allen, Mr. William Henry</td>\n",
       "      <td>male</td>\n",
       "      <td>35.0</td>\n",
       "      <td>0</td>\n",
       "      <td>0</td>\n",
       "      <td>373450</td>\n",
       "      <td>8.0500</td>\n",
       "      <td>S</td>\n",
       "    </tr>\n",
       "  </tbody>\n",
       "</table>\n",
       "</div>"
      ],
      "text/plain": [
       "   PassengerId  Survived  Pclass  \\\n",
       "0            1         0       3   \n",
       "1            2         1       1   \n",
       "2            3         1       3   \n",
       "3            4         1       1   \n",
       "4            5         0       3   \n",
       "\n",
       "                                                Name     Sex   Age  SibSp  \\\n",
       "0                            Braund, Mr. Owen Harris    male  22.0      1   \n",
       "1  Cumings, Mrs. John Bradley (Florence Briggs Th...  female  38.0      1   \n",
       "2                             Heikkinen, Miss. Laina  female  26.0      0   \n",
       "3       Futrelle, Mrs. Jacques Heath (Lily May Peel)  female  35.0      1   \n",
       "4                           Allen, Mr. William Henry    male  35.0      0   \n",
       "\n",
       "   Parch            Ticket     Fare Embarked  \n",
       "0      0         A/5 21171   7.2500        S  \n",
       "1      0          PC 17599  71.2833        C  \n",
       "2      0  STON/O2. 3101282   7.9250        S  \n",
       "3      0            113803  53.1000        S  \n",
       "4      0            373450   8.0500        S  "
      ]
     },
     "execution_count": 19,
     "metadata": {},
     "output_type": "execute_result"
    }
   ],
   "source": [
    "#Replace NA values for age with 0\n",
    "titanic_data_frame['Age'].fillna(value=0,inplace=True)\n",
    "titanic_data_frame.head()"
   ]
  },
  {
   "cell_type": "markdown",
   "metadata": {},
   "source": [
    "The United Nations Convention on the Rights of the Child (UNRC) defines children, for the purposes of the Convention, as persons under the age 18, unless domestic legislation provides otherwise. In that spirit, this timeline includes as children all those below the UK age of majority, which was 21 until 1970, when it was reduced to 18[1] <br/>\n",
    "So following this convention I would consider passengers with age between 0.1-21 years, adults with age between 18-59 and elderly with age greater than 60. <br/>\n",
    "I would add like to add another column for identifying passengers based on their ages in the following format where 0 is customly added by me above:\n",
    "<table align=\"left\">\n",
    "<tr><th>Age</th><th>Age classification</th></tr>\n",
    "<tr><td>0</td><td>NA</td></tr>\n",
    "<tr><td>Between 0.1 and 21</td><td>Children</td></tr>\n",
    "<tr><td>Greater than equal to 21 but less than 60</td><td>Adult</td></tr>\n",
    "<tr><td>Greater than equal to 60</td><td>Elderly</td></tr>\n",
    "</table>"
   ]
  },
  {
   "cell_type": "markdown",
   "metadata": {},
   "source": [
    "Implementing this age classification on the current titanic data set available:"
   ]
  },
  {
   "cell_type": "code",
   "execution_count": 20,
   "metadata": {
    "collapsed": true
   },
   "outputs": [],
   "source": [
    "def ageClassification(passenger):\n",
    "    ##Ignore passengers with age equal to 0\n",
    "    if passenger['Age']==0:\n",
    "        return 'NA'\n",
    "    if passenger['Age']>=0.1 and passenger['Age']<21:\n",
    "        return \"Child\"\n",
    "    elif passenger['Age']>=21 and passenger['Age']<60:\n",
    "        return \"Adult\"\n",
    "    else:\n",
    "        return \"Elderly\""
   ]
  },
  {
   "cell_type": "code",
   "execution_count": 21,
   "metadata": {
    "collapsed": false
   },
   "outputs": [
    {
     "data": {
      "text/html": [
       "<div>\n",
       "<table border=\"1\" class=\"dataframe\">\n",
       "  <thead>\n",
       "    <tr style=\"text-align: right;\">\n",
       "      <th></th>\n",
       "      <th>PassengerId</th>\n",
       "      <th>Survived</th>\n",
       "      <th>Pclass</th>\n",
       "      <th>Name</th>\n",
       "      <th>Sex</th>\n",
       "      <th>Age</th>\n",
       "      <th>SibSp</th>\n",
       "      <th>Parch</th>\n",
       "      <th>Ticket</th>\n",
       "      <th>Fare</th>\n",
       "      <th>Embarked</th>\n",
       "      <th>AgeGroup</th>\n",
       "    </tr>\n",
       "  </thead>\n",
       "  <tbody>\n",
       "    <tr>\n",
       "      <th>0</th>\n",
       "      <td>1</td>\n",
       "      <td>0</td>\n",
       "      <td>3</td>\n",
       "      <td>Braund, Mr. Owen Harris</td>\n",
       "      <td>male</td>\n",
       "      <td>22.0</td>\n",
       "      <td>1</td>\n",
       "      <td>0</td>\n",
       "      <td>A/5 21171</td>\n",
       "      <td>7.2500</td>\n",
       "      <td>S</td>\n",
       "      <td>Adult</td>\n",
       "    </tr>\n",
       "    <tr>\n",
       "      <th>1</th>\n",
       "      <td>2</td>\n",
       "      <td>1</td>\n",
       "      <td>1</td>\n",
       "      <td>Cumings, Mrs. John Bradley (Florence Briggs Th...</td>\n",
       "      <td>female</td>\n",
       "      <td>38.0</td>\n",
       "      <td>1</td>\n",
       "      <td>0</td>\n",
       "      <td>PC 17599</td>\n",
       "      <td>71.2833</td>\n",
       "      <td>C</td>\n",
       "      <td>Adult</td>\n",
       "    </tr>\n",
       "    <tr>\n",
       "      <th>2</th>\n",
       "      <td>3</td>\n",
       "      <td>1</td>\n",
       "      <td>3</td>\n",
       "      <td>Heikkinen, Miss. Laina</td>\n",
       "      <td>female</td>\n",
       "      <td>26.0</td>\n",
       "      <td>0</td>\n",
       "      <td>0</td>\n",
       "      <td>STON/O2. 3101282</td>\n",
       "      <td>7.9250</td>\n",
       "      <td>S</td>\n",
       "      <td>Adult</td>\n",
       "    </tr>\n",
       "    <tr>\n",
       "      <th>3</th>\n",
       "      <td>4</td>\n",
       "      <td>1</td>\n",
       "      <td>1</td>\n",
       "      <td>Futrelle, Mrs. Jacques Heath (Lily May Peel)</td>\n",
       "      <td>female</td>\n",
       "      <td>35.0</td>\n",
       "      <td>1</td>\n",
       "      <td>0</td>\n",
       "      <td>113803</td>\n",
       "      <td>53.1000</td>\n",
       "      <td>S</td>\n",
       "      <td>Adult</td>\n",
       "    </tr>\n",
       "    <tr>\n",
       "      <th>4</th>\n",
       "      <td>5</td>\n",
       "      <td>0</td>\n",
       "      <td>3</td>\n",
       "      <td>Allen, Mr. William Henry</td>\n",
       "      <td>male</td>\n",
       "      <td>35.0</td>\n",
       "      <td>0</td>\n",
       "      <td>0</td>\n",
       "      <td>373450</td>\n",
       "      <td>8.0500</td>\n",
       "      <td>S</td>\n",
       "      <td>Adult</td>\n",
       "    </tr>\n",
       "  </tbody>\n",
       "</table>\n",
       "</div>"
      ],
      "text/plain": [
       "   PassengerId  Survived  Pclass  \\\n",
       "0            1         0       3   \n",
       "1            2         1       1   \n",
       "2            3         1       3   \n",
       "3            4         1       1   \n",
       "4            5         0       3   \n",
       "\n",
       "                                                Name     Sex   Age  SibSp  \\\n",
       "0                            Braund, Mr. Owen Harris    male  22.0      1   \n",
       "1  Cumings, Mrs. John Bradley (Florence Briggs Th...  female  38.0      1   \n",
       "2                             Heikkinen, Miss. Laina  female  26.0      0   \n",
       "3       Futrelle, Mrs. Jacques Heath (Lily May Peel)  female  35.0      1   \n",
       "4                           Allen, Mr. William Henry    male  35.0      0   \n",
       "\n",
       "   Parch            Ticket     Fare Embarked AgeGroup  \n",
       "0      0         A/5 21171   7.2500        S    Adult  \n",
       "1      0          PC 17599  71.2833        C    Adult  \n",
       "2      0  STON/O2. 3101282   7.9250        S    Adult  \n",
       "3      0            113803  53.1000        S    Adult  \n",
       "4      0            373450   8.0500        S    Adult  "
      ]
     },
     "execution_count": 21,
     "metadata": {},
     "output_type": "execute_result"
    }
   ],
   "source": [
    "titanic_data_frame['AgeGroup']=titanic_data_frame.apply(ageClassification,axis=1)\n",
    "titanic_data_frame.head()"
   ]
  },
  {
   "cell_type": "markdown",
   "metadata": {},
   "source": [
    "**Woman and Child First**"
   ]
  },
  {
   "cell_type": "markdown",
   "metadata": {},
   "source": [
    "Since there was capacity to fit in 1,178 passengers in the lifeboat from around 2,228 people onboard the Titanic[3], the Second Officer suggested to Captain Smith, \"Hadn't we better get the women and children into the boats, sir?\", to which the captain responded: \"women and children in and lower away\". The First (Officer Murdoch) and Second (Officer Lightoller) officers interpreted the evacuation order differently; one took it to mean women and children first, while the other took it to mean women and children only. Thus one of the officers lowered lifeboats with empty seats if there were no women and children waiting to board, while the other allowed a limited number of men to board if all the nearby women and children had embarked.[4]"
   ]
  },
  {
   "cell_type": "markdown",
   "metadata": {},
   "source": [
    "So I want to add an additional column to the data frame for identifying whether the passenger was Woman/Child. So I would add another column to the data frame named WomanChild with value \"Yes\" for female passengers or child passengers and for male passengers, I would put the value \"No\" in this column"
   ]
  },
  {
   "cell_type": "code",
   "execution_count": 22,
   "metadata": {
    "collapsed": true
   },
   "outputs": [],
   "source": [
    "# Group passengers on basis on Woman/Child\n",
    "def groupWomanChild(data):\n",
    "    if data['AgeGroup']=='Child' or data['Sex']=='female':\n",
    "        woman_child='Yes'\n",
    "    else:\n",
    "        woman_child='No'\n",
    "    return woman_child;"
   ]
  },
  {
   "cell_type": "code",
   "execution_count": 23,
   "metadata": {
    "collapsed": false
   },
   "outputs": [
    {
     "data": {
      "text/html": [
       "<div>\n",
       "<table border=\"1\" class=\"dataframe\">\n",
       "  <thead>\n",
       "    <tr style=\"text-align: right;\">\n",
       "      <th></th>\n",
       "      <th>PassengerId</th>\n",
       "      <th>Survived</th>\n",
       "      <th>Pclass</th>\n",
       "      <th>Name</th>\n",
       "      <th>Sex</th>\n",
       "      <th>Age</th>\n",
       "      <th>SibSp</th>\n",
       "      <th>Parch</th>\n",
       "      <th>Ticket</th>\n",
       "      <th>Fare</th>\n",
       "      <th>Embarked</th>\n",
       "      <th>AgeGroup</th>\n",
       "      <th>WomanChild</th>\n",
       "    </tr>\n",
       "  </thead>\n",
       "  <tbody>\n",
       "    <tr>\n",
       "      <th>0</th>\n",
       "      <td>1</td>\n",
       "      <td>0</td>\n",
       "      <td>3</td>\n",
       "      <td>Braund, Mr. Owen Harris</td>\n",
       "      <td>male</td>\n",
       "      <td>22.0</td>\n",
       "      <td>1</td>\n",
       "      <td>0</td>\n",
       "      <td>A/5 21171</td>\n",
       "      <td>7.2500</td>\n",
       "      <td>S</td>\n",
       "      <td>Adult</td>\n",
       "      <td>No</td>\n",
       "    </tr>\n",
       "    <tr>\n",
       "      <th>1</th>\n",
       "      <td>2</td>\n",
       "      <td>1</td>\n",
       "      <td>1</td>\n",
       "      <td>Cumings, Mrs. John Bradley (Florence Briggs Th...</td>\n",
       "      <td>female</td>\n",
       "      <td>38.0</td>\n",
       "      <td>1</td>\n",
       "      <td>0</td>\n",
       "      <td>PC 17599</td>\n",
       "      <td>71.2833</td>\n",
       "      <td>C</td>\n",
       "      <td>Adult</td>\n",
       "      <td>Yes</td>\n",
       "    </tr>\n",
       "    <tr>\n",
       "      <th>2</th>\n",
       "      <td>3</td>\n",
       "      <td>1</td>\n",
       "      <td>3</td>\n",
       "      <td>Heikkinen, Miss. Laina</td>\n",
       "      <td>female</td>\n",
       "      <td>26.0</td>\n",
       "      <td>0</td>\n",
       "      <td>0</td>\n",
       "      <td>STON/O2. 3101282</td>\n",
       "      <td>7.9250</td>\n",
       "      <td>S</td>\n",
       "      <td>Adult</td>\n",
       "      <td>Yes</td>\n",
       "    </tr>\n",
       "    <tr>\n",
       "      <th>3</th>\n",
       "      <td>4</td>\n",
       "      <td>1</td>\n",
       "      <td>1</td>\n",
       "      <td>Futrelle, Mrs. Jacques Heath (Lily May Peel)</td>\n",
       "      <td>female</td>\n",
       "      <td>35.0</td>\n",
       "      <td>1</td>\n",
       "      <td>0</td>\n",
       "      <td>113803</td>\n",
       "      <td>53.1000</td>\n",
       "      <td>S</td>\n",
       "      <td>Adult</td>\n",
       "      <td>Yes</td>\n",
       "    </tr>\n",
       "    <tr>\n",
       "      <th>4</th>\n",
       "      <td>5</td>\n",
       "      <td>0</td>\n",
       "      <td>3</td>\n",
       "      <td>Allen, Mr. William Henry</td>\n",
       "      <td>male</td>\n",
       "      <td>35.0</td>\n",
       "      <td>0</td>\n",
       "      <td>0</td>\n",
       "      <td>373450</td>\n",
       "      <td>8.0500</td>\n",
       "      <td>S</td>\n",
       "      <td>Adult</td>\n",
       "      <td>No</td>\n",
       "    </tr>\n",
       "  </tbody>\n",
       "</table>\n",
       "</div>"
      ],
      "text/plain": [
       "   PassengerId  Survived  Pclass  \\\n",
       "0            1         0       3   \n",
       "1            2         1       1   \n",
       "2            3         1       3   \n",
       "3            4         1       1   \n",
       "4            5         0       3   \n",
       "\n",
       "                                                Name     Sex   Age  SibSp  \\\n",
       "0                            Braund, Mr. Owen Harris    male  22.0      1   \n",
       "1  Cumings, Mrs. John Bradley (Florence Briggs Th...  female  38.0      1   \n",
       "2                             Heikkinen, Miss. Laina  female  26.0      0   \n",
       "3       Futrelle, Mrs. Jacques Heath (Lily May Peel)  female  35.0      1   \n",
       "4                           Allen, Mr. William Henry    male  35.0      0   \n",
       "\n",
       "   Parch            Ticket     Fare Embarked AgeGroup WomanChild  \n",
       "0      0         A/5 21171   7.2500        S    Adult         No  \n",
       "1      0          PC 17599  71.2833        C    Adult        Yes  \n",
       "2      0  STON/O2. 3101282   7.9250        S    Adult        Yes  \n",
       "3      0            113803  53.1000        S    Adult        Yes  \n",
       "4      0            373450   8.0500        S    Adult         No  "
      ]
     },
     "execution_count": 23,
     "metadata": {},
     "output_type": "execute_result"
    }
   ],
   "source": [
    "#Apply groupWomanChild function to the titanic data frame\n",
    "titanic_data_frame['WomanChild'] = titanic_data_frame.apply(groupWomanChild, axis=1)\n",
    "titanic_data_frame.head()"
   ]
  },
  {
   "cell_type": "markdown",
   "metadata": {},
   "source": [
    "For the data set I would like to create more **descriptive labels** which would help me later in the visualization."
   ]
  },
  {
   "cell_type": "markdown",
   "metadata": {},
   "source": [
    "I would like to add a Survival Status column with values **Survived/Died** corresponding to \"1/0\" values for Survived column for making my visualizations more readable."
   ]
  },
  {
   "cell_type": "code",
   "execution_count": 24,
   "metadata": {
    "collapsed": false
   },
   "outputs": [
    {
     "data": {
      "text/plain": [
       "0        Died\n",
       "1    Survived\n",
       "2    Survived\n",
       "3    Survived\n",
       "4        Died\n",
       "Name: Survival_Status, dtype: object"
      ]
     },
     "execution_count": 24,
     "metadata": {},
     "output_type": "execute_result"
    }
   ],
   "source": [
    "# Create Survived Label Column\n",
    "titanic_data_frame['Survival_Status'] = titanic_data_frame.Survived.map({0 : 'Died', 1 : 'Survived'})\n",
    "titanic_data_frame.Survival_Status.head()"
   ]
  },
  {
   "cell_type": "markdown",
   "metadata": {},
   "source": [
    "I would like to add descriptive column for passenger class with values **First Class,Second Class and Third Class** for passenger travel corresponding to Pclass with values 1,2,3 respectively"
   ]
  },
  {
   "cell_type": "code",
   "execution_count": 25,
   "metadata": {
    "collapsed": false
   },
   "outputs": [
    {
     "data": {
      "text/plain": [
       "0    Third Class\n",
       "1    First Class\n",
       "2    Third Class\n",
       "3    First Class\n",
       "4    Third Class\n",
       "Name: Class, dtype: object"
      ]
     },
     "execution_count": 25,
     "metadata": {},
     "output_type": "execute_result"
    }
   ],
   "source": [
    "# Create Pclass Label Column\n",
    "titanic_data_frame['Class'] = titanic_data_frame.Pclass.map({1 : 'First Class', 2 : 'Second Class', 3 : 'Third Class'})\n",
    "titanic_data_frame.Class.head()"
   ]
  },
  {
   "cell_type": "markdown",
   "metadata": {},
   "source": [
    "Also I would like to add descriptive label for the Embarked port of the passengers i.e. **Cherbourg** for C, **Queenstown** for Q and **Southampton** for S"
   ]
  },
  {
   "cell_type": "code",
   "execution_count": 26,
   "metadata": {
    "collapsed": true
   },
   "outputs": [],
   "source": [
    "# Create Embarked Labels Column\n",
    "titanic_data_frame['Ports'] = titanic_data_frame.Embarked.map({'C' : 'Cherbourg', 'Q' : 'Queenstown', 'S' : 'Southampton'})"
   ]
  },
  {
   "cell_type": "code",
   "execution_count": 27,
   "metadata": {
    "collapsed": false
   },
   "outputs": [
    {
     "data": {
      "text/html": [
       "<div>\n",
       "<table border=\"1\" class=\"dataframe\">\n",
       "  <thead>\n",
       "    <tr style=\"text-align: right;\">\n",
       "      <th></th>\n",
       "      <th>PassengerId</th>\n",
       "      <th>Survived</th>\n",
       "      <th>Pclass</th>\n",
       "      <th>Name</th>\n",
       "      <th>Sex</th>\n",
       "      <th>Age</th>\n",
       "      <th>SibSp</th>\n",
       "      <th>Parch</th>\n",
       "      <th>Ticket</th>\n",
       "      <th>Fare</th>\n",
       "      <th>Embarked</th>\n",
       "      <th>AgeGroup</th>\n",
       "      <th>WomanChild</th>\n",
       "      <th>Survival_Status</th>\n",
       "      <th>Class</th>\n",
       "      <th>Ports</th>\n",
       "    </tr>\n",
       "  </thead>\n",
       "  <tbody>\n",
       "    <tr>\n",
       "      <th>0</th>\n",
       "      <td>1</td>\n",
       "      <td>0</td>\n",
       "      <td>3</td>\n",
       "      <td>Braund, Mr. Owen Harris</td>\n",
       "      <td>male</td>\n",
       "      <td>22.0</td>\n",
       "      <td>1</td>\n",
       "      <td>0</td>\n",
       "      <td>A/5 21171</td>\n",
       "      <td>7.2500</td>\n",
       "      <td>S</td>\n",
       "      <td>Adult</td>\n",
       "      <td>No</td>\n",
       "      <td>Died</td>\n",
       "      <td>Third Class</td>\n",
       "      <td>Southampton</td>\n",
       "    </tr>\n",
       "    <tr>\n",
       "      <th>1</th>\n",
       "      <td>2</td>\n",
       "      <td>1</td>\n",
       "      <td>1</td>\n",
       "      <td>Cumings, Mrs. John Bradley (Florence Briggs Th...</td>\n",
       "      <td>female</td>\n",
       "      <td>38.0</td>\n",
       "      <td>1</td>\n",
       "      <td>0</td>\n",
       "      <td>PC 17599</td>\n",
       "      <td>71.2833</td>\n",
       "      <td>C</td>\n",
       "      <td>Adult</td>\n",
       "      <td>Yes</td>\n",
       "      <td>Survived</td>\n",
       "      <td>First Class</td>\n",
       "      <td>Cherbourg</td>\n",
       "    </tr>\n",
       "    <tr>\n",
       "      <th>2</th>\n",
       "      <td>3</td>\n",
       "      <td>1</td>\n",
       "      <td>3</td>\n",
       "      <td>Heikkinen, Miss. Laina</td>\n",
       "      <td>female</td>\n",
       "      <td>26.0</td>\n",
       "      <td>0</td>\n",
       "      <td>0</td>\n",
       "      <td>STON/O2. 3101282</td>\n",
       "      <td>7.9250</td>\n",
       "      <td>S</td>\n",
       "      <td>Adult</td>\n",
       "      <td>Yes</td>\n",
       "      <td>Survived</td>\n",
       "      <td>Third Class</td>\n",
       "      <td>Southampton</td>\n",
       "    </tr>\n",
       "    <tr>\n",
       "      <th>3</th>\n",
       "      <td>4</td>\n",
       "      <td>1</td>\n",
       "      <td>1</td>\n",
       "      <td>Futrelle, Mrs. Jacques Heath (Lily May Peel)</td>\n",
       "      <td>female</td>\n",
       "      <td>35.0</td>\n",
       "      <td>1</td>\n",
       "      <td>0</td>\n",
       "      <td>113803</td>\n",
       "      <td>53.1000</td>\n",
       "      <td>S</td>\n",
       "      <td>Adult</td>\n",
       "      <td>Yes</td>\n",
       "      <td>Survived</td>\n",
       "      <td>First Class</td>\n",
       "      <td>Southampton</td>\n",
       "    </tr>\n",
       "    <tr>\n",
       "      <th>4</th>\n",
       "      <td>5</td>\n",
       "      <td>0</td>\n",
       "      <td>3</td>\n",
       "      <td>Allen, Mr. William Henry</td>\n",
       "      <td>male</td>\n",
       "      <td>35.0</td>\n",
       "      <td>0</td>\n",
       "      <td>0</td>\n",
       "      <td>373450</td>\n",
       "      <td>8.0500</td>\n",
       "      <td>S</td>\n",
       "      <td>Adult</td>\n",
       "      <td>No</td>\n",
       "      <td>Died</td>\n",
       "      <td>Third Class</td>\n",
       "      <td>Southampton</td>\n",
       "    </tr>\n",
       "  </tbody>\n",
       "</table>\n",
       "</div>"
      ],
      "text/plain": [
       "   PassengerId  Survived  Pclass  \\\n",
       "0            1         0       3   \n",
       "1            2         1       1   \n",
       "2            3         1       3   \n",
       "3            4         1       1   \n",
       "4            5         0       3   \n",
       "\n",
       "                                                Name     Sex   Age  SibSp  \\\n",
       "0                            Braund, Mr. Owen Harris    male  22.0      1   \n",
       "1  Cumings, Mrs. John Bradley (Florence Briggs Th...  female  38.0      1   \n",
       "2                             Heikkinen, Miss. Laina  female  26.0      0   \n",
       "3       Futrelle, Mrs. Jacques Heath (Lily May Peel)  female  35.0      1   \n",
       "4                           Allen, Mr. William Henry    male  35.0      0   \n",
       "\n",
       "   Parch            Ticket     Fare Embarked AgeGroup WomanChild  \\\n",
       "0      0         A/5 21171   7.2500        S    Adult         No   \n",
       "1      0          PC 17599  71.2833        C    Adult        Yes   \n",
       "2      0  STON/O2. 3101282   7.9250        S    Adult        Yes   \n",
       "3      0            113803  53.1000        S    Adult        Yes   \n",
       "4      0            373450   8.0500        S    Adult         No   \n",
       "\n",
       "  Survival_Status        Class        Ports  \n",
       "0            Died  Third Class  Southampton  \n",
       "1        Survived  First Class    Cherbourg  \n",
       "2        Survived  Third Class  Southampton  \n",
       "3        Survived  First Class  Southampton  \n",
       "4            Died  Third Class  Southampton  "
      ]
     },
     "execution_count": 27,
     "metadata": {},
     "output_type": "execute_result"
    }
   ],
   "source": [
    "titanic_data_frame.head()"
   ]
  },
  {
   "cell_type": "markdown",
   "metadata": {},
   "source": [
    "<h2 align=\"center\">SECTION 4: DATA EXPLORATION</h2>"
   ]
  },
  {
   "cell_type": "markdown",
   "metadata": {},
   "source": [
    "<h3> Analyzing Relationships</h3>"
   ]
  },
  {
   "cell_type": "markdown",
   "metadata": {},
   "source": [
    "To better understand the data, I would like to have a better understanding of the passenger demographics.I would like to explore the data set on the basis of the following dimensions:\n",
    "\n",
    "* gender\n",
    "* age group\n",
    "* class\n",
    "* port of embarkation\n",
    "* other observations"
   ]
  },
  {
   "cell_type": "markdown",
   "metadata": {},
   "source": [
    "**Based on Gender**"
   ]
  },
  {
   "cell_type": "markdown",
   "metadata": {},
   "source": [
    "I would like to explore how many male/female passengers were onboard"
   ]
  },
  {
   "cell_type": "code",
   "execution_count": 28,
   "metadata": {
    "collapsed": false
   },
   "outputs": [
    {
     "name": "stdout",
     "output_type": "stream",
     "text": [
      "Total Count based on gender:\n",
      "\n",
      "Male: 577\n",
      "Female: 314\n"
     ]
    }
   ],
   "source": [
    "##Find passengers data based on gender\n",
    "female_passengers_df=titanic_data_frame[titanic_data_frame['Sex']=='female']\n",
    "male_passengers_df=titanic_data_frame[titanic_data_frame['Sex']=='male']\n",
    "print \"Total Count based on gender:\"\n",
    "print \"\"\n",
    "print \"Male: %d\" %male_passengers_df['PassengerId'].count()\n",
    "print \"Female: %d\" %female_passengers_df['PassengerId'].count()"
   ]
  },
  {
   "cell_type": "code",
   "execution_count": 29,
   "metadata": {
    "collapsed": false
   },
   "outputs": [
    {
     "data": {
      "text/plain": [
       "<seaborn.axisgrid.FacetGrid at 0x9303f98>"
      ]
     },
     "execution_count": 29,
     "metadata": {},
     "output_type": "execute_result"
    },
    {
     "data": {
      "image/png": "[encoded data removed]",
      "text/plain": [
       "<matplotlib.figure.Figure at 0x9303f60>"
      ]
     },
     "metadata": {},
     "output_type": "display_data"
    }
   ],
   "source": [
    "gender_grid = sns.factorplot(\"Sex\",data=titanic_data_frame,kind=\"count\")\n",
    "## Modify facet grid for x/y axis text\n",
    "(gender_grid.set_axis_labels(\"Gender\", \"Count of Passengers\")\n",
    ".despine(left=True))"
   ]
  },
  {
   "cell_type": "markdown",
   "metadata": {},
   "source": [
    "From this data set it appears more male passengers were on board rather than female passengers."
   ]
  },
  {
   "cell_type": "markdown",
   "metadata": {},
   "source": [
    "**Based on age group **"
   ]
  },
  {
   "cell_type": "markdown",
   "metadata": {},
   "source": [
    "I want to determine what was the average age of passengers on board the Titanic. Probably later on in my analysis,I would help me to identify whether ages of the passenger had an impact on their survival."
   ]
  },
  {
   "cell_type": "code",
   "execution_count": 30,
   "metadata": {
    "collapsed": false
   },
   "outputs": [
    {
     "name": "stdout",
     "output_type": "stream",
     "text": [
      "Count of ages in each age group\n",
      "AgeGroup\n",
      "Adult      508\n",
      "Child      180\n",
      "Elderly     26\n",
      "NA         177\n",
      "Name: Age, dtype: int64\n",
      "\n",
      "Mean of ages in each age group\n",
      "AgeGroup\n",
      "Adult      33.912402\n",
      "Child      12.695389\n",
      "Elderly    65.096154\n",
      "NA          0.000000\n",
      "Name: Age, dtype: float64\n",
      "\n",
      "Maximum age of passenger onboard 80.000000\n",
      "\n",
      "Minimum age of passenger onboard 0.420000\n"
     ]
    }
   ],
   "source": [
    "print \"Count of ages in each age group\"\n",
    "print titanic_data_frame.groupby(\"AgeGroup\")['Age'].count()\n",
    "print \"\"\n",
    "print \"Mean of ages in each age group\"\n",
    "titanic_age_groups=titanic_data_frame.groupby(\"AgeGroup\")\n",
    "print titanic_age_groups['Age'].mean()\n",
    "print \"\"\n",
    "print \"Maximum age of passenger onboard %f\" %titanic_data_frame[\"Age\"].max()\n",
    "print \"\"\n",
    "minimum_age=titanic_data_frame.groupby(\"AgeGroup\").get_group('Child')['Age'].min()\n",
    "print \"Minimum age of passenger onboard %f\" %minimum_age"
   ]
  },
  {
   "cell_type": "markdown",
   "metadata": {},
   "source": [
    "From this data set it appears more adults are on board as compared to children, elderly, people with no ages given(NA). Average age of passengers in the case of adults is 33.91 years, for children is 12.70 years and for elderly it is 65.10 years. Oldest passenger on board(ignoring the missing ages) had age of 80 years and the youngest passenger(ignoring the missing ages) was of 0.42 years old."
   ]
  },
  {
   "cell_type": "markdown",
   "metadata": {},
   "source": [
    "To plot the distribution of ages as a histogram of the passengers onboard, I will set the range of the plot to 0.42(minimum age) and 80(maximum age) with 80 bins "
   ]
  },
  {
   "cell_type": "code",
   "execution_count": 31,
   "metadata": {
    "collapsed": false
   },
   "outputs": [
    {
     "data": {
      "text/plain": [
       "array([[<matplotlib.axes._subplots.AxesSubplot object at 0x0000000009303AC8>]], dtype=object)"
      ]
     },
     "execution_count": 31,
     "metadata": {},
     "output_type": "execute_result"
    },
    {
     "data": {
      "image/png": "[encoded data removed]",
      "text/plain": [
       "<matplotlib.figure.Figure at 0x94bc2b0>"
      ]
     },
     "metadata": {},
     "output_type": "display_data"
    }
   ],
   "source": [
    "titanic_data_frame.hist(\"Age\",range=[0.42, 80],bins=80)"
   ]
  },
  {
   "cell_type": "markdown",
   "metadata": {},
   "source": [
    "From this visualization it appears, the maximum passenges onboard were between the age group 20-35."
   ]
  },
  {
   "cell_type": "markdown",
   "metadata": {},
   "source": [
    "For my further analysis, I would like to group passengers into various groups using a generic function, which I could use for grouping passengers based on age group as well"
   ]
  },
  {
   "cell_type": "code",
   "execution_count": 32,
   "metadata": {
    "collapsed": true
   },
   "outputs": [],
   "source": [
    "def group_passengers(data,criteria):\n",
    "    return data.get_group(criteria)"
   ]
  },
  {
   "cell_type": "code",
   "execution_count": 33,
   "metadata": {
    "collapsed": false
   },
   "outputs": [],
   "source": [
    "#Group children, adult, elderly passengers\n",
    "children_passengers=group_passengers(titanic_age_groups,\"Child\")\n",
    "adult_passengers=group_passengers(titanic_age_groups,\"Adult\")\n",
    "elderly_passengers=group_passengers(titanic_age_groups,\"Elderly\")"
   ]
  },
  {
   "cell_type": "markdown",
   "metadata": {},
   "source": [
    "I would also like to explore the relationship between age group and the gender of the passengers from this dataset and determine any relationships present if any."
   ]
  },
  {
   "cell_type": "code",
   "execution_count": 34,
   "metadata": {
    "collapsed": false
   },
   "outputs": [],
   "source": [
    "def group_age_gender_passengers(male_passenger,female_passenger):\n",
    "    total_count = male_passenger[\"PassengerId\"].count()+female_passenger[\"PassengerId\"].count()\n",
    "    print \"Male:%f\" %((float)(male_passenger[\"PassengerId\"].count())/total_count)\n",
    "    print \"Female:%f\" %((float)(female_passenger[\"PassengerId\"].count())/total_count)"
   ]
  },
  {
   "cell_type": "code",
   "execution_count": 35,
   "metadata": {
    "collapsed": false
   },
   "outputs": [
    {
     "name": "stdout",
     "output_type": "stream",
     "text": [
      "Children Gender proportion\n",
      "Male:0.572222\n",
      "Female:0.427778\n",
      "\n",
      "Adult Gender proportion\n",
      "Male:0.645669\n",
      "Female:0.354331\n",
      "\n",
      "Elderly Gender proportion\n",
      "Male:0.846154\n",
      "Female:0.153846\n"
     ]
    }
   ],
   "source": [
    "male_child_passengers=group_passengers(children_passengers.groupby(\"Sex\"),\"male\")\n",
    "female_child_passengers=group_passengers(children_passengers.groupby(\"Sex\"),\"female\")\n",
    "\n",
    "print \"Children Gender proportion\"\n",
    "group_age_gender_passengers(male_child_passengers,female_child_passengers)\n",
    "\n",
    "adult_male_passengers=group_passengers(adult_passengers.groupby(\"Sex\"),\"male\")\n",
    "adult_female_passengers=group_passengers(adult_passengers.groupby(\"Sex\"),\"female\")\n",
    "\n",
    "print \"\"\n",
    "print \"Adult Gender proportion\"\n",
    "group_age_gender_passengers(adult_male_passengers,adult_female_passengers)\n",
    "\n",
    "elderly_male_passengers=group_passengers(elderly_passengers.groupby(\"Sex\"),\"male\")\n",
    "elderly_female_passengers=group_passengers(elderly_passengers.groupby(\"Sex\"),\"female\")\n",
    "\n",
    "print \"\"\n",
    "print \"Elderly Gender proportion\"\n",
    "group_age_gender_passengers(elderly_male_passengers,elderly_female_passengers)"
   ]
  },
  {
   "cell_type": "markdown",
   "metadata": {},
   "source": [
    "It is evident from these statistics, that count of male passengers of each age group had been more than female passengers onboard."
   ]
  },
  {
   "cell_type": "code",
   "execution_count": 36,
   "metadata": {
    "collapsed": false
   },
   "outputs": [
    {
     "data": {
      "image/png": "[encoded data removed]",
      "text/plain": [
       "<matplotlib.figure.Figure at 0xb7a2f98>"
      ]
     },
     "metadata": {},
     "output_type": "display_data"
    }
   ],
   "source": [
    "age_gender_grid = sns.factorplot(\"AgeGroup\", hue=\"Sex\",data=titanic_data_frame,kind=\"count\")"
   ]
  },
  {
   "cell_type": "markdown",
   "metadata": {},
   "source": [
    "**Based on class **"
   ]
  },
  {
   "cell_type": "markdown",
   "metadata": {},
   "source": [
    "The Titanic's passengers were divided into three separate classes, determined not only by the price of their ticket but by wealth and social class: those travelling in first class, most of them the wealthiest passengers on board, included prominent members of the upper class, businessmen, politicians, high-ranking military personnel, industrialists, bankers, entertainers, socialites, and professional athletes. Second class passengers were middle class travellers and included professors, authors, clergymen, and tourists. Third class or steerage passengers were primarily emigrants moving to the United States and Canada.[5]"
   ]
  },
  {
   "cell_type": "code",
   "execution_count": 37,
   "metadata": {
    "collapsed": false
   },
   "outputs": [
    {
     "name": "stdout",
     "output_type": "stream",
     "text": [
      "Count of passengers in each class\n",
      "Class\n",
      "First Class     216\n",
      "Second Class    184\n",
      "Third Class     491\n",
      "Name: PassengerId, dtype: int64\n"
     ]
    }
   ],
   "source": [
    "print \"Count of passengers in each class\"\n",
    "print titanic_data_frame.groupby(\"Class\")['PassengerId'].count()"
   ]
  },
  {
   "cell_type": "code",
   "execution_count": 39,
   "metadata": {
    "collapsed": false
   },
   "outputs": [],
   "source": [
    "#Define grouping criteria on the basis of \"Pclass\"\n",
    "passenger_class_group=titanic_data_frame.groupby(\"Pclass\")\n",
    "#Get class 1 passengers\n",
    "passenger_class1= group_passengers(passenger_class_group,1)\n",
    "#Get class 2 passengers\n",
    "passenger_class2= group_passengers(passenger_class_group,2)\n",
    "#Get class 3 passengers\n",
    "passenger_class3= group_passengers(passenger_class_group,3)"
   ]
  },
  {
   "cell_type": "code",
   "execution_count": 40,
   "metadata": {
    "collapsed": false
   },
   "outputs": [],
   "source": [
    "def compute_mean(data_set,total_data,criteria):\n",
    "    return ((float)(data_set[criteria].count())/total_data[criteria].count())"
   ]
  },
  {
   "cell_type": "code",
   "execution_count": 41,
   "metadata": {
    "collapsed": false
   },
   "outputs": [
    {
     "name": "stdout",
     "output_type": "stream",
     "text": [
      "Mean count of passengers per Pclass\n",
      "First Class: 0.242424\n",
      "Second Class: 0.206510\n",
      "Third Class: 0.551066\n"
     ]
    }
   ],
   "source": [
    "print \"Mean count of passengers per Pclass\"\n",
    "print \"First Class: %f\" %compute_mean(passenger_class1,titanic_data_frame,\"PassengerId\")\n",
    "print \"Second Class: %f\" %compute_mean(passenger_class2,titanic_data_frame,\"PassengerId\")\n",
    "print \"Third Class: %f\" %compute_mean(passenger_class3,titanic_data_frame,\"PassengerId\")"
   ]
  },
  {
   "cell_type": "markdown",
   "metadata": {},
   "source": [
    "From this analysis, it is clear that the maximum number of passengers that were onboard on Titanic, were travelling in Class 3. Corresponding visualization for the same:"
   ]
  },
  {
   "cell_type": "code",
   "execution_count": 42,
   "metadata": {
    "collapsed": false
   },
   "outputs": [
    {
     "data": {
      "text/plain": [
       "<seaborn.axisgrid.FacetGrid at 0xbde7d68>"
      ]
     },
     "execution_count": 42,
     "metadata": {},
     "output_type": "execute_result"
    },
    {
     "data": {
      "image/png": "[encoded data removed]",
      "text/plain": [
       "<matplotlib.figure.Figure at 0xbde7a90>"
      ]
     },
     "metadata": {},
     "output_type": "display_data"
    }
   ],
   "source": [
    "class_grid = sns.factorplot(\"Class\",data=titanic_data_frame,kind=\"count\")\n",
    "## Modify facet grid for x/y axis text\n",
    "(class_grid.set_axis_labels(\"Class\", \"Count of Passengers\")\n",
    ".despine(left=True))"
   ]
  },
  {
   "cell_type": "markdown",
   "metadata": {},
   "source": [
    "From these statistics/visualization, it appears maximum passengers were travelling Class 3 which were for the passengers having below the normal socio-economic conditions."
   ]
  },
  {
   "cell_type": "markdown",
   "metadata": {},
   "source": [
    "Here I would like to calculate the mean count of passengers based on class and the age group"
   ]
  },
  {
   "cell_type": "code",
   "execution_count": 43,
   "metadata": {
    "collapsed": true
   },
   "outputs": [],
   "source": [
    "def age_class_grouping_passengers(child_pclass_passengers,adult_pclass_passengers,elderly_pclass_passengers):\n",
    "    print \"Children Passengers: %f\" %compute_mean(child_pclass_passengers,children_passengers,\"PassengerId\")\n",
    "    print \"Adult Passengers: %f\" %compute_mean(adult_pclass_passengers,adult_passengers,\"PassengerId\")\n",
    "    print \"Elderly Passengers: %f\" %compute_mean(elderly_pclass_passengers,elderly_passengers,\"PassengerId\") "
   ]
  },
  {
   "cell_type": "code",
   "execution_count": 44,
   "metadata": {
    "collapsed": false
   },
   "outputs": [
    {
     "name": "stdout",
     "output_type": "stream",
     "text": [
      "Mean count per age group for Class 1\n",
      "Children Passengers: 0.116667\n",
      "Adult Passengers: 0.291339\n",
      "Elderly Passengers: 0.653846\n",
      "\n",
      "Mean count per age group for Class 2\n",
      "Children Passengers: 0.194444\n",
      "Adult Passengers: 0.263780\n",
      "Elderly Passengers: 0.153846\n",
      "\n",
      "Mean count per age group for Class 3\n",
      "Children Passengers: 0.688889\n",
      "Adult Passengers: 0.444882\n",
      "Elderly Passengers: 0.192308\n"
     ]
    }
   ],
   "source": [
    "#Define grouping criteria on the basis of \"AgeGroup\" for passenger in each class\n",
    "passenger_class1_age_group=passenger_class1.groupby(\"AgeGroup\")\n",
    "adult_class1_passengers=group_passengers(passenger_class1_age_group,\"Adult\")\n",
    "children_class1_passengers=group_passengers(passenger_class1_age_group,\"Child\")\n",
    "elderly_class1_passengers=group_passengers(passenger_class1_age_group,\"Elderly\")\n",
    "print \"Mean count per age group for Class 1\"\n",
    "age_class_grouping_passengers(children_class1_passengers,adult_class1_passengers,elderly_class1_passengers)\n",
    "print \"\"\n",
    "\n",
    "passenger_class2_age_group=passenger_class2.groupby(\"AgeGroup\")\n",
    "adult_class2_passengers=group_passengers(passenger_class2_age_group,\"Adult\")\n",
    "children_class2_passengers=group_passengers(passenger_class2_age_group,\"Child\")\n",
    "elderly_class2_passengers=group_passengers(passenger_class2_age_group,\"Elderly\")\n",
    "\n",
    "print \"Mean count per age group for Class 2\"\n",
    "age_class_grouping_passengers(children_class2_passengers,adult_class2_passengers,elderly_class2_passengers)\n",
    "print \"\"\n",
    "\n",
    "passenger_class3_age_group=passenger_class3.groupby(\"AgeGroup\")\n",
    "adult_class3_passengers=group_passengers(passenger_class3_age_group,\"Adult\")\n",
    "children_class3_passengers=group_passengers(passenger_class3_age_group,\"Child\")\n",
    "elderly_class3_passengers=group_passengers(passenger_class3_age_group,\"Elderly\")\n",
    "\n",
    "print \"Mean count per age group for Class 3\"\n",
    "age_class_grouping_passengers(children_class3_passengers,adult_class3_passengers,elderly_class3_passengers)"
   ]
  },
  {
   "cell_type": "code",
   "execution_count": 45,
   "metadata": {
    "collapsed": false
   },
   "outputs": [
    {
     "data": {
      "image/png": "[encoded data removed]",
      "text/plain": [
       "<matplotlib.figure.Figure at 0xbdf72b0>"
      ]
     },
     "metadata": {},
     "output_type": "display_data"
    }
   ],
   "source": [
    "class_age_grid = sns.factorplot(\"Class\", hue=\"AgeGroup\",data=titanic_data_frame,kind=\"count\")"
   ]
  },
  {
   "cell_type": "markdown",
   "metadata": {},
   "source": [
    "From this data it is evident that the maximum number of passengers in the age group \"Adult\" were in Class 3(with average 0.444882), \"Child\" were also in Class 3 (with average 0.688889) and elderly were in Class 1(with average 0.033465)"
   ]
  },
  {
   "cell_type": "markdown",
   "metadata": {},
   "source": [
    "I would also like to explore the proportion of female passengers versus the male passengers in each class."
   ]
  },
  {
   "cell_type": "code",
   "execution_count": 46,
   "metadata": {
    "collapsed": false
   },
   "outputs": [],
   "source": [
    "def calculate_male_female_proportion_class(data):\n",
    "    class_gender_array=data.groupby(\"Sex\")[\"PassengerId\"].count()\n",
    "    male_count= class_gender_array.get(\"male\")\n",
    "    female_count=class_gender_array.get(\"female\")\n",
    "    print \"Male: %f\" %((float(male_count))/(male_count+female_count))\n",
    "    print \"Female: %f\" %((float(female_count))/(male_count+female_count))"
   ]
  },
  {
   "cell_type": "code",
   "execution_count": 47,
   "metadata": {
    "collapsed": false
   },
   "outputs": [
    {
     "name": "stdout",
     "output_type": "stream",
     "text": [
      "Gender proportions per class\n",
      "First Class\n",
      "Male: 0.564815\n",
      "Female: 0.435185\n",
      "\n",
      "Second Class\n",
      "Male: 0.586957\n",
      "Female: 0.413043\n",
      "\n",
      "Third Class\n",
      "Male: 0.706721\n",
      "Female: 0.293279\n"
     ]
    }
   ],
   "source": [
    "print \"Gender proportions per class\"\n",
    "print \"First Class\"\n",
    "calculate_male_female_proportion_class(passenger_class1)\n",
    "print \"\"\n",
    "print \"Second Class\"\n",
    "calculate_male_female_proportion_class(passenger_class2)\n",
    "print \"\"\n",
    "print \"Third Class\"\n",
    "calculate_male_female_proportion_class(passenger_class3)"
   ]
  },
  {
   "cell_type": "code",
   "execution_count": 48,
   "metadata": {
    "collapsed": false
   },
   "outputs": [
    {
     "data": {
      "image/png": "[encoded data removed]",
      "text/plain": [
       "<matplotlib.figure.Figure at 0xc527358>"
      ]
     },
     "metadata": {},
     "output_type": "display_data"
    }
   ],
   "source": [
    "class_age_grid = sns.factorplot(\"Class\", hue=\"Sex\",data=titanic_data_frame,kind=\"count\")"
   ]
  },
  {
   "cell_type": "markdown",
   "metadata": {},
   "source": [
    "As it is already evident that the maximum number of passengers in the data set are male, from this visualization it is clear as well that the proportion of male passengers in each class had between significantly higher than the female passengers. The maximum difference in proportions had been in Class 3 with 0.706721 males versus 0.293279 female passengers"
   ]
  },
  {
   "cell_type": "markdown",
   "metadata": {},
   "source": [
    "**Based on Port of Embarkation**"
   ]
  },
  {
   "cell_type": "markdown",
   "metadata": {},
   "source": [
    "For my analysis I would like to identify if the boarding point (or the port of embarkation) had any impact on the passenger's survival. So I would like to group passengers on the basis of their port of embarkation as well."
   ]
  },
  {
   "cell_type": "code",
   "execution_count": 50,
   "metadata": {
    "collapsed": false
   },
   "outputs": [
    {
     "name": "stdout",
     "output_type": "stream",
     "text": [
      "Passengers count for each port\n",
      "Ports\n",
      "Cherbourg      168\n",
      "Queenstown      77\n",
      "Southampton    644\n",
      "Name: PassengerId, dtype: int64\n"
     ]
    }
   ],
   "source": [
    "#Group passengers based on port of embarkation\n",
    "port_passengers=titanic_data_frame.groupby(\"Ports\")\n",
    "print \"Passengers count for each port\" \n",
    "print port_passengers[\"PassengerId\"].count()"
   ]
  },
  {
   "cell_type": "markdown",
   "metadata": {},
   "source": [
    "Reusing the above defined funtion for grouping passengers based on criteria and computing mean, I can do the same for classifying passengers based on their port of Embarkation i.e.Cherbourg, Queenstown, Southampton"
   ]
  },
  {
   "cell_type": "code",
   "execution_count": 51,
   "metadata": {
    "collapsed": false
   },
   "outputs": [],
   "source": [
    "#Separate dataframes for each port\n",
    "port_s_passengers=group_passengers(port_passengers,\"Southampton\")\n",
    "port_q_passengers=group_passengers(port_passengers,\"Queenstown\")\n",
    "port_c_passengers=group_passengers(port_passengers,\"Cherbourg\")"
   ]
  },
  {
   "cell_type": "markdown",
   "metadata": {},
   "source": [
    "Here I reuse the above function to calculate mean probability of passengers embarking from each port"
   ]
  },
  {
   "cell_type": "code",
   "execution_count": 52,
   "metadata": {
    "collapsed": false
   },
   "outputs": [
    {
     "name": "stdout",
     "output_type": "stream",
     "text": [
      "Average number of passengers for each port\n",
      "Cherbourg 0.188552\n",
      "Queenstown 0.086420\n",
      "Southampton 0.722783\n"
     ]
    }
   ],
   "source": [
    "print \"Average number of passengers for each port\"\n",
    "print \"Cherbourg %f\" %compute_mean(port_c_passengers,titanic_data_frame,\"PassengerId\")\n",
    "print \"Queenstown %f\" %compute_mean(port_q_passengers,titanic_data_frame,\"PassengerId\")\n",
    "print \"Southampton %f\" %compute_mean(port_s_passengers,titanic_data_frame,\"PassengerId\")"
   ]
  },
  {
   "cell_type": "markdown",
   "metadata": {},
   "source": [
    "Corresponding visualization for the same"
   ]
  },
  {
   "cell_type": "code",
   "execution_count": 53,
   "metadata": {
    "collapsed": false
   },
   "outputs": [
    {
     "data": {
      "text/plain": [
       "<seaborn.axisgrid.FacetGrid at 0xcd336a0>"
      ]
     },
     "execution_count": 53,
     "metadata": {},
     "output_type": "execute_result"
    },
    {
     "data": {
      "image/png": "[encoded data removed]",
      "text/plain": [
       "<matplotlib.figure.Figure at 0xcd336d8>"
      ]
     },
     "metadata": {},
     "output_type": "display_data"
    }
   ],
   "source": [
    "port_embark_fg = sns.factorplot(\"Ports\",data=titanic_data_frame,kind=\"count\")\n",
    "## Modify facet grid(port_embark_fg) for x/y axis text\n",
    "(port_embark_fg.set_axis_labels(\"Port of Embarkation\", \"Count of Passengers\")\n",
    ".despine(left=True))"
   ]
  },
  {
   "cell_type": "markdown",
   "metadata": {},
   "source": [
    "From this analysis it is clear that the maximum number of passengers who embarked in Titanic were from Southampton."
   ]
  },
  {
   "cell_type": "markdown",
   "metadata": {},
   "source": [
    "**Based on Survival**"
   ]
  },
  {
   "cell_type": "markdown",
   "metadata": {},
   "source": [
    "For my further analysis and for answering the above mentioned questions, I would like to keep data sets of surviving and non surviving passengers seperately."
   ]
  },
  {
   "cell_type": "code",
   "execution_count": 54,
   "metadata": {
    "collapsed": false
   },
   "outputs": [
    {
     "data": {
      "text/html": [
       "<div>\n",
       "<table border=\"1\" class=\"dataframe\">\n",
       "  <thead>\n",
       "    <tr style=\"text-align: right;\">\n",
       "      <th></th>\n",
       "      <th>PassengerId</th>\n",
       "      <th>Survived</th>\n",
       "      <th>Pclass</th>\n",
       "      <th>Name</th>\n",
       "      <th>Sex</th>\n",
       "      <th>Age</th>\n",
       "      <th>SibSp</th>\n",
       "      <th>Parch</th>\n",
       "      <th>Ticket</th>\n",
       "      <th>Fare</th>\n",
       "      <th>Embarked</th>\n",
       "      <th>AgeGroup</th>\n",
       "      <th>WomanChild</th>\n",
       "      <th>Survival_Status</th>\n",
       "      <th>Class</th>\n",
       "      <th>Ports</th>\n",
       "    </tr>\n",
       "  </thead>\n",
       "  <tbody>\n",
       "    <tr>\n",
       "      <th>1</th>\n",
       "      <td>2</td>\n",
       "      <td>1</td>\n",
       "      <td>1</td>\n",
       "      <td>Cumings, Mrs. John Bradley (Florence Briggs Th...</td>\n",
       "      <td>female</td>\n",
       "      <td>38.0</td>\n",
       "      <td>1</td>\n",
       "      <td>0</td>\n",
       "      <td>PC 17599</td>\n",
       "      <td>71.2833</td>\n",
       "      <td>C</td>\n",
       "      <td>Adult</td>\n",
       "      <td>Yes</td>\n",
       "      <td>Survived</td>\n",
       "      <td>First Class</td>\n",
       "      <td>Cherbourg</td>\n",
       "    </tr>\n",
       "    <tr>\n",
       "      <th>2</th>\n",
       "      <td>3</td>\n",
       "      <td>1</td>\n",
       "      <td>3</td>\n",
       "      <td>Heikkinen, Miss. Laina</td>\n",
       "      <td>female</td>\n",
       "      <td>26.0</td>\n",
       "      <td>0</td>\n",
       "      <td>0</td>\n",
       "      <td>STON/O2. 3101282</td>\n",
       "      <td>7.9250</td>\n",
       "      <td>S</td>\n",
       "      <td>Adult</td>\n",
       "      <td>Yes</td>\n",
       "      <td>Survived</td>\n",
       "      <td>Third Class</td>\n",
       "      <td>Southampton</td>\n",
       "    </tr>\n",
       "    <tr>\n",
       "      <th>3</th>\n",
       "      <td>4</td>\n",
       "      <td>1</td>\n",
       "      <td>1</td>\n",
       "      <td>Futrelle, Mrs. Jacques Heath (Lily May Peel)</td>\n",
       "      <td>female</td>\n",
       "      <td>35.0</td>\n",
       "      <td>1</td>\n",
       "      <td>0</td>\n",
       "      <td>113803</td>\n",
       "      <td>53.1000</td>\n",
       "      <td>S</td>\n",
       "      <td>Adult</td>\n",
       "      <td>Yes</td>\n",
       "      <td>Survived</td>\n",
       "      <td>First Class</td>\n",
       "      <td>Southampton</td>\n",
       "    </tr>\n",
       "    <tr>\n",
       "      <th>8</th>\n",
       "      <td>9</td>\n",
       "      <td>1</td>\n",
       "      <td>3</td>\n",
       "      <td>Johnson, Mrs. Oscar W (Elisabeth Vilhelmina Berg)</td>\n",
       "      <td>female</td>\n",
       "      <td>27.0</td>\n",
       "      <td>0</td>\n",
       "      <td>2</td>\n",
       "      <td>347742</td>\n",
       "      <td>11.1333</td>\n",
       "      <td>S</td>\n",
       "      <td>Adult</td>\n",
       "      <td>Yes</td>\n",
       "      <td>Survived</td>\n",
       "      <td>Third Class</td>\n",
       "      <td>Southampton</td>\n",
       "    </tr>\n",
       "    <tr>\n",
       "      <th>9</th>\n",
       "      <td>10</td>\n",
       "      <td>1</td>\n",
       "      <td>2</td>\n",
       "      <td>Nasser, Mrs. Nicholas (Adele Achem)</td>\n",
       "      <td>female</td>\n",
       "      <td>14.0</td>\n",
       "      <td>1</td>\n",
       "      <td>0</td>\n",
       "      <td>237736</td>\n",
       "      <td>30.0708</td>\n",
       "      <td>C</td>\n",
       "      <td>Child</td>\n",
       "      <td>Yes</td>\n",
       "      <td>Survived</td>\n",
       "      <td>Second Class</td>\n",
       "      <td>Cherbourg</td>\n",
       "    </tr>\n",
       "  </tbody>\n",
       "</table>\n",
       "</div>"
      ],
      "text/plain": [
       "   PassengerId  Survived  Pclass  \\\n",
       "1            2         1       1   \n",
       "2            3         1       3   \n",
       "3            4         1       1   \n",
       "8            9         1       3   \n",
       "9           10         1       2   \n",
       "\n",
       "                                                Name     Sex   Age  SibSp  \\\n",
       "1  Cumings, Mrs. John Bradley (Florence Briggs Th...  female  38.0      1   \n",
       "2                             Heikkinen, Miss. Laina  female  26.0      0   \n",
       "3       Futrelle, Mrs. Jacques Heath (Lily May Peel)  female  35.0      1   \n",
       "8  Johnson, Mrs. Oscar W (Elisabeth Vilhelmina Berg)  female  27.0      0   \n",
       "9                Nasser, Mrs. Nicholas (Adele Achem)  female  14.0      1   \n",
       "\n",
       "   Parch            Ticket     Fare Embarked AgeGroup WomanChild  \\\n",
       "1      0          PC 17599  71.2833        C    Adult        Yes   \n",
       "2      0  STON/O2. 3101282   7.9250        S    Adult        Yes   \n",
       "3      0            113803  53.1000        S    Adult        Yes   \n",
       "8      2            347742  11.1333        S    Adult        Yes   \n",
       "9      0            237736  30.0708        C    Child        Yes   \n",
       "\n",
       "  Survival_Status         Class        Ports  \n",
       "1        Survived   First Class    Cherbourg  \n",
       "2        Survived   Third Class  Southampton  \n",
       "3        Survived   First Class  Southampton  \n",
       "8        Survived   Third Class  Southampton  \n",
       "9        Survived  Second Class    Cherbourg  "
      ]
     },
     "execution_count": 54,
     "metadata": {},
     "output_type": "execute_result"
    }
   ],
   "source": [
    "## split data frames into groups of passengers who survived\n",
    "surviving_passengers_df =titanic_data_frame[titanic_data_frame['Survival_Status']=='Survived']\n",
    "## split data frames into groups of passengers who did not survive\n",
    "non_surviving_passengers_df =titanic_data_frame[titanic_data_frame['Survival_Status']=='Died']\n",
    "surviving_passengers_df.head()"
   ]
  },
  {
   "cell_type": "markdown",
   "metadata": {},
   "source": [
    "Visualization of passengers how many passengers survived and how many did not"
   ]
  },
  {
   "cell_type": "code",
   "execution_count": 55,
   "metadata": {
    "collapsed": false
   },
   "outputs": [
    {
     "data": {
      "text/plain": [
       "<seaborn.axisgrid.FacetGrid at 0xc4a9cf8>"
      ]
     },
     "execution_count": 55,
     "metadata": {},
     "output_type": "execute_result"
    },
    {
     "data": {
      "image/png": "[encoded data removed]",
      "text/plain": [
       "<matplotlib.figure.Figure at 0xc4a9ac8>"
      ]
     },
     "metadata": {},
     "output_type": "display_data"
    }
   ],
   "source": [
    "## Factor plot to show count of passengers who survived\n",
    "survival_fg = sns.factorplot(x=\"Survival_Status\",data=titanic_data_frame,kind=\"count\")\n",
    "## Modify facet grid for x/y axis text\n",
    "(survival_fg.set_axis_labels(\"Survival Rate\", \"Count of Passengers\")\n",
    ".despine(left=True))"
   ]
  },
  {
   "cell_type": "code",
   "execution_count": 57,
   "metadata": {
    "collapsed": false
   },
   "outputs": [
    {
     "name": "stdout",
     "output_type": "stream",
     "text": [
      "Survival count\n",
      "\n",
      "Survived: 342\n",
      "Died: 549\n",
      "Survival proportion:0.383838\n"
     ]
    }
   ],
   "source": [
    "##Calculate count of passengers who survived and who did not\n",
    "surviving_passengers_count = surviving_passengers_df['PassengerId'].count()\n",
    "print \"Survival count\"\n",
    "print \"\"\n",
    "print \"Survived: %d\" %surviving_passengers_count\n",
    "non_surviving_passengers_count = non_surviving_passengers_df['PassengerId'].count()\n",
    "print \"Died: %d\" %non_surviving_passengers_count\n",
    "\n",
    "print \"Survival proportion:%f\" %(float(surviving_passengers_count)/(non_surviving_passengers_count+surviving_passengers_count))"
   ]
  },
  {
   "cell_type": "markdown",
   "metadata": {},
   "source": [
    "From these statistics, its visible that from the total count of passengers i.e. 891 in the dataset, only a small proportion of 0.383838 passengers had chances of survival."
   ]
  },
  {
   "cell_type": "markdown",
   "metadata": {},
   "source": [
    "<h3>Other Observations</h3>"
   ]
  },
  {
   "cell_type": "markdown",
   "metadata": {},
   "source": [
    "**Based on Ticket Number **"
   ]
  },
  {
   "cell_type": "markdown",
   "metadata": {},
   "source": [
    "After viewing the entire Titanic data set, I realized that there are multiple passengers having the same ticket number. It could be that these passengers may be family members. But there are instances when the SibSp(sibling and spouse) column and  Parch(parent and child) columns have 0 values for passengers having same ticket number. But there may be more than passenger having more than 1 same ticket number. \n",
    "\n",
    "So it could be friends, girlfriends, cousins, servants, step family members, nannies etc that may be travelling with the main passenger and since they are not immediate family member so the Parch and SibSp have 0 values. Since it may not be necessary that servants etc would be travelling in the same cabin as their master, I want to analyze how many people who were travelling as a group/with the same ticket number that had lost more than 1 member in that group."
   ]
  },
  {
   "cell_type": "code",
   "execution_count": 58,
   "metadata": {
    "collapsed": false
   },
   "outputs": [
    {
     "name": "stdout",
     "output_type": "stream",
     "text": [
      "Passenger groups count 681\n",
      "Families impacted by the disaster 470\n",
      "\n",
      "Proportion of passenger groups travelling together who:\n",
      "\n",
      "Lost member(s) in disaster: 0.690162\n",
      "Did not loose member(s) in disaster: 0.309838\n"
     ]
    }
   ],
   "source": [
    "#Group passengers based on the same ticket number\n",
    "same_ticket_passengers=titanic_data_frame.groupby('Ticket')\n",
    "#calculate passenger group count\n",
    "same_ticket_passengers_total= same_ticket_passengers.ngroups\n",
    "print \"Passenger groups count %d\" %same_ticket_passengers_total\n",
    "#count number of passengers in each group\n",
    "ticket_total_passenger_count=same_ticket_passengers['PassengerId'].count()\n",
    "passenger_group_non_surviving_count=0\n",
    "#Iterate passenger group to calculate count of passengers if survival count in each group < 1\n",
    "for ticket_number,data_point in same_ticket_passengers:\n",
    "    passengers_count=ticket_total_passenger_count.get(ticket_number)\n",
    "    surviving_ticket_passengers_count= data_point[data_point['Survival_Status']=='Survived']['PassengerId'].count()\n",
    "    survival_proportion = surviving_ticket_passengers_count/passengers_count;\n",
    "    if survival_proportion<1:\n",
    "        passenger_group_non_surviving_count+=1\n",
    "print \"Families impacted by the disaster %d\" %passenger_group_non_surviving_count\n",
    "print \"\"\n",
    "print \"Proportion of passenger groups travelling together who:\"\n",
    "print \"\"\n",
    "print \"Lost member(s) in disaster: %f\" %((float)(passenger_group_non_surviving_count)/same_ticket_passengers_total)\n",
    "print \"Did not loose member(s) in disaster: %f\"  %((float)(same_ticket_passengers_total-passenger_group_non_surviving_count)/same_ticket_passengers_total)"
   ]
  },
  {
   "cell_type": "markdown",
   "metadata": {},
   "source": [
    "From these statistics it is evident, that about 0.690162 proportion of families/passenger groups were impacted by the disaster as they had lost one or more than one member of the same ticket group in the disaster which explains the calamity of the disaster. This shows at least 69% of passenger groups travelling in the Titanic had lost a loved one/person they knew in the ship wreck."
   ]
  },
  {
   "cell_type": "markdown",
   "metadata": {},
   "source": [
    "**Women and Children first **"
   ]
  },
  {
   "cell_type": "markdown",
   "metadata": {},
   "source": [
    "I want to calculate proportion for woman/child passengers vs the male passengers to understand if it had any impact"
   ]
  },
  {
   "cell_type": "code",
   "execution_count": 59,
   "metadata": {
    "collapsed": false
   },
   "outputs": [
    {
     "name": "stdout",
     "output_type": "stream",
     "text": [
      "Woman Child passengers\n",
      "Count: 417\n",
      "Proportion 0.468013\n",
      "\n",
      "Male passengers\n",
      "Count: 474\n",
      "Proportion 0.531987\n"
     ]
    }
   ],
   "source": [
    "#Group womanchild passengers and men passengers\n",
    "woman_child_passengers=group_passengers(titanic_data_frame.groupby(\"WomanChild\"),\"Yes\")\n",
    "men_passengers=group_passengers(titanic_data_frame.groupby(\"WomanChild\"),\"No\")\n",
    "print \"Woman Child passengers\"\n",
    "print \"Count: %d\" %woman_child_passengers['PassengerId'].count()\n",
    "print \"Proportion %f\" %compute_mean(woman_child_passengers,titanic_data_frame,\"PassengerId\")\n",
    "print \"\"\n",
    "print \"Male passengers\"\n",
    "print \"Count: %d\" %men_passengers['PassengerId'].count()\n",
    "print \"Proportion %f\" %compute_mean(men_passengers,titanic_data_frame,\"PassengerId\")"
   ]
  },
  {
   "cell_type": "markdown",
   "metadata": {},
   "source": [
    "From these statistics it appears that around 47% of passengers onboard the Titanic were women or children and around 53% were men."
   ]
  },
  {
   "cell_type": "markdown",
   "metadata": {},
   "source": [
    "<h3>Investigating survival factors</h3>"
   ]
  },
  {
   "cell_type": "markdown",
   "metadata": {},
   "source": [
    "Here I would like to answer the questions I put up in **Section 2: Questions** of this report which probably governed passenger's survival namely :\n",
    " * individual passenger traits\n",
    " * passenger's travelling conditions\n",
    " * passenger's company"
   ]
  },
  {
   "cell_type": "markdown",
   "metadata": {},
   "source": [
    "Let us start with exploring the answers to these questions"
   ]
  },
  {
   "cell_type": "markdown",
   "metadata": {},
   "source": [
    "<h4>1. Individual Passenger Traits</h4>"
   ]
  },
  {
   "cell_type": "markdown",
   "metadata": {},
   "source": [
    "** Based on Gender**"
   ]
  },
  {
   "cell_type": "markdown",
   "metadata": {},
   "source": [
    "I want to investigate whether the gender of the passengers played any part in survival of the passengers. Can I reach a conclusion on the basis of this data set whether males or females had more chances of survival in the disaster"
   ]
  },
  {
   "cell_type": "markdown",
   "metadata": {},
   "source": [
    "Comparison count of males/females who survived"
   ]
  },
  {
   "cell_type": "markdown",
   "metadata": {},
   "source": [
    "Calculate count of passengers on board who survived and who did not based on gender:"
   ]
  },
  {
   "cell_type": "code",
   "execution_count": 61,
   "metadata": {
    "collapsed": true
   },
   "outputs": [],
   "source": [
    "#Function to group surviving/non surviving passengers based on gender\n",
    "def passenger_survival(data,factor,value):\n",
    "    return data[data[factor]==value]"
   ]
  },
  {
   "cell_type": "code",
   "execution_count": 63,
   "metadata": {
    "collapsed": false
   },
   "outputs": [
    {
     "name": "stdout",
     "output_type": "stream",
     "text": [
      "Survival count based on gender:\n",
      "\n",
      "Survived:\n",
      "Male: 109\n",
      "Female: 233\n",
      "\n",
      "Died:\n",
      "Male: 468\n",
      "Female: 81\n"
     ]
    }
   ],
   "source": [
    "##Find surviving passengers data frame based on gender\n",
    "male_surviving_passengers_df = passenger_survival(surviving_passengers_df,'Sex','male')\n",
    "female_surviving_passengers_df = passenger_survival(surviving_passengers_df,'Sex','female')\n",
    "print \"Survival count based on gender:\"\n",
    "print \"\"\n",
    "print \"Survived:\"\n",
    "print \"Male: %d\" %male_surviving_passengers_df['PassengerId'].count()\n",
    "print \"Female: %d\" %female_surviving_passengers_df['PassengerId'].count()\n",
    "\n",
    "##Find non-surviving passengers df based on gender\n",
    "male_non_surviving_passengers_df = passenger_survival(non_surviving_passengers_df,'Sex','male')\n",
    "female_non_surviving_passengers_df = passenger_survival(non_surviving_passengers_df,'Sex','female')\n",
    "print \"\"\n",
    "print \"Died:\"\n",
    "print \"Male: %d\" %male_non_surviving_passengers_df['PassengerId'].count()\n",
    "print \"Female: %d\" %female_non_surviving_passengers_df['PassengerId'].count()"
   ]
  },
  {
   "cell_type": "markdown",
   "metadata": {},
   "source": [
    "**Visualization**"
   ]
  },
  {
   "cell_type": "code",
   "execution_count": 64,
   "metadata": {
    "collapsed": false
   },
   "outputs": [
    {
     "data": {
      "text/plain": [
       "<seaborn.axisgrid.FacetGrid at 0xcdbd0f0>"
      ]
     },
     "execution_count": 64,
     "metadata": {},
     "output_type": "execute_result"
    },
    {
     "data": {
      "image/png": "[encoded data removed]",
      "text/plain": [
       "<matplotlib.figure.Figure at 0xcdbd9e8>"
      ]
     },
     "metadata": {},
     "output_type": "display_data"
    }
   ],
   "source": [
    "gender_fg = sns.factorplot(x=\"Survival_Status\",col=\"Sex\",data=titanic_data_frame,kind=\"count\")\n",
    "## Modify facet grid for x/y axis text\n",
    "(gender_fg.set_axis_labels(\"Survival Rate\", \"Count of Passengers\")\n",
    ".despine(left=True))"
   ]
  },
  {
   "cell_type": "markdown",
   "metadata": {},
   "source": [
    "From these statistics we could make there were more male passengers onboard then female passengers. But more female passengers had survived the passengers. "
   ]
  },
  {
   "cell_type": "markdown",
   "metadata": {},
   "source": [
    "The rate of survival for male vs female passengers wrt. to their total count:"
   ]
  },
  {
   "cell_type": "code",
   "execution_count": 65,
   "metadata": {
    "collapsed": false
   },
   "outputs": [
    {
     "name": "stdout",
     "output_type": "stream",
     "text": [
      "Proportion of passengers who survived\n",
      "Male: 0.188908\n",
      "Female: 0.742038\n"
     ]
    }
   ],
   "source": [
    "print \"Proportion of passengers who survived\"\n",
    "print \"Male: %f\" %compute_mean(male_surviving_passengers_df,male_passengers_df,\"PassengerId\")\n",
    "print \"Female: %f\" %compute_mean(female_surviving_passengers_df,female_passengers_df,\"PassengerId\")"
   ]
  },
  {
   "cell_type": "markdown",
   "metadata": {},
   "source": [
    "From this we can make out that the **female passengers had more chances of surviving from the male passengers** of about 0.742 in the presented data set."
   ]
  },
  {
   "cell_type": "markdown",
   "metadata": {},
   "source": [
    "<h4>Based on age</h4>"
   ]
  },
  {
   "cell_type": "markdown",
   "metadata": {},
   "source": [
    "From the surviving passenger, I want to determine whether the age group they belonged to played a role in their survival. To analyze this I can count the number of passengers in each age group."
   ]
  },
  {
   "cell_type": "code",
   "execution_count": 66,
   "metadata": {
    "collapsed": false
   },
   "outputs": [
    {
     "data": {
      "text/plain": [
       "AgeGroup\n",
       "Adult      201\n",
       "Child       82\n",
       "Elderly      7\n",
       "NA          52\n",
       "Name: PassengerId, dtype: int64"
      ]
     },
     "execution_count": 66,
     "metadata": {},
     "output_type": "execute_result"
    }
   ],
   "source": [
    "surviving_passengers_df.groupby(\"AgeGroup\")['PassengerId'].count()"
   ]
  },
  {
   "cell_type": "code",
   "execution_count": 67,
   "metadata": {
    "collapsed": false
   },
   "outputs": [
    {
     "data": {
      "image/png": "[encoded data removed]",
      "text/plain": [
       "<matplotlib.figure.Figure at 0xd1b5a58>"
      ]
     },
     "metadata": {},
     "output_type": "display_data"
    }
   ],
   "source": [
    "ax = sns.countplot(x=\"AgeGroup\", hue=\"Survival_Status\", data=titanic_data_frame)"
   ]
  },
  {
   "cell_type": "markdown",
   "metadata": {},
   "source": [
    "From this visualization it is visible that maximum number of adult passengers had died in the disaster and child passengers had survived more in the disaster."
   ]
  },
  {
   "cell_type": "markdown",
   "metadata": {},
   "source": [
    "**Based on Age and sex**"
   ]
  },
  {
   "cell_type": "markdown",
   "metadata": {},
   "source": [
    "We can also determine relationship between passenger survival based on age and sex"
   ]
  },
  {
   "cell_type": "code",
   "execution_count": 68,
   "metadata": {
    "collapsed": false
   },
   "outputs": [
    {
     "data": {
      "text/plain": [
       "<seaborn.axisgrid.FacetGrid at 0xd674240>"
      ]
     },
     "execution_count": 68,
     "metadata": {},
     "output_type": "execute_result"
    },
    {
     "data": {
      "image/png": "[encoded data removed]",
      "text/plain": [
       "<matplotlib.figure.Figure at 0xd674128>"
      ]
     },
     "metadata": {},
     "output_type": "display_data"
    }
   ],
   "source": [
    "titanic_fg = sns.FacetGrid(titanic_data_frame,size=5, aspect=.7)\n",
    "(titanic_fg.map(sns.boxplot, \"Sex\", \"Age\", \"Survival_Status\")\n",
    ".despine(left=True)\n",
    ".add_legend(title=\"Survived\"))  "
   ]
  },
  {
   "cell_type": "markdown",
   "metadata": {},
   "source": [
    "From this we can make out, **Female passengers had more chances of surviving**. Male passenges who survived had an average age around 23 and female passengers who survived had an average age around 25."
   ]
  },
  {
   "cell_type": "code",
   "execution_count": 69,
   "metadata": {
    "collapsed": false
   },
   "outputs": [
    {
     "name": "stdout",
     "output_type": "stream",
     "text": [
      "Male\n",
      "Survival rate 23.272202\n",
      "Oldest 80.000000\n",
      "\n",
      "Female\n",
      "Survival rate 24.390558\n",
      "Oldest 63.000000\n"
     ]
    }
   ],
   "source": [
    "print \"Male\"\n",
    "print \"Survival rate %f\" %male_surviving_passengers_df['Age'].mean()\n",
    "print \"Oldest %f\" %male_surviving_passengers_df['Age'].max()\n",
    "print \"\"\n",
    "print \"Female\"\n",
    "print \"Survival rate %f\" %female_surviving_passengers_df['Age'].mean()\n",
    "print \"Oldest %f\" %female_surviving_passengers_df['Age'].max()"
   ]
  },
  {
   "cell_type": "markdown",
   "metadata": {},
   "source": [
    "We can also check the relationship between the age group of passengers, sex and how much it impacted their survival rate"
   ]
  },
  {
   "cell_type": "code",
   "execution_count": 70,
   "metadata": {
    "collapsed": false
   },
   "outputs": [
    {
     "data": {
      "image/png": "[encoded data removed]",
      "text/plain": [
       "<matplotlib.figure.Figure at 0xd5f0550>"
      ]
     },
     "metadata": {},
     "output_type": "display_data"
    }
   ],
   "source": [
    "sex_age_group_axis = sns.factorplot(x=\"Sex\", y=\"Survived\", hue=\"AgeGroup\", data=titanic_data_frame,kind=\"bar\")"
   ]
  },
  {
   "cell_type": "markdown",
   "metadata": {},
   "source": [
    "From this graph we can clearly make out that elderly woman had 100% survival rate. Female passengers in general had the highest survival rate. The statistics corresponding to this:"
   ]
  },
  {
   "cell_type": "code",
   "execution_count": 71,
   "metadata": {
    "collapsed": false
   },
   "outputs": [
    {
     "name": "stdout",
     "output_type": "stream",
     "text": [
      "Surviving Female age groups average:\n",
      "AgeGroup\n",
      "Adult      0.777778\n",
      "Child      0.688312\n",
      "Elderly    1.000000\n",
      "NA         0.679245\n",
      "Name: PassengerId, dtype: float64\n",
      "\n",
      "Surviving Male age groups average\n",
      "AgeGroup\n",
      "Adult      0.185976\n",
      "Child      0.281553\n",
      "Elderly    0.136364\n",
      "NA         0.129032\n",
      "Name: PassengerId, dtype: float64\n"
     ]
    }
   ],
   "source": [
    "#Group surviving female passengers based on age group and count surviving passsengers \n",
    "surviving_female_ages=female_surviving_passengers_df.groupby('AgeGroup')['PassengerId'].count()\n",
    "#Group all female passengers based on age group and count  passsengers \n",
    "all_female_ages=female_passengers_df.groupby('AgeGroup')['PassengerId'].count()\n",
    "print \"Surviving Female age groups average:\"\n",
    "print surviving_female_ages/all_female_ages\n",
    "\n",
    "#Group surviving male passengers based on age group and count surviving passsengers \n",
    "surviving_male_ages=male_surviving_passengers_df.groupby('AgeGroup')['PassengerId'].count()\n",
    "#Group all male passengers based on age group and count passsengers \n",
    "all_male_ages=male_passengers_df.groupby('AgeGroup')['PassengerId'].count()\n",
    "print \"\"\n",
    "print \"Surviving Male age groups average\"\n",
    "print surviving_male_ages/all_male_ages"
   ]
  },
  {
   "cell_type": "code",
   "execution_count": 72,
   "metadata": {
    "collapsed": true
   },
   "outputs": [],
   "source": [
    "surviving_children_passengers=passenger_survival(surviving_passengers_df,\"AgeGroup\",\"Child\")\n",
    "surviving_adult_passengers=passenger_survival(surviving_passengers_df,\"AgeGroup\",\"Adult\")\n",
    "surviving_elderly_passengers=passenger_survival(surviving_passengers_df,\"AgeGroup\",\"Elderly\")"
   ]
  },
  {
   "cell_type": "markdown",
   "metadata": {},
   "source": [
    "**Based on Woman/Child passengers**"
   ]
  },
  {
   "cell_type": "markdown",
   "metadata": {},
   "source": [
    "I would like to determine did being in the passenger group of woman/child helped in the survival of the passengers."
   ]
  },
  {
   "cell_type": "code",
   "execution_count": 73,
   "metadata": {
    "collapsed": false
   },
   "outputs": [
    {
     "data": {
      "image/png": "[encoded data removed]",
      "text/plain": [
       "<matplotlib.figure.Figure at 0xdc756a0>"
      ]
     },
     "metadata": {},
     "output_type": "display_data"
    }
   ],
   "source": [
    "womanchild_survival_axis = sns.countplot(x=\"WomanChild\", hue=\"Survival_Status\", data=titanic_data_frame)"
   ]
  },
  {
   "cell_type": "markdown",
   "metadata": {},
   "source": [
    "From this visualization it is evident that the woman/child group had better survival count compared to men passengers."
   ]
  },
  {
   "cell_type": "code",
   "execution_count": 74,
   "metadata": {
    "collapsed": false
   },
   "outputs": [
    {
     "name": "stdout",
     "output_type": "stream",
     "text": [
      "Survival Proportion:\n",
      "Woman Child: 0.628297\n",
      "Men: 0.168776\n"
     ]
    }
   ],
   "source": [
    "print \"Survival Proportion:\"\n",
    "woman_child_survivors = woman_child_passengers[woman_child_passengers['Survived']==1]\n",
    "men_survivors = men_passengers[men_passengers['Survived']==1]\n",
    "print \"Woman Child: %f\" %compute_mean(woman_child_survivors,woman_child_passengers,\"PassengerId\")\n",
    "print \"Men: %f\" %compute_mean(men_survivors,men_passengers,\"PassengerId\")"
   ]
  },
  {
   "cell_type": "markdown",
   "metadata": {},
   "source": [
    "Also the above statistics confirm that woman child passengers had about 62.8% chances of survival from this data set as again men passengers with about 16.8% chances."
   ]
  },
  {
   "cell_type": "markdown",
   "metadata": {},
   "source": [
    "<h4>2. Passenger's travelling conditions</h4>"
   ]
  },
  {
   "cell_type": "markdown",
   "metadata": {},
   "source": [
    "**Based on Pclass**"
   ]
  },
  {
   "cell_type": "markdown",
   "metadata": {},
   "source": [
    "I want to investigate whether the passenger class played any part in survival of the passengers. So I would group surviving passengers into their Class i.e. First, Second and Third class and determine whether it helped in their survival."
   ]
  },
  {
   "cell_type": "code",
   "execution_count": 75,
   "metadata": {
    "collapsed": true
   },
   "outputs": [],
   "source": [
    "def compute_counts(data,criteria):\n",
    "    return data[criteria].count()"
   ]
  },
  {
   "cell_type": "code",
   "execution_count": 77,
   "metadata": {
    "collapsed": false
   },
   "outputs": [
    {
     "name": "stdout",
     "output_type": "stream",
     "text": [
      "In class 1\n",
      "136 survived out of 216\n",
      "Survival Proportion: 0.629630\n",
      "\n",
      "In class 2\n",
      "87 survived out of 184\n",
      "Survival Proportion: 0.472826\n",
      "\n",
      "In class 3\n",
      "119 survived out of 491\n",
      "Survival Proportion: 0.242363\n"
     ]
    }
   ],
   "source": [
    "#Group pass\n",
    "surviving_class1_passengers=passenger_survival(surviving_passengers_df,'Class','First Class')\n",
    "print \"In class 1\"\n",
    "print \"%d survived out of %d\" %(compute_counts(surviving_class1_passengers,'PassengerId'),compute_counts(passenger_class1,'PassengerId'))    \n",
    "print \"Survival Proportion: %f\" %compute_mean(surviving_class1_passengers,passenger_class1,'PassengerId')\n",
    "\n",
    "print \"\"\n",
    "surviving_class2_passengers = passenger_survival(surviving_passengers_df,'Class','Second Class')\n",
    "print \"In class 2\"\n",
    "print \"%d survived out of %d\" %(compute_counts(surviving_class2_passengers,'PassengerId'),compute_counts(passenger_class2,'PassengerId'))\n",
    "print \"Survival Proportion: %f\" %compute_mean(surviving_class2_passengers,passenger_class2,'PassengerId')\n",
    "\n",
    "surviving_class3_passengers = passenger_survival(surviving_passengers_df,'Class','Third Class')\n",
    "print \"\"\n",
    "print \"In class 3\"\n",
    "print \"%d survived out of %d\" %(compute_counts(surviving_class3_passengers,'PassengerId'),compute_counts(passenger_class3,'PassengerId'))\n",
    "print \"Survival Proportion: %f\" %compute_mean(surviving_class3_passengers,passenger_class3,'PassengerId')"
   ]
  },
  {
   "cell_type": "code",
   "execution_count": 78,
   "metadata": {
    "collapsed": false
   },
   "outputs": [
    {
     "data": {
      "image/png": "[encoded data removed]",
      "text/plain": [
       "<matplotlib.figure.Figure at 0xe04def0>"
      ]
     },
     "metadata": {},
     "output_type": "display_data"
    }
   ],
   "source": [
    "class_grid = sns.factorplot(\"Class\",\"Survived\",  data=titanic_data_frame,kind=\"bar\")"
   ]
  },
  {
   "cell_type": "markdown",
   "metadata": {},
   "source": [
    "From these statistics and visualizations it appears that the **passengers in Pclass 1** had higher chances of survival of about 62.9% and **class 3 had lower chances of survival** of about 24.2%."
   ]
  },
  {
   "cell_type": "markdown",
   "metadata": {},
   "source": [
    "On researching this further I found the below analysis:"
   ]
  },
  {
   "cell_type": "markdown",
   "metadata": {},
   "source": [
    "![Cabin Information](https://www.encyclopedia-titanica.org/files/1/figure-one-side-view.gif)"
   ]
  },
  {
   "cell_type": "markdown",
   "metadata": {},
   "source": [
    "The above figure illustrates the division of class that existed on-board the Titanic, we see First Class passengers enjoying the upper and most central spaces while Third Class and Crew occupy the lowest extremities of the ship. In fact, this segregation extended to advertisement and embarkation with each class having its own booking office  and entrance to the ship. So probably this fact alone facilitated the great loss of life among the Third Class.[6]"
   ]
  },
  {
   "cell_type": "markdown",
   "metadata": {},
   "source": [
    "We can also check from surviving passengers passengers of which gender has the highest probability of surviving in each class"
   ]
  },
  {
   "cell_type": "markdown",
   "metadata": {},
   "source": [
    "**Based on Pclass and Sex**"
   ]
  },
  {
   "cell_type": "markdown",
   "metadata": {},
   "source": [
    "I want to investigate whether the gender also played a part in survival of passengers across various passenger classes."
   ]
  },
  {
   "cell_type": "code",
   "execution_count": 79,
   "metadata": {
    "collapsed": false
   },
   "outputs": [
    {
     "data": {
      "image/png": "[encoded data removed]",
      "text/plain": [
       "<matplotlib.figure.Figure at 0x90a2550>"
      ]
     },
     "metadata": {},
     "output_type": "display_data"
    }
   ],
   "source": [
    "surviving_gender_class_grid = sns.factorplot(\"Class\",hue=\"Sex\",kind=\"count\",data=surviving_passengers_df)"
   ]
  },
  {
   "cell_type": "code",
   "execution_count": 80,
   "metadata": {
    "collapsed": false
   },
   "outputs": [
    {
     "name": "stdout",
     "output_type": "stream",
     "text": [
      "Survival status for gender/class\n",
      "First Class\n",
      "Sex\n",
      "female    0.968085\n",
      "male      0.368852\n",
      "Name: Survived, dtype: float64\n",
      "\n",
      "Second Class\n",
      "Sex\n",
      "female    0.921053\n",
      "male      0.157407\n",
      "Name: Survived, dtype: float64\n",
      "\n",
      "Third Class\n",
      "Sex\n",
      "female    0.500000\n",
      "male      0.135447\n",
      "Name: Survived, dtype: float64\n"
     ]
    }
   ],
   "source": [
    "print \"Survival status for gender/class\"\n",
    "print \"First Class\"\n",
    "print passenger_class1.groupby('Sex').Survived.mean()\n",
    "print \"\"\n",
    "print \"Second Class\"\n",
    "print passenger_class2.groupby('Sex').Survived.mean()\n",
    "print \"\"\n",
    "print \"Third Class\"\n",
    "print passenger_class3.groupby('Sex').Survived.mean()"
   ]
  },
  {
   "cell_type": "markdown",
   "metadata": {},
   "source": [
    "From this visualization it is clear that **female passengers had survival rate irrespective of the class** they were travelling in. In class 1 it is 96.8%, class 2 it is 92.1% and class 3 it is around 50%"
   ]
  },
  {
   "cell_type": "markdown",
   "metadata": {},
   "source": [
    "**Based on Pclass and AgeGroup**"
   ]
  },
  {
   "cell_type": "code",
   "execution_count": 83,
   "metadata": {
    "collapsed": false
   },
   "outputs": [
    {
     "data": {
      "image/png": "[encoded data removed]",
      "text/plain": [
       "<matplotlib.figure.Figure at 0xe992828>"
      ]
     },
     "metadata": {},
     "output_type": "display_data"
    }
   ],
   "source": [
    "surviving_class_age_grid = sns.factorplot(\"Class\",hue=\"AgeGroup\",kind=\"count\",data=surviving_passengers_df)"
   ]
  },
  {
   "cell_type": "markdown",
   "metadata": {},
   "source": [
    "The statistics corresponding to this are:"
   ]
  },
  {
   "cell_type": "code",
   "execution_count": 302,
   "metadata": {
    "collapsed": false
   },
   "outputs": [
    {
     "name": "stdout",
     "output_type": "stream",
     "text": [
      "Mean survival per age group\n",
      "Class 1\n",
      "Children: 0.809524\n",
      "Adult: 0.675676\n",
      "Elderly: 0.294118\n",
      "\n",
      "Class 2\n",
      "Children: 0.742857\n",
      "Adult: 0.417910\n",
      "Elderly: 0.250000\n",
      "\n",
      "Class 3\n",
      "Children: 0.314516\n",
      "Adult: 0.199115\n",
      "Elderly: 0.200000\n"
     ]
    }
   ],
   "source": [
    "print \"Mean survival per age group\"\n",
    "print \"Class 1\"\n",
    "print \"Children: %f\" %children_class1_passengers.Survived.mean()\n",
    "print \"Adult: %f\" %adult_class1_passengers.Survived.mean()\n",
    "print \"Elderly: %f\" %elderly_class1_passengers.Survived.mean()\n",
    "\n",
    "print \"\"\n",
    "print \"Class 2\"\n",
    "print \"Children: %f\" %children_class2_passengers.Survived.mean()\n",
    "print \"Adult: %f\" %adult_class2_passengers.Survived.mean()\n",
    "print \"Elderly: %f\" %elderly_class2_passengers.Survived.mean()\n",
    "\n",
    "print \"\"\n",
    "print \"Class 3\"\n",
    "print \"Children: %f\" %children_class3_passengers.Survived.mean()\n",
    "print \"Adult: %f\" %adult_class3_passengers.Survived.mean()\n",
    "print \"Elderly: %f\" %elderly_class3_passengers.Survived.mean()"
   ]
  },
  {
   "cell_type": "markdown",
   "metadata": {},
   "source": [
    "From this visualization, it appears that **adults**(between age 21-59) **had the highest overall rate of survival in all the classes**, highest being in Class 1. **Children and elderly have the highest rate of survival in Class 1**."
   ]
  },
  {
   "cell_type": "markdown",
   "metadata": {},
   "source": [
    "From the above statistic, it appears about 80.9% of children, 67.5% of adults, 29.41% of elderly in survived in class 1. In class 2 about 74.2% of children, 41.7% of adults, 25% of elderly survived. Class 3 had the lowest proportion of survival with children being 31.4%, adults with 19.9% and elderly with about 20%."
   ]
  },
  {
   "cell_type": "markdown",
   "metadata": {
    "collapsed": false
   },
   "source": [
    "** Based on Woman/Child Passengers**"
   ]
  },
  {
   "cell_type": "markdown",
   "metadata": {},
   "source": [
    "It has been earlier stated that the lifeboat preference was given to women/children. I wanted to analyze whether being a woman/child affect survivability of the passengers."
   ]
  },
  {
   "cell_type": "code",
   "execution_count": 84,
   "metadata": {
    "collapsed": false
   },
   "outputs": [
    {
     "name": "stdout",
     "output_type": "stream",
     "text": [
      "Woman/Child survival per class\n",
      "Class 1: 0.940594\n",
      "Class 2: 0.842105\n",
      "Class 2: 0.393665\n"
     ]
    }
   ],
   "source": [
    "class1_woman_child_passengers=passenger_class1[passenger_class1['WomanChild']=='Yes']\n",
    "class2_woman_child_passengers=passenger_class2[passenger_class2['WomanChild']=='Yes']\n",
    "class3_woman_child_passengers=passenger_class3[passenger_class3['WomanChild']=='Yes']\n",
    "\n",
    "print \"Woman/Child survival per class\"\n",
    "print \"Class 1: %f\" %class1_woman_child_passengers.Survived.mean()\n",
    "print \"Class 2: %f\" %class2_woman_child_passengers.Survived.mean()\n",
    "print \"Class 2: %f\" %class3_woman_child_passengers.Survived.mean()"
   ]
  },
  {
   "cell_type": "code",
   "execution_count": 85,
   "metadata": {
    "collapsed": false
   },
   "outputs": [
    {
     "data": {
      "text/plain": [
       "<seaborn.axisgrid.FacetGrid at 0xe968438>"
      ]
     },
     "execution_count": 85,
     "metadata": {},
     "output_type": "execute_result"
    },
    {
     "data": {
      "image/png": "[encoded data removed]",
      "text/plain": [
       "<matplotlib.figure.Figure at 0xe984780>"
      ]
     },
     "metadata": {},
     "output_type": "display_data"
    }
   ],
   "source": [
    "woman_child_survival_fg = sns.factorplot(x=\"WomanChild\", y=\"Survived\", col=\"Pclass\",\n",
    "                 data=titanic_data_frame, saturation=.5,\n",
    "                 kind=\"bar\", ci=None, aspect=.6)\n",
    "(woman_child_survival_fg.set_axis_labels(\"Class\", \"Survival Rate\")\n",
    ".set_xticklabels([\"Men\", \"Women/Children\"])\n",
    ".set_titles(\"{col_name} class\")\n",
    ".set(ylim=(0, 1))\n",
    ".despine(left=True))"
   ]
  },
  {
   "cell_type": "markdown",
   "metadata": {},
   "source": [
    "This visualization represents the survival rate per class for men vs women/child. And it clearly states that **women/child passengers had highest rate of survival per passenger class**."
   ]
  },
  {
   "cell_type": "markdown",
   "metadata": {},
   "source": [
    "**Based on port of embarkation **"
   ]
  },
  {
   "cell_type": "markdown",
   "metadata": {},
   "source": [
    "I want to calculate survival rate of passengers based on the port of embarkation. I want to determine whether the boarding point of passenger i.e. Cherbourg, Queenstown,Southampton had any impact on their survival."
   ]
  },
  {
   "cell_type": "code",
   "execution_count": 86,
   "metadata": {
    "collapsed": false
   },
   "outputs": [
    {
     "name": "stdout",
     "output_type": "stream",
     "text": [
      "Count per embarked port\n",
      "Ports\n",
      "Cherbourg       93\n",
      "Queenstown      30\n",
      "Southampton    217\n",
      "Name: PassengerId, dtype: int64\n",
      "Mean per embarked port\n",
      "Ports\n",
      "Cherbourg      0.553571\n",
      "Queenstown     0.389610\n",
      "Southampton    0.336957\n",
      "Name: Survived, dtype: float64\n",
      "Standard Deviation per embarked port\n",
      "Ports\n",
      "Cherbourg      0.498608\n",
      "Queenstown     0.490860\n",
      "Southampton    0.473037\n",
      "Name: Survived, dtype: float64\n"
     ]
    }
   ],
   "source": [
    "## Statistics based on port of embarkation\n",
    "print 'Count per embarked port'\n",
    "print surviving_passengers_df.groupby('Ports')['PassengerId'].count()\n",
    "print 'Mean per embarked port'\n",
    "print titanic_data_frame.groupby('Ports').Survived.mean()\n",
    "print 'Standard Deviation per embarked port'\n",
    "print titanic_data_frame.groupby('Ports').Survived.std()\n"
   ]
  },
  {
   "cell_type": "code",
   "execution_count": 87,
   "metadata": {
    "collapsed": false
   },
   "outputs": [
    {
     "data": {
      "image/png": "[encoded data removed]",
      "text/plain": [
       "<matplotlib.figure.Figure at 0xe65b710>"
      ]
     },
     "metadata": {},
     "output_type": "display_data"
    }
   ],
   "source": [
    "embarkation_axes = sns.countplot(x=\"Ports\", hue=\"Survival_Status\", data=titanic_data_frame)"
   ]
  },
  {
   "cell_type": "markdown",
   "metadata": {},
   "source": [
    "Based on the above visualization it is clear that the **passengers boarding from Cherbourg had the highest survival rate** of about 55.35%"
   ]
  },
  {
   "cell_type": "markdown",
   "metadata": {},
   "source": [
    "<h2 align=\"center\">SECTION 5: LIMITATION OF THE ANALYSIS</h2>"
   ]
  },
  {
   "cell_type": "markdown",
   "metadata": {},
   "source": [
    "Since the data set is for only 891 passengers onboard from the 2224 passengers on board the titanic we cannot reach a definite conclusion from the analysis. We can just analyze the sample data set and find patterns in our investigation which do form the basis in my report. \n",
    "\n",
    "And as stated earlier that there were couple of passenger details missing in the data set like age, cabin details, port of embarkation. I chose to ignore the cabin and port details in my analysis but for missing ages I replaced them with 0 which might have had any impact in my statistical calculations and representations.\n",
    "\n",
    "Besides the basic factors presented in the data set like passenger demographics, there might have been other factors which might have influenced passenger survival like the deck position, health conditions of the passengers etc. which might have influenced the survivability of the passengers."
   ]
  },
  {
   "cell_type": "markdown",
   "metadata": {
    "collapsed": false
   },
   "source": [
    "<h2 align=\"center\">SECTION 6: STATISTICAL TESTS</h2>"
   ]
  },
  {
   "cell_type": "markdown",
   "metadata": {
    "collapsed": false
   },
   "source": [
    "A statistical test provides a mechanism for making quantitative decisions about a process or processes. The intent is to determine whether there is enough evidence to \"reject\" a conjecture or hypothesis about the process. \n",
    "\n",
    "The chi-squared test of independence tests whether two categorical variables are independent. The test of independence is commonly used to determine whether variables like education, political views and other preferences vary based on demographic factors like gender, race and religion. So we can apply this chi-squared test to two determine male and female passengers survivability on the Titanic.\n",
    "\n",
    "We can make the following hypothesis:\n",
    "\n",
    "**Null Hypothesis, Ho** : Gender and Survivability are independent<br/>\n",
    "**Alternative Hypothesis, H1** : Gender and Survivability are not dependent"
   ]
  },
  {
   "cell_type": "code",
   "execution_count": 88,
   "metadata": {
    "collapsed": false
   },
   "outputs": [
    {
     "name": "stdout",
     "output_type": "stream",
     "text": [
      "[[109 468]\n",
      " [233  81]]\n"
     ]
    },
    {
     "data": {
      "text/plain": [
       "(260.71702016732104,\n",
       " 1.1973570627755645e-58,\n",
       " 1L,\n",
       " array([[ 221.47474747,  355.52525253],\n",
       "        [ 120.52525253,  193.47474747]]))"
      ]
     },
     "execution_count": 88,
     "metadata": {},
     "output_type": "execute_result"
    }
   ],
   "source": [
    "import scipy as sp\n",
    "\n",
    "surviving_male_passenger_count=male_surviving_passengers_df['PassengerId'].count()\n",
    "dead_male_passenger_count=male_passengers_df['PassengerId'].count()-surviving_male_passenger_count\n",
    "surviving_female_passenger_count=female_surviving_passengers_df['PassengerId'].count()\n",
    "dead_female_passenger_count=female_passengers_df['PassengerId'].count()-surviving_female_passenger_count\n",
    "male_female_survival_array=np.array([[surviving_male_passenger_count,dead_male_passenger_count],\n",
    "                                     [surviving_female_passenger_count,dead_female_passenger_count]])\n",
    "print male_female_survival_array\n",
    "sp.stats.chi2_contingency(male_female_survival_array)"
   ]
  },
  {
   "cell_type": "markdown",
   "metadata": {},
   "source": [
    "The output by the chi2_contingency function gives us the results chi-square independance test:\n",
    "* The first value indicates the chi-square value: 260.71702016732104\n",
    "* The Second value is the p-value: 1.1973570627755645e-58\n",
    "* The Third value is the degrees of freedom: 1L\n",
    "* The fourth value is expected frequencies table:"
   ]
  },
  {
   "cell_type": "markdown",
   "metadata": {},
   "source": [
    "Given the p-value is 1.1973570627755645e-58 (due to chi-square value of 260.71702016732104) <\n",
    ".00001, the result is significant at p-value at p < .05 indicating there is an association between gender\n",
    "and survivability on the Titanic using the Titanic dataset given.\n",
    "With such a low p-value we can reject the null hypothesis which is that gender and survivalbility are\n",
    "independant and accept the alternative hypothesis which is gender and survivalbility are dependant\n",
    "of each other."
   ]
  },
  {
   "cell_type": "markdown",
   "metadata": {
    "collapsed": false
   },
   "source": [
    "<h2 align=\"center\">SECTION 7:CONCLUSIONS</h2>"
   ]
  },
  {
   "cell_type": "markdown",
   "metadata": {},
   "source": [
    "Conclusions I drew from my analysis were:\n",
    "\n",
    "* female passengers had more chances of surviving from the male passengers(proved from Statistical Test in Section 6)\n",
    "* maximum number of adult passengers had died in the disaster and child passengers had survived more in the disaster\n",
    "* elderly woman had 100% survival rate. \n",
    "* woman/ child passengers had higher chances of survival.\n",
    "* passengers in First class had higher chances of survival  and passenger in Third class had lower chances of survival.\n",
    "* female passengers had higher survival rate irrespective of the class they were travelling in\n",
    "* adults had the highest overall rate of survival in all the classes, highest being in Class 1. Children and elderly have the highest rate of survival in Class 1\n",
    "* passengers boarding from Cherbourg had the highest survival rate."
   ]
  },
  {
   "cell_type": "markdown",
   "metadata": {},
   "source": [
    "<h2 align=\"center\">SECTION 8: REFERENCES</h2>"
   ]
  },
  {
   "cell_type": "markdown",
   "metadata": {},
   "source": [
    "[1] https://en.wikipedia.org/wiki/Timeline_of_young_people's_rights_in_the_United_Kingdom<br/>\n",
    "[2] http://seaborn.pydata.org/index.html<br/>\n",
    "[3] http://www.premierexhibitions.com/exhibitions/3/3/titanic-artifact-exhibition/blog/truth-behind-women-and-children-first<br/>\n",
    "[4]https://en.wikipedia.org/wiki/Women_and_children_first<br/>\n",
    "[5]https://en.wikipedia.org/wiki/Passengers_of_the_RMS_Titanic<br/>\n",
    "[6]https://www.encyclopedia-titanica.org/class-gender-titanic-disaster-1912~chapter-2.html\n",
    "\n"
   ]
  }
 ],
 "metadata": {
  "anaconda-cloud": {},
  "kernelspec": {
   "display_name": "Python [conda env:DAND]",
   "language": "python",
   "name": "conda-env-DAND-py"
  },
  "language_info": {
   "codemirror_mode": {
    "name": "ipython",
    "version": 2
   },
   "file_extension": ".py",
   "mimetype": "text/x-python",
   "name": "python",
   "nbconvert_exporter": "python",
   "pygments_lexer": "ipython2",
   "version": "2.7.12"
  }
 },
 "nbformat": 4,
 "nbformat_minor": 2
}
