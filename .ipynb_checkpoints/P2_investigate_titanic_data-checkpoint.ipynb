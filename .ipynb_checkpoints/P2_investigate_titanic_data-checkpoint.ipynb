{
 "cells": [
  {
   "cell_type": "markdown",
   "metadata": {},
   "source": [
    "<h2 align=\"center\"> P2 - Investigate a Dataset</h2>"
   ]
  },
  {
   "cell_type": "markdown",
   "metadata": {},
   "source": [
    "As part of P2-Investigate a Dataset, I chose to investigate **Titanic dataset**. \n"
   ]
  },
  {
   "cell_type": "markdown",
   "metadata": {},
   "source": [
    "<h4 align=\"center\">Brief History</h4>"
   ]
  },
  {
   "cell_type": "markdown",
   "metadata": {},
   "source": [
    "Titanic was a British passenger liner that sank in the North Atlantic Ocean in the early morning of 15 April 1912, after colliding with an iceberg during her maiden voyage from Southampton to New York City. Of the 2,224 passengers and crew aboard, more than 1,500 died, making it one of the deadliest commercial peacetime maritime disasters in modern history. The British registered ocean liner was built in 1912 for the transatlantic passenger and mail service between Southampton and New York. Constructed at the Harland and Wolff shipyard in Belfast, Ireland the Titanic was, on her maiden voyage, the largest vessel afloat. Thomas Andrews, her architect, died in the disaster.<br/><br/>\n",
    "Although Titanic had advanced safety features such as watertight compartments and remotely activated watertight doors, there were not enough lifeboats to accommodate all of those aboard due to outdated maritime safety regulations. Titanic only carried enough lifeboats for 1,178 people—slightly more than half of the number on board, and one third of her total capacity.\n",
    "After leaving Southampton on 10 April 1912, e new liner sailed from Southampton, England and on  14 April, four days into the crossing and about 375 miles (600 km) south of Newfoundland, she hit an iceberg at 11:40 p.m. ship's time. The collision caused the ship's hull plates to buckle inwards along her starboard side and opened five of her sixteen watertight compartments to the sea; the ship gradually filled with water. Meanwhile, passengers and some crew members were evacuated in lifeboats, many of which were launched only partially loaded. A disproportionate number of men were left aboard because of a \"women and children first\" protocol for loading lifeboats.[3] At 2:20 a.m., she broke apart and foundered—with well over one thousand people still aboard. Just under two hours after Titanic sank, the Cunard liner RMS Carpathia arrived at the scene, where she brought aboard an estimated 705 survivors.<br/><br/>\n",
    "It has rightly been called as the greatest shipwreck drama of the 20th century, a catastrophic event which has been greeted with worldwide shock and outrage at the huge loss of life and the regulatory and operational failures that had led to it."
   ]
  },
  {
   "cell_type": "markdown",
   "metadata": {},
   "source": [
    "<br/>"
   ]
  },
  {
   "cell_type": "markdown",
   "metadata": {},
   "source": [
    "The dataset contains demographics and passenger information from **891** of the **2224 passengers and crew on board the Titanic**. "
   ]
  },
  {
   "cell_type": "markdown",
   "metadata": {},
   "source": [
    "### VARIABLE DESCRIPTIONS:\n",
    "\n",
    "<table width=\"50%\" align=\"left\" border=\"none\">\n",
    "<tr><td>survival</td><td>Survival<br/>(0 = No; 1 = Yes)</td></tr>\n",
    "<tr><td>pclass</td><td>Passenger Class<br/>(1 = 1st; 2 = 2nd; 3 = 3rd)</td></tr>\n",
    "<tr><td>name</td><td>Name</td></tr>\n",
    "<tr><td>sex</td><td>Sex</td></tr>\n",
    "<tr><td>age</td><td>Age</td></tr>\n",
    "<tr><td>sibsp</td><td>Number of Siblings/Spouses Aboard</td></tr>\n",
    "<tr><td>parch</td><td>Number of Parents/Children Aboard</td></tr>\n",
    "<tr><td>ticket</td><td>Ticket Number</td></tr>\n",
    "<tr><td>cabin</td><td>Cabin</td></tr>\n",
    "<tr><td>embarked</td><td>Port of Embarkation<br/>(C = Cherbourg; Q = Queenstown; S = Southampton)</td></tr>\n",
    "</table>\n"
   ]
  },
  {
   "cell_type": "markdown",
   "metadata": {},
   "source": [
    "**SPECIAL NOTES:**\n",
    "\n",
    "* Pclass is a proxy for socio-economic status (SES)<br/>\n",
    " 1st ~ Upper; 2nd ~ Middle; 3rd ~ Lower<br/><br/>\n",
    "\n",
    "* Age is in Years; Fractional if Age less than One (1) <br/>\n",
    "    If the Age is Estimated, it is in the form xx.5<br/><br/>\n",
    "\n",
    "* With respect to the family relation variables (i.e. sibsp and parch) some relations were ignored.  The following are the \n",
    "  definitions used for sibsp and parch.<br/>\n",
    "\n",
    "    Sibling:  Brother, Sister, Stepbrother, or Stepsister of Passenger Aboard Titanic<br/>\n",
    "    Spouse:   Husband or Wife of Passenger Aboard Titanic (Mistresses and Fiances Ignored)<br/>\n",
    "    Parent:   Mother or Father of Passenger Aboard Titanic<br/>\n",
    "    Child:    Son, Daughter, Stepson, or Stepdaughter of Passenger Aboard Titanic<br/>\n",
    "\n",
    "    Other family relatives excluded from this study include cousins, nephews/nieces, aunts/uncles, and in-laws.  Some children   \n",
    "    travelled only with a nanny, therefore parch=0 for them.  As well, some travelled with very close friends or neighbors in a \n",
    "    village, however, the definitions do not support such relations."
   ]
  },
  {
   "cell_type": "markdown",
   "metadata": {},
   "source": [
    "**Questions I hope to investigate in this report**"
   ]
  },
  {
   "cell_type": "markdown",
   "metadata": {},
   "source": [
    "Q1. Do individual passenger traits like\n",
    "    \n",
    " * age\n",
    " * gender\n",
    " * age group\n",
    "    \n",
    "   impact their survival?"
   ]
  },
  {
   "cell_type": "markdown",
   "metadata": {},
   "source": [
    "Q2. Did the passenger travelling condition namely \n",
    " \n",
    " * class\n",
    " * port of embarkation\n",
    "    \n",
    "had an impact on their survival? Did individual passenger traits had any relationship with this?"
   ]
  },
  {
   "cell_type": "markdown",
   "metadata": {},
   "source": [
    "Q3. Do passengers travelling alone or with company had better chances of survival?"
   ]
  },
  {
   "cell_type": "markdown",
   "metadata": {},
   "source": [
    "Q4. How many families were impacted by the disaster?"
   ]
  },
  {
   "cell_type": "markdown",
   "metadata": {},
   "source": [
    "<h3 align=\"center\">Understanding the data set</h3>"
   ]
  },
  {
   "cell_type": "markdown",
   "metadata": {},
   "source": [
    "**Imports**"
   ]
  },
  {
   "cell_type": "code",
   "execution_count": 2,
   "metadata": {
    "collapsed": false
   },
   "outputs": [
    {
     "name": "stdout",
     "output_type": "stream",
     "text": [
      "Populating the interactive namespace from numpy and matplotlib\n"
     ]
    }
   ],
   "source": [
    "%pylab inline\n",
    "import pandas as pd\n",
    "import seaborn as sns\n",
    "import numpy as np"
   ]
  },
  {
   "cell_type": "markdown",
   "metadata": {},
   "source": [
    "We read the titanic-data.csv into panda data frame(**titanic_df**) and print the top 5 head records to have a overview of the data."
   ]
  },
  {
   "cell_type": "code",
   "execution_count": 3,
   "metadata": {
    "collapsed": false
   },
   "outputs": [
    {
     "data": {
      "text/html": [
       "<div>\n",
       "<table border=\"1\" class=\"dataframe\">\n",
       "  <thead>\n",
       "    <tr style=\"text-align: right;\">\n",
       "      <th></th>\n",
       "      <th>PassengerId</th>\n",
       "      <th>Survived</th>\n",
       "      <th>Pclass</th>\n",
       "      <th>Name</th>\n",
       "      <th>Sex</th>\n",
       "      <th>Age</th>\n",
       "      <th>SibSp</th>\n",
       "      <th>Parch</th>\n",
       "      <th>Ticket</th>\n",
       "      <th>Fare</th>\n",
       "      <th>Cabin</th>\n",
       "      <th>Embarked</th>\n",
       "    </tr>\n",
       "  </thead>\n",
       "  <tbody>\n",
       "    <tr>\n",
       "      <th>0</th>\n",
       "      <td>1</td>\n",
       "      <td>0</td>\n",
       "      <td>3</td>\n",
       "      <td>Braund, Mr. Owen Harris</td>\n",
       "      <td>male</td>\n",
       "      <td>22.0</td>\n",
       "      <td>1</td>\n",
       "      <td>0</td>\n",
       "      <td>A/5 21171</td>\n",
       "      <td>7.2500</td>\n",
       "      <td>NaN</td>\n",
       "      <td>S</td>\n",
       "    </tr>\n",
       "    <tr>\n",
       "      <th>1</th>\n",
       "      <td>2</td>\n",
       "      <td>1</td>\n",
       "      <td>1</td>\n",
       "      <td>Cumings, Mrs. John Bradley (Florence Briggs Th...</td>\n",
       "      <td>female</td>\n",
       "      <td>38.0</td>\n",
       "      <td>1</td>\n",
       "      <td>0</td>\n",
       "      <td>PC 17599</td>\n",
       "      <td>71.2833</td>\n",
       "      <td>C85</td>\n",
       "      <td>C</td>\n",
       "    </tr>\n",
       "    <tr>\n",
       "      <th>2</th>\n",
       "      <td>3</td>\n",
       "      <td>1</td>\n",
       "      <td>3</td>\n",
       "      <td>Heikkinen, Miss. Laina</td>\n",
       "      <td>female</td>\n",
       "      <td>26.0</td>\n",
       "      <td>0</td>\n",
       "      <td>0</td>\n",
       "      <td>STON/O2. 3101282</td>\n",
       "      <td>7.9250</td>\n",
       "      <td>NaN</td>\n",
       "      <td>S</td>\n",
       "    </tr>\n",
       "    <tr>\n",
       "      <th>3</th>\n",
       "      <td>4</td>\n",
       "      <td>1</td>\n",
       "      <td>1</td>\n",
       "      <td>Futrelle, Mrs. Jacques Heath (Lily May Peel)</td>\n",
       "      <td>female</td>\n",
       "      <td>35.0</td>\n",
       "      <td>1</td>\n",
       "      <td>0</td>\n",
       "      <td>113803</td>\n",
       "      <td>53.1000</td>\n",
       "      <td>C123</td>\n",
       "      <td>S</td>\n",
       "    </tr>\n",
       "    <tr>\n",
       "      <th>4</th>\n",
       "      <td>5</td>\n",
       "      <td>0</td>\n",
       "      <td>3</td>\n",
       "      <td>Allen, Mr. William Henry</td>\n",
       "      <td>male</td>\n",
       "      <td>35.0</td>\n",
       "      <td>0</td>\n",
       "      <td>0</td>\n",
       "      <td>373450</td>\n",
       "      <td>8.0500</td>\n",
       "      <td>NaN</td>\n",
       "      <td>S</td>\n",
       "    </tr>\n",
       "  </tbody>\n",
       "</table>\n",
       "</div>"
      ],
      "text/plain": [
       "   PassengerId  Survived  Pclass  \\\n",
       "0            1         0       3   \n",
       "1            2         1       1   \n",
       "2            3         1       3   \n",
       "3            4         1       1   \n",
       "4            5         0       3   \n",
       "\n",
       "                                                Name     Sex   Age  SibSp  \\\n",
       "0                            Braund, Mr. Owen Harris    male  22.0      1   \n",
       "1  Cumings, Mrs. John Bradley (Florence Briggs Th...  female  38.0      1   \n",
       "2                             Heikkinen, Miss. Laina  female  26.0      0   \n",
       "3       Futrelle, Mrs. Jacques Heath (Lily May Peel)  female  35.0      1   \n",
       "4                           Allen, Mr. William Henry    male  35.0      0   \n",
       "\n",
       "   Parch            Ticket     Fare Cabin Embarked  \n",
       "0      0         A/5 21171   7.2500   NaN        S  \n",
       "1      0          PC 17599  71.2833   C85        C  \n",
       "2      0  STON/O2. 3101282   7.9250   NaN        S  \n",
       "3      0            113803  53.1000  C123        S  \n",
       "4      0            373450   8.0500   NaN        S  "
      ]
     },
     "execution_count": 3,
     "metadata": {},
     "output_type": "execute_result"
    }
   ],
   "source": [
    "titanic_df = pd.read_csv('titanic-data.csv')\n",
    "titanic_df.head()"
   ]
  },
  {
   "cell_type": "markdown",
   "metadata": {},
   "source": [
    "When I dived deeper into this data to understand the data formats and for the purposes of cleaning this data,\n",
    "I found that out of **891 passenger records** available:\n",
    "* Age of 177 passengers is missing\n",
    "* Cabin details of only 204 passengers are available and of 607 are missing\n",
    "* Port of embarkation of 2 passengers is missing"
   ]
  },
  {
   "cell_type": "markdown",
   "metadata": {},
   "source": [
    "Below are the some of the general statistics about the data set"
   ]
  },
  {
   "cell_type": "code",
   "execution_count": 4,
   "metadata": {
    "collapsed": false
   },
   "outputs": [
    {
     "name": "stdout",
     "output_type": "stream",
     "text": [
      "<class 'pandas.core.frame.DataFrame'>\n",
      "RangeIndex: 891 entries, 0 to 890\n",
      "Data columns (total 12 columns):\n",
      "PassengerId    891 non-null int64\n",
      "Survived       891 non-null int64\n",
      "Pclass         891 non-null int64\n",
      "Name           891 non-null object\n",
      "Sex            891 non-null object\n",
      "Age            714 non-null float64\n",
      "SibSp          891 non-null int64\n",
      "Parch          891 non-null int64\n",
      "Ticket         891 non-null object\n",
      "Fare           891 non-null float64\n",
      "Cabin          204 non-null object\n",
      "Embarked       889 non-null object\n",
      "dtypes: float64(2), int64(5), object(5)\n",
      "memory usage: 83.6+ KB\n"
     ]
    },
    {
     "data": {
      "text/html": [
       "<div>\n",
       "<table border=\"1\" class=\"dataframe\">\n",
       "  <thead>\n",
       "    <tr style=\"text-align: right;\">\n",
       "      <th></th>\n",
       "      <th>PassengerId</th>\n",
       "      <th>Survived</th>\n",
       "      <th>Pclass</th>\n",
       "      <th>Age</th>\n",
       "      <th>SibSp</th>\n",
       "      <th>Parch</th>\n",
       "      <th>Fare</th>\n",
       "    </tr>\n",
       "  </thead>\n",
       "  <tbody>\n",
       "    <tr>\n",
       "      <th>count</th>\n",
       "      <td>891.000000</td>\n",
       "      <td>891.000000</td>\n",
       "      <td>891.000000</td>\n",
       "      <td>714.000000</td>\n",
       "      <td>891.000000</td>\n",
       "      <td>891.000000</td>\n",
       "      <td>891.000000</td>\n",
       "    </tr>\n",
       "    <tr>\n",
       "      <th>mean</th>\n",
       "      <td>446.000000</td>\n",
       "      <td>0.383838</td>\n",
       "      <td>2.308642</td>\n",
       "      <td>29.699118</td>\n",
       "      <td>0.523008</td>\n",
       "      <td>0.381594</td>\n",
       "      <td>32.204208</td>\n",
       "    </tr>\n",
       "    <tr>\n",
       "      <th>std</th>\n",
       "      <td>257.353842</td>\n",
       "      <td>0.486592</td>\n",
       "      <td>0.836071</td>\n",
       "      <td>14.526497</td>\n",
       "      <td>1.102743</td>\n",
       "      <td>0.806057</td>\n",
       "      <td>49.693429</td>\n",
       "    </tr>\n",
       "    <tr>\n",
       "      <th>min</th>\n",
       "      <td>1.000000</td>\n",
       "      <td>0.000000</td>\n",
       "      <td>1.000000</td>\n",
       "      <td>0.420000</td>\n",
       "      <td>0.000000</td>\n",
       "      <td>0.000000</td>\n",
       "      <td>0.000000</td>\n",
       "    </tr>\n",
       "    <tr>\n",
       "      <th>25%</th>\n",
       "      <td>223.500000</td>\n",
       "      <td>0.000000</td>\n",
       "      <td>2.000000</td>\n",
       "      <td>20.125000</td>\n",
       "      <td>0.000000</td>\n",
       "      <td>0.000000</td>\n",
       "      <td>7.910400</td>\n",
       "    </tr>\n",
       "    <tr>\n",
       "      <th>50%</th>\n",
       "      <td>446.000000</td>\n",
       "      <td>0.000000</td>\n",
       "      <td>3.000000</td>\n",
       "      <td>28.000000</td>\n",
       "      <td>0.000000</td>\n",
       "      <td>0.000000</td>\n",
       "      <td>14.454200</td>\n",
       "    </tr>\n",
       "    <tr>\n",
       "      <th>75%</th>\n",
       "      <td>668.500000</td>\n",
       "      <td>1.000000</td>\n",
       "      <td>3.000000</td>\n",
       "      <td>38.000000</td>\n",
       "      <td>1.000000</td>\n",
       "      <td>0.000000</td>\n",
       "      <td>31.000000</td>\n",
       "    </tr>\n",
       "    <tr>\n",
       "      <th>max</th>\n",
       "      <td>891.000000</td>\n",
       "      <td>1.000000</td>\n",
       "      <td>3.000000</td>\n",
       "      <td>80.000000</td>\n",
       "      <td>8.000000</td>\n",
       "      <td>6.000000</td>\n",
       "      <td>512.329200</td>\n",
       "    </tr>\n",
       "  </tbody>\n",
       "</table>\n",
       "</div>"
      ],
      "text/plain": [
       "       PassengerId    Survived      Pclass         Age       SibSp  \\\n",
       "count   891.000000  891.000000  891.000000  714.000000  891.000000   \n",
       "mean    446.000000    0.383838    2.308642   29.699118    0.523008   \n",
       "std     257.353842    0.486592    0.836071   14.526497    1.102743   \n",
       "min       1.000000    0.000000    1.000000    0.420000    0.000000   \n",
       "25%     223.500000    0.000000    2.000000   20.125000    0.000000   \n",
       "50%     446.000000    0.000000    3.000000   28.000000    0.000000   \n",
       "75%     668.500000    1.000000    3.000000   38.000000    1.000000   \n",
       "max     891.000000    1.000000    3.000000   80.000000    8.000000   \n",
       "\n",
       "            Parch        Fare  \n",
       "count  891.000000  891.000000  \n",
       "mean     0.381594   32.204208  \n",
       "std      0.806057   49.693429  \n",
       "min      0.000000    0.000000  \n",
       "25%      0.000000    7.910400  \n",
       "50%      0.000000   14.454200  \n",
       "75%      0.000000   31.000000  \n",
       "max      6.000000  512.329200  "
      ]
     },
     "execution_count": 4,
     "metadata": {},
     "output_type": "execute_result"
    }
   ],
   "source": [
    "titanic_df.info()\n",
    "titanic_df.describe()"
   ]
  },
  {
   "cell_type": "markdown",
   "metadata": {},
   "source": [
    "<h3 align=\"center\">Data Cleaning</h3>"
   ]
  },
  {
   "cell_type": "markdown",
   "metadata": {},
   "source": [
    "To handle and clean the missing data, I would be refining the data set as follows:"
   ]
  },
  {
   "cell_type": "markdown",
   "metadata": {},
   "source": [
    "* I would not be using **cabin** details of the passengers for my analyis,so I chose to drop this column from my data frame.\n",
    "* As for the missing **port of embarkation **, I chose to ignore these passengers as they are just a 0.224 proportion of the data set. \n",
    "* Since I would be investigating the passengers based on their **Age** as well, I chose to fill 0 for the missing values so that any wrong ages do not impact my analysis. Also 0 is chosen as existing passenger ages do not have passengers with age=0"
   ]
  },
  {
   "cell_type": "code",
   "execution_count": 5,
   "metadata": {
    "collapsed": true
   },
   "outputs": [],
   "source": [
    "# drop column for 'Çabin' from the data set\n",
    "titanic_data_frame= titanic_df.drop('Cabin',1)"
   ]
  },
  {
   "cell_type": "code",
   "execution_count": 6,
   "metadata": {
    "collapsed": false
   },
   "outputs": [
    {
     "data": {
      "text/plain": [
       "0"
      ]
     },
     "execution_count": 6,
     "metadata": {},
     "output_type": "execute_result"
    }
   ],
   "source": [
    "#Passengers with age=0 in existing data set\n",
    "titanic_df[titanic_df['Age']==0]['PassengerId'].count()"
   ]
  },
  {
   "cell_type": "code",
   "execution_count": 7,
   "metadata": {
    "collapsed": false
   },
   "outputs": [
    {
     "data": {
      "text/html": [
       "<div>\n",
       "<table border=\"1\" class=\"dataframe\">\n",
       "  <thead>\n",
       "    <tr style=\"text-align: right;\">\n",
       "      <th></th>\n",
       "      <th>PassengerId</th>\n",
       "      <th>Survived</th>\n",
       "      <th>Pclass</th>\n",
       "      <th>Name</th>\n",
       "      <th>Sex</th>\n",
       "      <th>Age</th>\n",
       "      <th>SibSp</th>\n",
       "      <th>Parch</th>\n",
       "      <th>Ticket</th>\n",
       "      <th>Fare</th>\n",
       "      <th>Embarked</th>\n",
       "    </tr>\n",
       "  </thead>\n",
       "  <tbody>\n",
       "    <tr>\n",
       "      <th>0</th>\n",
       "      <td>1</td>\n",
       "      <td>0</td>\n",
       "      <td>3</td>\n",
       "      <td>Braund, Mr. Owen Harris</td>\n",
       "      <td>male</td>\n",
       "      <td>22.0</td>\n",
       "      <td>1</td>\n",
       "      <td>0</td>\n",
       "      <td>A/5 21171</td>\n",
       "      <td>7.2500</td>\n",
       "      <td>S</td>\n",
       "    </tr>\n",
       "    <tr>\n",
       "      <th>1</th>\n",
       "      <td>2</td>\n",
       "      <td>1</td>\n",
       "      <td>1</td>\n",
       "      <td>Cumings, Mrs. John Bradley (Florence Briggs Th...</td>\n",
       "      <td>female</td>\n",
       "      <td>38.0</td>\n",
       "      <td>1</td>\n",
       "      <td>0</td>\n",
       "      <td>PC 17599</td>\n",
       "      <td>71.2833</td>\n",
       "      <td>C</td>\n",
       "    </tr>\n",
       "    <tr>\n",
       "      <th>2</th>\n",
       "      <td>3</td>\n",
       "      <td>1</td>\n",
       "      <td>3</td>\n",
       "      <td>Heikkinen, Miss. Laina</td>\n",
       "      <td>female</td>\n",
       "      <td>26.0</td>\n",
       "      <td>0</td>\n",
       "      <td>0</td>\n",
       "      <td>STON/O2. 3101282</td>\n",
       "      <td>7.9250</td>\n",
       "      <td>S</td>\n",
       "    </tr>\n",
       "    <tr>\n",
       "      <th>3</th>\n",
       "      <td>4</td>\n",
       "      <td>1</td>\n",
       "      <td>1</td>\n",
       "      <td>Futrelle, Mrs. Jacques Heath (Lily May Peel)</td>\n",
       "      <td>female</td>\n",
       "      <td>35.0</td>\n",
       "      <td>1</td>\n",
       "      <td>0</td>\n",
       "      <td>113803</td>\n",
       "      <td>53.1000</td>\n",
       "      <td>S</td>\n",
       "    </tr>\n",
       "    <tr>\n",
       "      <th>4</th>\n",
       "      <td>5</td>\n",
       "      <td>0</td>\n",
       "      <td>3</td>\n",
       "      <td>Allen, Mr. William Henry</td>\n",
       "      <td>male</td>\n",
       "      <td>35.0</td>\n",
       "      <td>0</td>\n",
       "      <td>0</td>\n",
       "      <td>373450</td>\n",
       "      <td>8.0500</td>\n",
       "      <td>S</td>\n",
       "    </tr>\n",
       "  </tbody>\n",
       "</table>\n",
       "</div>"
      ],
      "text/plain": [
       "   PassengerId  Survived  Pclass  \\\n",
       "0            1         0       3   \n",
       "1            2         1       1   \n",
       "2            3         1       3   \n",
       "3            4         1       1   \n",
       "4            5         0       3   \n",
       "\n",
       "                                                Name     Sex   Age  SibSp  \\\n",
       "0                            Braund, Mr. Owen Harris    male  22.0      1   \n",
       "1  Cumings, Mrs. John Bradley (Florence Briggs Th...  female  38.0      1   \n",
       "2                             Heikkinen, Miss. Laina  female  26.0      0   \n",
       "3       Futrelle, Mrs. Jacques Heath (Lily May Peel)  female  35.0      1   \n",
       "4                           Allen, Mr. William Henry    male  35.0      0   \n",
       "\n",
       "   Parch            Ticket     Fare Embarked  \n",
       "0      0         A/5 21171   7.2500        S  \n",
       "1      0          PC 17599  71.2833        C  \n",
       "2      0  STON/O2. 3101282   7.9250        S  \n",
       "3      0            113803  53.1000        S  \n",
       "4      0            373450   8.0500        S  "
      ]
     },
     "execution_count": 7,
     "metadata": {},
     "output_type": "execute_result"
    }
   ],
   "source": [
    "#Replace NA values for age with 0\n",
    "titanic_data_frame['Age'].fillna(value=0,inplace=True)\n",
    "titanic_data_frame.head()"
   ]
  },
  {
   "cell_type": "markdown",
   "metadata": {},
   "source": [
    "Also I would like to add a Survival Status column with values **Survived/Didn't Survive** corresponding to \"1/0\" values for Survived column for making my visualizations more readable."
   ]
  },
  {
   "cell_type": "code",
   "execution_count": 8,
   "metadata": {
    "collapsed": true
   },
   "outputs": [],
   "source": [
    "def addSurvivalStatus(data):\n",
    "    if data['Survived']==1:\n",
    "        survival_status='Survived'\n",
    "    else:\n",
    "        survival_status='Didn\\'t Survive'\n",
    "    return survival_status;"
   ]
  },
  {
   "cell_type": "code",
   "execution_count": 9,
   "metadata": {
    "collapsed": false
   },
   "outputs": [
    {
     "data": {
      "text/html": [
       "<div>\n",
       "<table border=\"1\" class=\"dataframe\">\n",
       "  <thead>\n",
       "    <tr style=\"text-align: right;\">\n",
       "      <th></th>\n",
       "      <th>PassengerId</th>\n",
       "      <th>Survived</th>\n",
       "      <th>Pclass</th>\n",
       "      <th>Name</th>\n",
       "      <th>Sex</th>\n",
       "      <th>Age</th>\n",
       "      <th>SibSp</th>\n",
       "      <th>Parch</th>\n",
       "      <th>Ticket</th>\n",
       "      <th>Fare</th>\n",
       "      <th>Embarked</th>\n",
       "      <th>Survival_Status</th>\n",
       "    </tr>\n",
       "  </thead>\n",
       "  <tbody>\n",
       "    <tr>\n",
       "      <th>0</th>\n",
       "      <td>1</td>\n",
       "      <td>0</td>\n",
       "      <td>3</td>\n",
       "      <td>Braund, Mr. Owen Harris</td>\n",
       "      <td>male</td>\n",
       "      <td>22.0</td>\n",
       "      <td>1</td>\n",
       "      <td>0</td>\n",
       "      <td>A/5 21171</td>\n",
       "      <td>7.2500</td>\n",
       "      <td>S</td>\n",
       "      <td>Didn't Survive</td>\n",
       "    </tr>\n",
       "    <tr>\n",
       "      <th>1</th>\n",
       "      <td>2</td>\n",
       "      <td>1</td>\n",
       "      <td>1</td>\n",
       "      <td>Cumings, Mrs. John Bradley (Florence Briggs Th...</td>\n",
       "      <td>female</td>\n",
       "      <td>38.0</td>\n",
       "      <td>1</td>\n",
       "      <td>0</td>\n",
       "      <td>PC 17599</td>\n",
       "      <td>71.2833</td>\n",
       "      <td>C</td>\n",
       "      <td>Survived</td>\n",
       "    </tr>\n",
       "    <tr>\n",
       "      <th>2</th>\n",
       "      <td>3</td>\n",
       "      <td>1</td>\n",
       "      <td>3</td>\n",
       "      <td>Heikkinen, Miss. Laina</td>\n",
       "      <td>female</td>\n",
       "      <td>26.0</td>\n",
       "      <td>0</td>\n",
       "      <td>0</td>\n",
       "      <td>STON/O2. 3101282</td>\n",
       "      <td>7.9250</td>\n",
       "      <td>S</td>\n",
       "      <td>Survived</td>\n",
       "    </tr>\n",
       "    <tr>\n",
       "      <th>3</th>\n",
       "      <td>4</td>\n",
       "      <td>1</td>\n",
       "      <td>1</td>\n",
       "      <td>Futrelle, Mrs. Jacques Heath (Lily May Peel)</td>\n",
       "      <td>female</td>\n",
       "      <td>35.0</td>\n",
       "      <td>1</td>\n",
       "      <td>0</td>\n",
       "      <td>113803</td>\n",
       "      <td>53.1000</td>\n",
       "      <td>S</td>\n",
       "      <td>Survived</td>\n",
       "    </tr>\n",
       "    <tr>\n",
       "      <th>4</th>\n",
       "      <td>5</td>\n",
       "      <td>0</td>\n",
       "      <td>3</td>\n",
       "      <td>Allen, Mr. William Henry</td>\n",
       "      <td>male</td>\n",
       "      <td>35.0</td>\n",
       "      <td>0</td>\n",
       "      <td>0</td>\n",
       "      <td>373450</td>\n",
       "      <td>8.0500</td>\n",
       "      <td>S</td>\n",
       "      <td>Didn't Survive</td>\n",
       "    </tr>\n",
       "  </tbody>\n",
       "</table>\n",
       "</div>"
      ],
      "text/plain": [
       "   PassengerId  Survived  Pclass  \\\n",
       "0            1         0       3   \n",
       "1            2         1       1   \n",
       "2            3         1       3   \n",
       "3            4         1       1   \n",
       "4            5         0       3   \n",
       "\n",
       "                                                Name     Sex   Age  SibSp  \\\n",
       "0                            Braund, Mr. Owen Harris    male  22.0      1   \n",
       "1  Cumings, Mrs. John Bradley (Florence Briggs Th...  female  38.0      1   \n",
       "2                             Heikkinen, Miss. Laina  female  26.0      0   \n",
       "3       Futrelle, Mrs. Jacques Heath (Lily May Peel)  female  35.0      1   \n",
       "4                           Allen, Mr. William Henry    male  35.0      0   \n",
       "\n",
       "   Parch            Ticket     Fare Embarked Survival_Status  \n",
       "0      0         A/5 21171   7.2500        S  Didn't Survive  \n",
       "1      0          PC 17599  71.2833        C        Survived  \n",
       "2      0  STON/O2. 3101282   7.9250        S        Survived  \n",
       "3      0            113803  53.1000        S        Survived  \n",
       "4      0            373450   8.0500        S  Didn't Survive  "
      ]
     },
     "execution_count": 9,
     "metadata": {},
     "output_type": "execute_result"
    }
   ],
   "source": [
    "#Apply addSurvivalStatus function to the titanic data frame\n",
    "titanic_data_frame['Survival_Status'] = titanic_data_frame.apply(addSurvivalStatus, axis=1)\n",
    "titanic_data_frame.head()"
   ]
  },
  {
   "cell_type": "markdown",
   "metadata": {},
   "source": [
    "The United Nations Convention on the Rights of the Child (UNRC) defines children, for the purposes of the Convention, as persons under the age 18, unless domestic legislation provides otherwise. In that spirit, this timeline includes as children all those below the UK age of majority, which was 21 until 1970, when it was reduced to 18.[1] <br/>\n",
    "So following this convention I would consider passengers with age between 0.1-21 years, adults with age between 18-59 and elderly with age greater than 60. <br/>\n",
    "I would add like to add another column for identifying passengers based on their ages in the following format where 0 is customly added by me above:\n",
    "<table align=\"left\">\n",
    "<tr><th>Age</th><th>Age classification</th></tr>\n",
    "<tr><td>0</td><td>NA</td></tr>\n",
    "<tr><td>Between 0.1 and 21</td><td>Children</td></tr>\n",
    "<tr><td>Greater than equal to 21 but less than 60</td><td>Adult</td></tr>\n",
    "<tr><td>Greater than equal to 60</td><td>Elderly</td></tr>\n",
    "</table>"
   ]
  },
  {
   "cell_type": "markdown",
   "metadata": {},
   "source": [
    "Implementing this age classification on the current titanic data set available:"
   ]
  },
  {
   "cell_type": "code",
   "execution_count": 10,
   "metadata": {
    "collapsed": true
   },
   "outputs": [],
   "source": [
    "def ageClassification(passenger):\n",
    "    ##Ignore passengers with age equal to 0\n",
    "    if passenger['Age']==0:\n",
    "        return 'NA'\n",
    "    if passenger['Age']>=0.1 and passenger['Age']<21:\n",
    "        return \"Child\"\n",
    "    elif passenger['Age']>=21 and passenger['Age']<60:\n",
    "        return \"Adult\"\n",
    "    else:\n",
    "        return \"Elderly\""
   ]
  },
  {
   "cell_type": "code",
   "execution_count": 11,
   "metadata": {
    "collapsed": false
   },
   "outputs": [
    {
     "data": {
      "text/html": [
       "<div>\n",
       "<table border=\"1\" class=\"dataframe\">\n",
       "  <thead>\n",
       "    <tr style=\"text-align: right;\">\n",
       "      <th></th>\n",
       "      <th>PassengerId</th>\n",
       "      <th>Survived</th>\n",
       "      <th>Pclass</th>\n",
       "      <th>Name</th>\n",
       "      <th>Sex</th>\n",
       "      <th>Age</th>\n",
       "      <th>SibSp</th>\n",
       "      <th>Parch</th>\n",
       "      <th>Ticket</th>\n",
       "      <th>Fare</th>\n",
       "      <th>Embarked</th>\n",
       "      <th>Survival_Status</th>\n",
       "      <th>AgeGroup</th>\n",
       "    </tr>\n",
       "  </thead>\n",
       "  <tbody>\n",
       "    <tr>\n",
       "      <th>0</th>\n",
       "      <td>1</td>\n",
       "      <td>0</td>\n",
       "      <td>3</td>\n",
       "      <td>Braund, Mr. Owen Harris</td>\n",
       "      <td>male</td>\n",
       "      <td>22.0</td>\n",
       "      <td>1</td>\n",
       "      <td>0</td>\n",
       "      <td>A/5 21171</td>\n",
       "      <td>7.2500</td>\n",
       "      <td>S</td>\n",
       "      <td>Didn't Survive</td>\n",
       "      <td>Adult</td>\n",
       "    </tr>\n",
       "    <tr>\n",
       "      <th>1</th>\n",
       "      <td>2</td>\n",
       "      <td>1</td>\n",
       "      <td>1</td>\n",
       "      <td>Cumings, Mrs. John Bradley (Florence Briggs Th...</td>\n",
       "      <td>female</td>\n",
       "      <td>38.0</td>\n",
       "      <td>1</td>\n",
       "      <td>0</td>\n",
       "      <td>PC 17599</td>\n",
       "      <td>71.2833</td>\n",
       "      <td>C</td>\n",
       "      <td>Survived</td>\n",
       "      <td>Adult</td>\n",
       "    </tr>\n",
       "    <tr>\n",
       "      <th>2</th>\n",
       "      <td>3</td>\n",
       "      <td>1</td>\n",
       "      <td>3</td>\n",
       "      <td>Heikkinen, Miss. Laina</td>\n",
       "      <td>female</td>\n",
       "      <td>26.0</td>\n",
       "      <td>0</td>\n",
       "      <td>0</td>\n",
       "      <td>STON/O2. 3101282</td>\n",
       "      <td>7.9250</td>\n",
       "      <td>S</td>\n",
       "      <td>Survived</td>\n",
       "      <td>Adult</td>\n",
       "    </tr>\n",
       "    <tr>\n",
       "      <th>3</th>\n",
       "      <td>4</td>\n",
       "      <td>1</td>\n",
       "      <td>1</td>\n",
       "      <td>Futrelle, Mrs. Jacques Heath (Lily May Peel)</td>\n",
       "      <td>female</td>\n",
       "      <td>35.0</td>\n",
       "      <td>1</td>\n",
       "      <td>0</td>\n",
       "      <td>113803</td>\n",
       "      <td>53.1000</td>\n",
       "      <td>S</td>\n",
       "      <td>Survived</td>\n",
       "      <td>Adult</td>\n",
       "    </tr>\n",
       "    <tr>\n",
       "      <th>4</th>\n",
       "      <td>5</td>\n",
       "      <td>0</td>\n",
       "      <td>3</td>\n",
       "      <td>Allen, Mr. William Henry</td>\n",
       "      <td>male</td>\n",
       "      <td>35.0</td>\n",
       "      <td>0</td>\n",
       "      <td>0</td>\n",
       "      <td>373450</td>\n",
       "      <td>8.0500</td>\n",
       "      <td>S</td>\n",
       "      <td>Didn't Survive</td>\n",
       "      <td>Adult</td>\n",
       "    </tr>\n",
       "  </tbody>\n",
       "</table>\n",
       "</div>"
      ],
      "text/plain": [
       "   PassengerId  Survived  Pclass  \\\n",
       "0            1         0       3   \n",
       "1            2         1       1   \n",
       "2            3         1       3   \n",
       "3            4         1       1   \n",
       "4            5         0       3   \n",
       "\n",
       "                                                Name     Sex   Age  SibSp  \\\n",
       "0                            Braund, Mr. Owen Harris    male  22.0      1   \n",
       "1  Cumings, Mrs. John Bradley (Florence Briggs Th...  female  38.0      1   \n",
       "2                             Heikkinen, Miss. Laina  female  26.0      0   \n",
       "3       Futrelle, Mrs. Jacques Heath (Lily May Peel)  female  35.0      1   \n",
       "4                           Allen, Mr. William Henry    male  35.0      0   \n",
       "\n",
       "   Parch            Ticket     Fare Embarked Survival_Status AgeGroup  \n",
       "0      0         A/5 21171   7.2500        S  Didn't Survive    Adult  \n",
       "1      0          PC 17599  71.2833        C        Survived    Adult  \n",
       "2      0  STON/O2. 3101282   7.9250        S        Survived    Adult  \n",
       "3      0            113803  53.1000        S        Survived    Adult  \n",
       "4      0            373450   8.0500        S  Didn't Survive    Adult  "
      ]
     },
     "execution_count": 11,
     "metadata": {},
     "output_type": "execute_result"
    }
   ],
   "source": [
    "titanic_data_frame['AgeGroup']=titanic_data_frame.apply(ageClassification,axis=1)\n",
    "titanic_data_frame.head()"
   ]
  },
  {
   "cell_type": "markdown",
   "metadata": {},
   "source": [
    "<h3 align=\"center\"> Data Exploration</h3>"
   ]
  },
  {
   "cell_type": "markdown",
   "metadata": {},
   "source": [
    "To better understand the data, I would like to have a better understanding of the passenger demographics.I would like to explore the data set on the basis of following dimensions:\n",
    "\n",
    "* gender\n",
    "* age group\n",
    "* class\n",
    "* port of embarkation"
   ]
  },
  {
   "cell_type": "markdown",
   "metadata": {},
   "source": [
    "**Based on Gender**"
   ]
  },
  {
   "cell_type": "markdown",
   "metadata": {},
   "source": [
    "I would like to explore how many male/female passengers were onboard"
   ]
  },
  {
   "cell_type": "code",
   "execution_count": 12,
   "metadata": {
    "collapsed": false
   },
   "outputs": [
    {
     "name": "stdout",
     "output_type": "stream",
     "text": [
      "Total Count based on gender:\n",
      "\n",
      "Male: 577\n",
      "Female: 314\n"
     ]
    }
   ],
   "source": [
    "##Find passengers data based on gender\n",
    "female_passengers_df=titanic_data_frame[titanic_data_frame['Sex']=='female']\n",
    "male_passengers_df=titanic_data_frame[titanic_data_frame['Sex']=='male']\n",
    "print \"Total Count based on gender:\"\n",
    "print \"\"\n",
    "print \"Male: %d\" %male_passengers_df['PassengerId'].count()\n",
    "print \"Female: %d\" %female_passengers_df['PassengerId'].count()"
   ]
  },
  {
   "cell_type": "code",
   "execution_count": 13,
   "metadata": {
    "collapsed": false
   },
   "outputs": [
    {
     "data": {
      "text/plain": [
       "<seaborn.axisgrid.FacetGrid at 0x442b4e0>"
      ]
     },
     "execution_count": 13,
     "metadata": {},
     "output_type": "execute_result"
    },
    {
     "data": {
      "image/png": "[encoded data removed]",
      "text/plain": [
       "<matplotlib.figure.Figure at 0x90d8ef0>"
      ]
     },
     "metadata": {},
     "output_type": "display_data"
    }
   ],
   "source": [
    "gender_grid = sns.factorplot(\"Sex\",data=titanic_data_frame,kind=\"count\")\n",
    "## Modify facet grid for x/y axis text\n",
    "(gender_grid.set_axis_labels(\"Gender\", \"Count of Passengers\")\n",
    ".despine(left=True))"
   ]
  },
  {
   "cell_type": "markdown",
   "metadata": {},
   "source": [
    "From this data set it appears more male passengers were on board rather than female passengers."
   ]
  },
  {
   "cell_type": "markdown",
   "metadata": {},
   "source": [
    "**Based on age group **"
   ]
  },
  {
   "cell_type": "markdown",
   "metadata": {},
   "source": [
    "I want to determine what was the average age of passengers on board the Titanic. Probably later on in my analysis,I would help me to identify whether ages of the passenger had an impact on their survival."
   ]
  },
  {
   "cell_type": "code",
   "execution_count": 14,
   "metadata": {
    "collapsed": false
   },
   "outputs": [
    {
     "name": "stdout",
     "output_type": "stream",
     "text": [
      "Count of ages in each age group\n",
      "AgeGroup\n",
      "Adult      508\n",
      "Child      180\n",
      "Elderly     26\n",
      "NA         177\n",
      "Name: Age, dtype: int64\n",
      "\n",
      "Mean of ages in each age group\n",
      "AgeGroup\n",
      "Adult      33.912402\n",
      "Child      12.695389\n",
      "Elderly    65.096154\n",
      "NA          0.000000\n",
      "Name: Age, dtype: float64\n",
      "\n",
      "Maximum age of passenger onboard 80.000000\n",
      "\n",
      "Minimum age of passenger onboard 0.420000\n"
     ]
    }
   ],
   "source": [
    "print \"Count of ages in each age group\"\n",
    "print titanic_data_frame.groupby(\"AgeGroup\")['Age'].count()\n",
    "print \"\"\n",
    "print \"Mean of ages in each age group\"\n",
    "titanic_age_groups=titanic_data_frame.groupby(\"AgeGroup\")\n",
    "print titanic_age_groups['Age'].mean()\n",
    "print \"\"\n",
    "print \"Maximum age of passenger onboard %f\" %titanic_data_frame[\"Age\"].max()\n",
    "print \"\"\n",
    "minimum_age=titanic_data_frame.groupby(\"AgeGroup\").get_group('Child')['Age'].min()\n",
    "print \"Minimum age of passenger onboard %f\" %minimum_age"
   ]
  },
  {
   "cell_type": "markdown",
   "metadata": {},
   "source": [
    "From this data set it appears more adults are on board as compared to children, elderly, people with no ages given(NA). Average age of passengers in the case of adults is 33.91 years, for children is 12.70 years and for elderly it is 65.10 years. Oldest passenger on board(ignoring the missing ages) had age of 80 years and the youngest passenger(ignoring the missing ages) was of 0.42 years old."
   ]
  },
  {
   "cell_type": "markdown",
   "metadata": {},
   "source": [
    "To plot the distribution of ages as a histogram of the passengers onboard, I will set the range of the plot to 0.42(minimum age) and 80(maximum age) with 80 bins "
   ]
  },
  {
   "cell_type": "code",
   "execution_count": 15,
   "metadata": {
    "collapsed": false
   },
   "outputs": [
    {
     "data": {
      "text/plain": [
       "array([[<matplotlib.axes._subplots.AxesSubplot object at 0x0000000009445470>]], dtype=object)"
      ]
     },
     "execution_count": 15,
     "metadata": {},
     "output_type": "execute_result"
    },
    {
     "data": {
      "image/png": "[encoded data removed]",
      "text/plain": [
       "<matplotlib.figure.Figure at 0x91105f8>"
      ]
     },
     "metadata": {},
     "output_type": "display_data"
    }
   ],
   "source": [
    "titanic_data_frame.hist(\"Age\",range=[0.42, 80],bins=80)"
   ]
  },
  {
   "cell_type": "markdown",
   "metadata": {},
   "source": [
    "From this visualization it appears, the maximum passenges onboard were between the age group 20-35."
   ]
  },
  {
   "cell_type": "markdown",
   "metadata": {},
   "source": [
    "For my further analysis, I would like to group passengers into various groups using a generic function, which I could use for grouping passengers based on age group as well"
   ]
  },
  {
   "cell_type": "code",
   "execution_count": 16,
   "metadata": {
    "collapsed": true
   },
   "outputs": [],
   "source": [
    "def group_passengers(data,criteria):\n",
    "    return data.get_group(criteria)"
   ]
  },
  {
   "cell_type": "code",
   "execution_count": 17,
   "metadata": {
    "collapsed": false
   },
   "outputs": [],
   "source": [
    "#Group children, adult, elderly passengers\n",
    "children_passengers=group_passengers(titanic_age_groups,\"Child\")\n",
    "adult_passengers=group_passengers(titanic_age_groups,\"Adult\")\n",
    "elderly_passengers=group_passengers(titanic_age_groups,\"Elderly\")"
   ]
  },
  {
   "cell_type": "markdown",
   "metadata": {},
   "source": [
    "I would also like to explore the relationship between age group and the gender of the passengers from this dataset and determine any relationships present if any."
   ]
  },
  {
   "cell_type": "code",
   "execution_count": 18,
   "metadata": {
    "collapsed": false
   },
   "outputs": [],
   "source": [
    "def group_age_gender_passengers(male_passenger,female_passenger):\n",
    "    total_count = male_passenger[\"PassengerId\"].count()+female_passenger[\"PassengerId\"].count()\n",
    "    print \"Male:%f\" %((float)(male_passenger[\"PassengerId\"].count())/total_count)\n",
    "    print \"Female:%f\" %((float)(female_passenger[\"PassengerId\"].count())/total_count)"
   ]
  },
  {
   "cell_type": "code",
   "execution_count": 19,
   "metadata": {
    "collapsed": false
   },
   "outputs": [
    {
     "name": "stdout",
     "output_type": "stream",
     "text": [
      "Children Gender proportion\n",
      "Male:0.572222\n",
      "Female:0.427778\n",
      "\n",
      "Adult Gender proportion\n",
      "Male:0.645669\n",
      "Female:0.354331\n",
      "\n",
      "Elderly Gender proportion\n",
      "Male:0.846154\n",
      "Female:0.153846\n"
     ]
    }
   ],
   "source": [
    "male_child_passengers=group_passengers(children_passengers.groupby(\"Sex\"),\"male\")\n",
    "female_child_passengers=group_passengers(children_passengers.groupby(\"Sex\"),\"female\")\n",
    "\n",
    "print \"Children Gender proportion\"\n",
    "group_age_gender_passengers(male_child_passengers,female_child_passengers)\n",
    "\n",
    "adult_male_passengers=group_passengers(adult_passengers.groupby(\"Sex\"),\"male\")\n",
    "adult_female_passengers=group_passengers(adult_passengers.groupby(\"Sex\"),\"female\")\n",
    "\n",
    "print \"\"\n",
    "print \"Adult Gender proportion\"\n",
    "group_age_gender_passengers(adult_male_passengers,adult_female_passengers)\n",
    "\n",
    "elderly_male_passengers=group_passengers(elderly_passengers.groupby(\"Sex\"),\"male\")\n",
    "elderly_female_passengers=group_passengers(elderly_passengers.groupby(\"Sex\"),\"female\")\n",
    "\n",
    "print \"\"\n",
    "print \"Elderly Gender proportion\"\n",
    "group_age_gender_passengers(elderly_male_passengers,elderly_female_passengers)"
   ]
  },
  {
   "cell_type": "markdown",
   "metadata": {},
   "source": [
    "It is evident from these statistics, that count of male passengers of each age group had been more than female passengers onboard."
   ]
  },
  {
   "cell_type": "code",
   "execution_count": 20,
   "metadata": {
    "collapsed": false
   },
   "outputs": [
    {
     "data": {
      "image/png": "[encoded data removed]",
      "text/plain": [
       "<matplotlib.figure.Figure at 0xb885be0>"
      ]
     },
     "metadata": {},
     "output_type": "display_data"
    }
   ],
   "source": [
    "age_gender_grid = sns.factorplot(\"AgeGroup\", hue=\"Sex\",data=titanic_data_frame,kind=\"count\")"
   ]
  },
  {
   "cell_type": "markdown",
   "metadata": {},
   "source": [
    "**Based on class **"
   ]
  },
  {
   "cell_type": "code",
   "execution_count": 21,
   "metadata": {
    "collapsed": false
   },
   "outputs": [
    {
     "name": "stdout",
     "output_type": "stream",
     "text": [
      "Count of passengers in each class\n",
      "Pclass\n",
      "1    216\n",
      "2    184\n",
      "3    491\n",
      "Name: PassengerId, dtype: int64\n"
     ]
    }
   ],
   "source": [
    "print \"Count of passengers in each class\"\n",
    "print titanic_data_frame.groupby(\"Pclass\")['PassengerId'].count()"
   ]
  },
  {
   "cell_type": "code",
   "execution_count": 22,
   "metadata": {
    "collapsed": false
   },
   "outputs": [],
   "source": [
    "#Define grouping criteria on the basis of \"Pclass\"\n",
    "passenger_class_group=titanic_data_frame.groupby(\"Pclass\")\n",
    "#Get class 1 passengers\n",
    "passenger_class1= group_passengers(passenger_class_group,1)\n",
    "#Get class 2 passengers\n",
    "passenger_class2= group_passengers(passenger_class_group,2)\n",
    "#Get class 3 passengers\n",
    "passenger_class3= group_passengers(passenger_class_group,3)"
   ]
  },
  {
   "cell_type": "code",
   "execution_count": 24,
   "metadata": {
    "collapsed": false
   },
   "outputs": [],
   "source": [
    "def compute_mean(data_set,total_data,criteria):\n",
    "    return ((float)(data_set[criteria].count())/total_data[criteria].count())"
   ]
  },
  {
   "cell_type": "code",
   "execution_count": 27,
   "metadata": {
    "collapsed": false
   },
   "outputs": [
    {
     "name": "stdout",
     "output_type": "stream",
     "text": [
      "Mean count of passengers per Pclass\n",
      "Class 1: 0.242424\n",
      "Class 2: 0.206510\n",
      "Class 3: 0.551066\n"
     ]
    }
   ],
   "source": [
    "print \"Mean count of passengers per Pclass\"\n",
    "print \"Class 1: %f\" %compute_mean(passenger_class1,titanic_data_frame,\"PassengerId\")\n",
    "print \"Class 2: %f\" %compute_mean(passenger_class2,titanic_data_frame,\"PassengerId\")\n",
    "print \"Class 3: %f\" %compute_mean(passenger_class3,titanic_data_frame,\"PassengerId\")"
   ]
  },
  {
   "cell_type": "markdown",
   "metadata": {},
   "source": [
    "From this analysis, it is clear that the maximum number of passengers that were onboard on Titanic, were travelling in Class 3. Corresponding visualization for the same:"
   ]
  },
  {
   "cell_type": "code",
   "execution_count": 26,
   "metadata": {
    "collapsed": false
   },
   "outputs": [
    {
     "data": {
      "text/plain": [
       "<seaborn.axisgrid.FacetGrid at 0x96289e8>"
      ]
     },
     "execution_count": 26,
     "metadata": {},
     "output_type": "execute_result"
    },
    {
     "data": {
      "image/png": "[encoded data removed]",
      "text/plain": [
       "<matplotlib.figure.Figure at 0x9628a20>"
      ]
     },
     "metadata": {},
     "output_type": "display_data"
    }
   ],
   "source": [
    "class_grid = sns.factorplot(\"Pclass\",data=titanic_data_frame,kind=\"count\")\n",
    "## Modify facet grid for x/y axis text\n",
    "(class_grid.set_axis_labels(\"Class\", \"Count of Passengers\")\n",
    ".despine(left=True))"
   ]
  },
  {
   "cell_type": "markdown",
   "metadata": {},
   "source": [
    "From these statistics/visualization, it appears maximum passengers were travelling Class 3 which were for the passengers having below the normal socio-economic conditions."
   ]
  },
  {
   "cell_type": "markdown",
   "metadata": {},
   "source": [
    "Here I would like to calculate the mean count of passengers based on class and the age group"
   ]
  },
  {
   "cell_type": "code",
   "execution_count": 68,
   "metadata": {
    "collapsed": true
   },
   "outputs": [],
   "source": [
    "def age_class_grouping_passengers(child_pclass_passengers,adult_pclass_passengers,elderly_pclass_passengers):\n",
    "    print \"Children Passengers: %f\" %compute_mean(child_pclass_passengers,children_passengers,\"PassengerId\")\n",
    "    print \"Adult Passengers: %f\" %compute_mean(adult_pclass_passengers,adult_passengers,\"PassengerId\")\n",
    "    print \"Elderly Passengers: %f\" %compute_mean(elderly_pclass_passengers,elderly_passengers,\"PassengerId\") "
   ]
  },
  {
   "cell_type": "code",
   "execution_count": 72,
   "metadata": {
    "collapsed": false
   },
   "outputs": [
    {
     "name": "stdout",
     "output_type": "stream",
     "text": [
      "Mean count per age group for Class 1\n",
      "Children Passengers: 0.116667\n",
      "Adult Passengers: 0.291339\n",
      "Elderly Passengers: 0.033465\n",
      "\n",
      "Mean count per age group for Class 2\n",
      "Children Passengers: 0.194444\n",
      "Adult Passengers: 0.263780\n",
      "Elderly Passengers: 0.007874\n",
      "\n",
      "Mean count per age group for Class 3\n",
      "Children Passengers: 0.688889\n",
      "Adult Passengers: 0.444882\n",
      "Elderly Passengers: 0.009843\n"
     ]
    }
   ],
   "source": [
    "#Define grouping criteria on the basis of \"AgeGroup\" for passenger in each class\n",
    "passenger_class1_age_group=passenger_class1.groupby(\"AgeGroup\")\n",
    "adult_class1_passengers=group_passengers(passenger_class1_age_group,\"Adult\")\n",
    "children_class1_passengers=group_passengers(passenger_class1_age_group,\"Child\")\n",
    "elderly_class1_passengers=group_passengers(passenger_class1_age_group,\"Elderly\")\n",
    "print \"Mean count per age group for Class 1\"\n",
    "age_class_grouping_passengers(children_class1_passengers,adult_class1_passengers,elderly_class1_passengers)\n",
    "print \"\"\n",
    "\n",
    "passenger_class2_age_group=passenger_class2.groupby(\"AgeGroup\")\n",
    "adult_class2_passengers=group_passengers(passenger_class2_age_group,\"Adult\")\n",
    "children_class2_passengers=group_passengers(passenger_class2_age_group,\"Child\")\n",
    "elderly_class2_passengers=group_passengers(passenger_class2_age_group,\"Elderly\")\n",
    "\n",
    "print \"Mean count per age group for Class 2\"\n",
    "age_class_grouping_passengers(children_class2_passengers,adult_class2_passengers,elderly_class2_passengers)\n",
    "print \"\"\n",
    "\n",
    "passenger_class3_age_group=passenger_class3.groupby(\"AgeGroup\")\n",
    "adult_class3_passengers=group_passengers(passenger_class3_age_group,\"Adult\")\n",
    "children_class3_passengers=group_passengers(passenger_class3_age_group,\"Child\")\n",
    "elderly_class3_passengers=group_passengers(passenger_class3_age_group,\"Elderly\")\n",
    "\n",
    "print \"Mean count per age group for Class 3\"\n",
    "age_class_grouping_passengers(children_class3_passengers,adult_class3_passengers,elderly_class3_passengers)"
   ]
  },
  {
   "cell_type": "code",
   "execution_count": 84,
   "metadata": {
    "collapsed": false
   },
   "outputs": [
    {
     "data": {
      "image/png": "[encoded data removed]",
      "text/plain": [
       "<matplotlib.figure.Figure at 0xbc442b0>"
      ]
     },
     "metadata": {},
     "output_type": "display_data"
    }
   ],
   "source": [
    "class_age_grid = sns.factorplot(\"Pclass\", hue=\"AgeGroup\",data=titanic_data_frame,kind=\"count\")"
   ]
  },
  {
   "cell_type": "markdown",
   "metadata": {},
   "source": [
    "From this data it is evident that the maximum number of passengers in the age group \"Adult\" were in Class 3(with average 0.444882), \"Child\" were also in Class 3 (with average 0.688889) and elderly were in Class 1(with average 0.033465)"
   ]
  },
  {
   "cell_type": "markdown",
   "metadata": {},
   "source": [
    "I would also like to explore the proportion of female passengers versus the male passengers in each class."
   ]
  },
  {
   "cell_type": "code",
   "execution_count": 52,
   "metadata": {
    "collapsed": false
   },
   "outputs": [],
   "source": [
    "def calculate_male_female_proportion_class(data):\n",
    "    class_gender_array=data.groupby(\"Sex\")[\"PassengerId\"].count()\n",
    "    male_count= class_gender_array.get(\"male\")\n",
    "    female_count=class_gender_array.get(\"female\")\n",
    "    print \"Male: %f\" %((float(male_count))/(male_count+female_count))\n",
    "    print \"Female: %f\" %((float(female_count))/(male_count+female_count))"
   ]
  },
  {
   "cell_type": "code",
   "execution_count": 53,
   "metadata": {
    "collapsed": false
   },
   "outputs": [
    {
     "name": "stdout",
     "output_type": "stream",
     "text": [
      "Gender proportions per class\n",
      "Class 1\n",
      "Male: 0.564815\n",
      "Female: 0.435185\n",
      "\n",
      "Class 2\n",
      "Male: 0.586957\n",
      "Female: 0.413043\n",
      "\n",
      "Class 3\n",
      "Male: 0.706721\n",
      "Female: 0.293279\n"
     ]
    }
   ],
   "source": [
    "print \"Gender proportions per class\"\n",
    "print \"Class 1\"\n",
    "calculate_male_female_proportion_class(passenger_class1)\n",
    "print \"\"\n",
    "print \"Class 2\"\n",
    "calculate_male_female_proportion_class(passenger_class2)\n",
    "print \"\"\n",
    "print \"Class 3\"\n",
    "calculate_male_female_proportion_class(passenger_class3)"
   ]
  },
  {
   "cell_type": "code",
   "execution_count": 28,
   "metadata": {
    "collapsed": false
   },
   "outputs": [
    {
     "data": {
      "image/png": "[encoded data removed]",
      "text/plain": [
       "<matplotlib.figure.Figure at 0xb7f0a20>"
      ]
     },
     "metadata": {},
     "output_type": "display_data"
    }
   ],
   "source": [
    "class_age_grid = sns.factorplot(\"Pclass\", hue=\"Sex\",data=titanic_data_frame,kind=\"count\")"
   ]
  },
  {
   "cell_type": "markdown",
   "metadata": {},
   "source": [
    "As it is already evident that the maximum number of passengers in the data set are male, from this visualization it is clear as well that the proportion of male passengers in each class had between significantly higher than the female passengers. The maximum difference in proportions had been in Class 3 with 0.706721 males versus 0.293279 female passengers"
   ]
  },
  {
   "cell_type": "markdown",
   "metadata": {},
   "source": [
    "**Based on Port of Embarkation**"
   ]
  },
  {
   "cell_type": "markdown",
   "metadata": {},
   "source": [
    "For my analysis I would like to identify if the boarding point (or the port of embarkation) had any impact on the passenger's survival. So I would like to group passengers on the basis of their port of embarkation as well."
   ]
  },
  {
   "cell_type": "code",
   "execution_count": 35,
   "metadata": {
    "collapsed": false
   },
   "outputs": [
    {
     "name": "stdout",
     "output_type": "stream",
     "text": [
      "Passengers count for each port\n",
      "Embarked\n",
      "C    168\n",
      "Q     77\n",
      "S    644\n",
      "Name: PassengerId, dtype: int64\n"
     ]
    }
   ],
   "source": [
    "#Group passengers based on port of embarkation\n",
    "port_passengers=titanic_data_frame.groupby(\"Embarked\")\n",
    "print \"Passengers count for each port\" \n",
    "print port_passengers[\"PassengerId\"].count()"
   ]
  },
  {
   "cell_type": "markdown",
   "metadata": {},
   "source": [
    "Reusing the above defined funtion for grouping passengers based on criteria and computing mean, I can do the same for classifying passengers based on their port of Embarkation i.e.Cherbourg, Queenstown, Southampton"
   ]
  },
  {
   "cell_type": "code",
   "execution_count": 37,
   "metadata": {
    "collapsed": false
   },
   "outputs": [],
   "source": [
    "#Separate dataframes for each port\n",
    "port_s_passengers=group_passengers(port_passengers,\"S\")\n",
    "port_q_passengers=group_passengers(port_passengers,\"Q\")\n",
    "port_c_passengers=group_passengers(port_passengers,\"C\")"
   ]
  },
  {
   "cell_type": "markdown",
   "metadata": {},
   "source": [
    "Here I reuse the above function to calculate mean probability of passengers embarking from each port"
   ]
  },
  {
   "cell_type": "code",
   "execution_count": 40,
   "metadata": {
    "collapsed": false
   },
   "outputs": [
    {
     "name": "stdout",
     "output_type": "stream",
     "text": [
      "Average number of passengers for each port\n",
      "Cherbourg 0.188552\n",
      "Queenstown 0.086420\n",
      "Southampton 0.722783\n"
     ]
    }
   ],
   "source": [
    "print \"Average number of passengers for each port\"\n",
    "print \"Cherbourg %f\" %compute_mean(port_c_passengers,titanic_data_frame,\"PassengerId\")\n",
    "print \"Queenstown %f\" %compute_mean(port_q_passengers,titanic_data_frame,\"PassengerId\")\n",
    "print \"Southampton %f\" %compute_mean(port_s_passengers,titanic_data_frame,\"PassengerId\")"
   ]
  },
  {
   "cell_type": "markdown",
   "metadata": {},
   "source": [
    "Corresponding visualization for the same"
   ]
  },
  {
   "cell_type": "code",
   "execution_count": 41,
   "metadata": {
    "collapsed": false
   },
   "outputs": [
    {
     "data": {
      "text/plain": [
       "<seaborn.axisgrid.FacetGrid at 0xb79a5c0>"
      ]
     },
     "execution_count": 41,
     "metadata": {},
     "output_type": "execute_result"
    },
    {
     "data": {
      "image/png": "[encoded data removed]",
      "text/plain": [
       "<matplotlib.figure.Figure at 0xb79a668>"
      ]
     },
     "metadata": {},
     "output_type": "display_data"
    }
   ],
   "source": [
    "port_embark_fg = sns.factorplot(\"Embarked\",data=titanic_data_frame,kind=\"count\")\n",
    "## Modify facet grid(port_embark_fg) for x/y axis text\n",
    "(port_embark_fg.set_axis_labels(\"Port of Embarkation\", \"Count of Passengers\")\n",
    ".despine(left=True))"
   ]
  },
  {
   "cell_type": "markdown",
   "metadata": {},
   "source": [
    "From this analysis it is clear that the maximum number of passengers who embarked in Titanic were from Southampton."
   ]
  },
  {
   "cell_type": "markdown",
   "metadata": {},
   "source": [
    "<h3 align=\"center\">Investigating passengers survival</h3>"
   ]
  },
  {
   "cell_type": "markdown",
   "metadata": {},
   "source": [
    "**Based on Survival**"
   ]
  },
  {
   "cell_type": "markdown",
   "metadata": {},
   "source": [
    "For my further analysis, I would like to keep data sets of surviving and non surviving passengers seperately"
   ]
  },
  {
   "cell_type": "code",
   "execution_count": 54,
   "metadata": {
    "collapsed": false
   },
   "outputs": [
    {
     "data": {
      "text/html": [
       "<div>\n",
       "<table border=\"1\" class=\"dataframe\">\n",
       "  <thead>\n",
       "    <tr style=\"text-align: right;\">\n",
       "      <th></th>\n",
       "      <th>PassengerId</th>\n",
       "      <th>Survived</th>\n",
       "      <th>Pclass</th>\n",
       "      <th>Name</th>\n",
       "      <th>Sex</th>\n",
       "      <th>Age</th>\n",
       "      <th>SibSp</th>\n",
       "      <th>Parch</th>\n",
       "      <th>Ticket</th>\n",
       "      <th>Fare</th>\n",
       "      <th>Embarked</th>\n",
       "      <th>Survival_Status</th>\n",
       "      <th>AgeGroup</th>\n",
       "    </tr>\n",
       "  </thead>\n",
       "  <tbody>\n",
       "    <tr>\n",
       "      <th>1</th>\n",
       "      <td>2</td>\n",
       "      <td>1</td>\n",
       "      <td>1</td>\n",
       "      <td>Cumings, Mrs. John Bradley (Florence Briggs Th...</td>\n",
       "      <td>female</td>\n",
       "      <td>38.0</td>\n",
       "      <td>1</td>\n",
       "      <td>0</td>\n",
       "      <td>PC 17599</td>\n",
       "      <td>71.2833</td>\n",
       "      <td>C</td>\n",
       "      <td>Survived</td>\n",
       "      <td>Adult</td>\n",
       "    </tr>\n",
       "    <tr>\n",
       "      <th>2</th>\n",
       "      <td>3</td>\n",
       "      <td>1</td>\n",
       "      <td>3</td>\n",
       "      <td>Heikkinen, Miss. Laina</td>\n",
       "      <td>female</td>\n",
       "      <td>26.0</td>\n",
       "      <td>0</td>\n",
       "      <td>0</td>\n",
       "      <td>STON/O2. 3101282</td>\n",
       "      <td>7.9250</td>\n",
       "      <td>S</td>\n",
       "      <td>Survived</td>\n",
       "      <td>Adult</td>\n",
       "    </tr>\n",
       "    <tr>\n",
       "      <th>3</th>\n",
       "      <td>4</td>\n",
       "      <td>1</td>\n",
       "      <td>1</td>\n",
       "      <td>Futrelle, Mrs. Jacques Heath (Lily May Peel)</td>\n",
       "      <td>female</td>\n",
       "      <td>35.0</td>\n",
       "      <td>1</td>\n",
       "      <td>0</td>\n",
       "      <td>113803</td>\n",
       "      <td>53.1000</td>\n",
       "      <td>S</td>\n",
       "      <td>Survived</td>\n",
       "      <td>Adult</td>\n",
       "    </tr>\n",
       "    <tr>\n",
       "      <th>8</th>\n",
       "      <td>9</td>\n",
       "      <td>1</td>\n",
       "      <td>3</td>\n",
       "      <td>Johnson, Mrs. Oscar W (Elisabeth Vilhelmina Berg)</td>\n",
       "      <td>female</td>\n",
       "      <td>27.0</td>\n",
       "      <td>0</td>\n",
       "      <td>2</td>\n",
       "      <td>347742</td>\n",
       "      <td>11.1333</td>\n",
       "      <td>S</td>\n",
       "      <td>Survived</td>\n",
       "      <td>Adult</td>\n",
       "    </tr>\n",
       "    <tr>\n",
       "      <th>9</th>\n",
       "      <td>10</td>\n",
       "      <td>1</td>\n",
       "      <td>2</td>\n",
       "      <td>Nasser, Mrs. Nicholas (Adele Achem)</td>\n",
       "      <td>female</td>\n",
       "      <td>14.0</td>\n",
       "      <td>1</td>\n",
       "      <td>0</td>\n",
       "      <td>237736</td>\n",
       "      <td>30.0708</td>\n",
       "      <td>C</td>\n",
       "      <td>Survived</td>\n",
       "      <td>Child</td>\n",
       "    </tr>\n",
       "  </tbody>\n",
       "</table>\n",
       "</div>"
      ],
      "text/plain": [
       "   PassengerId  Survived  Pclass  \\\n",
       "1            2         1       1   \n",
       "2            3         1       3   \n",
       "3            4         1       1   \n",
       "8            9         1       3   \n",
       "9           10         1       2   \n",
       "\n",
       "                                                Name     Sex   Age  SibSp  \\\n",
       "1  Cumings, Mrs. John Bradley (Florence Briggs Th...  female  38.0      1   \n",
       "2                             Heikkinen, Miss. Laina  female  26.0      0   \n",
       "3       Futrelle, Mrs. Jacques Heath (Lily May Peel)  female  35.0      1   \n",
       "8  Johnson, Mrs. Oscar W (Elisabeth Vilhelmina Berg)  female  27.0      0   \n",
       "9                Nasser, Mrs. Nicholas (Adele Achem)  female  14.0      1   \n",
       "\n",
       "   Parch            Ticket     Fare Embarked Survival_Status AgeGroup  \n",
       "1      0          PC 17599  71.2833        C        Survived    Adult  \n",
       "2      0  STON/O2. 3101282   7.9250        S        Survived    Adult  \n",
       "3      0            113803  53.1000        S        Survived    Adult  \n",
       "8      2            347742  11.1333        S        Survived    Adult  \n",
       "9      0            237736  30.0708        C        Survived    Child  "
      ]
     },
     "execution_count": 54,
     "metadata": {},
     "output_type": "execute_result"
    }
   ],
   "source": [
    "## split data frames into groups of passengers who survived\n",
    "surviving_passengers_df =titanic_data_frame[titanic_data_frame['Survived']==1]\n",
    "## split data frames into groups of passengers who did not survive\n",
    "non_surviving_passengers_df =titanic_data_frame[titanic_data_frame['Survived']==0]\n",
    "surviving_passengers_df.head()"
   ]
  },
  {
   "cell_type": "markdown",
   "metadata": {},
   "source": [
    "Visualization of passengers how many passengers survived and how many did not"
   ]
  },
  {
   "cell_type": "code",
   "execution_count": 55,
   "metadata": {
    "collapsed": false
   },
   "outputs": [
    {
     "data": {
      "text/plain": [
       "<seaborn.axisgrid.FacetGrid at 0xbd02160>"
      ]
     },
     "execution_count": 55,
     "metadata": {},
     "output_type": "execute_result"
    },
    {
     "data": {
      "image/png": "[encoded data removed]",
      "text/plain": [
       "<matplotlib.figure.Figure at 0xbd02c50>"
      ]
     },
     "metadata": {},
     "output_type": "display_data"
    }
   ],
   "source": [
    "## Factor plot to show count of passengers who survived\n",
    "survival_fg = sns.factorplot(x=\"Survival_Status\",data=titanic_data_frame,kind=\"count\")\n",
    "## Modify facet grid for x/y axis text\n",
    "(survival_fg.set_axis_labels(\"Survival Rate\", \"Count of Passengers\")\n",
    ".despine(left=True))"
   ]
  },
  {
   "cell_type": "code",
   "execution_count": 56,
   "metadata": {
    "collapsed": false
   },
   "outputs": [
    {
     "name": "stdout",
     "output_type": "stream",
     "text": [
      "Survival count\n",
      "\n",
      "Survived: 342\n",
      "Did not survive: 549\n"
     ]
    }
   ],
   "source": [
    "##Calculate count of passengers who survived and who did not\n",
    "surviving_passengers_count = surviving_passengers_df['PassengerId'].count()\n",
    "print \"Survival count\"\n",
    "print \"\"\n",
    "print \"Survived: %d\" %surviving_passengers_count\n",
    "non_surviving_passengers_count = non_surviving_passengers_df['PassengerId'].count()\n",
    "print \"Did not survive: %d\" %non_surviving_passengers_count"
   ]
  },
  {
   "cell_type": "markdown",
   "metadata": {},
   "source": [
    "Comparison count of males/females who survived."
   ]
  },
  {
   "cell_type": "code",
   "execution_count": 13,
   "metadata": {
    "collapsed": false
   },
   "outputs": [
    {
     "data": {
      "text/plain": [
       "Sex          \n",
       "female  count    233.000000\n",
       "        mean     429.699571\n",
       "        std      255.048296\n",
       "        min        2.000000\n",
       "        25%      238.000000\n",
       "        50%      400.000000\n",
       "        75%      636.000000\n",
       "        max      888.000000\n",
       "male    count    109.000000\n",
       "        mean     475.724771\n",
       "        std      244.717482\n",
       "        min       18.000000\n",
       "        25%      272.000000\n",
       "        50%      508.000000\n",
       "        75%      680.000000\n",
       "        max      890.000000\n",
       "Name: PassengerId, dtype: float64"
      ]
     },
     "execution_count": 13,
     "metadata": {},
     "output_type": "execute_result"
    }
   ],
   "source": [
    "# Statistics about passengers who survived based on sex\n",
    "surviving_passengers_df.groupby('Sex')['PassengerId'].describe()"
   ]
  },
  {
   "cell_type": "markdown",
   "metadata": {},
   "source": [
    "Calculate count of passengers on board who survived and who did not based on gender"
   ]
  },
  {
   "cell_type": "code",
   "execution_count": 49,
   "metadata": {
    "collapsed": false
   },
   "outputs": [
    {
     "name": "stdout",
     "output_type": "stream",
     "text": [
      "Survival count based on gender:\n",
      "\n",
      "Survived:\n",
      "Male: 109\n",
      "Female: 233\n",
      "\n",
      "Did not Survive:\n",
      "Male: 468\n",
      "Female: 81\n"
     ]
    }
   ],
   "source": [
    "##Find surviving passengers data frame based on gender\n",
    "male_surviving_passengers_df = surviving_passengers_df[surviving_passengers_df['Sex']=='male']\n",
    "female_surviving_passengers_df = surviving_passengers_df[surviving_passengers_df['Sex']=='female']\n",
    "print \"Survival count based on gender:\"\n",
    "print \"\"\n",
    "print \"Survived:\"\n",
    "print \"Male: %d\" %male_surviving_passengers_df['PassengerId'].count()\n",
    "print \"Female: %d\" %female_surviving_passengers_df['PassengerId'].count()\n",
    "\n",
    "##Find non-surviving passengers df based on gender\n",
    "male_non_surviving_passengers_df = non_surviving_passengers_df[non_surviving_passengers_df['Sex']=='male']\n",
    "female_non_surviving_passengers_df = non_surviving_passengers_df[non_surviving_passengers_df['Sex']=='female']\n",
    "\n",
    "print \"\"\n",
    "print \"Did not Survive:\"\n",
    "print \"Male: %d\" %male_non_surviving_passengers_df['PassengerId'].count()\n",
    "print \"Female: %d\" %female_non_surviving_passengers_df['PassengerId'].count()"
   ]
  },
  {
   "cell_type": "markdown",
   "metadata": {},
   "source": [
    "From this data set we could make there were more male passengers onboard then female passengers. But the survival rate of female passengers had been more. The rate of survival for male vs female passengers had been :"
   ]
  },
  {
   "cell_type": "code",
   "execution_count": 15,
   "metadata": {
    "collapsed": false
   },
   "outputs": [
    {
     "name": "stdout",
     "output_type": "stream",
     "text": [
      "Male survival rate 0.188908\n",
      "Female survival rate 0.742038\n"
     ]
    }
   ],
   "source": [
    "print \"Male survival rate %f\" %(float(male_surviving_passengers_df['PassengerId'].count())/float(male_passengers_df['PassengerId'].count()))\n",
    "print \"Female survival rate %f\" %(float(female_surviving_passengers_df['PassengerId'].count())/float(female_passengers_df['PassengerId'].count()))"
   ]
  },
  {
   "cell_type": "markdown",
   "metadata": {},
   "source": [
    "From this we can make out that the **female passengers had more chances of surviving from the male passengers**"
   ]
  },
  {
   "cell_type": "markdown",
   "metadata": {},
   "source": [
    "**Visualization based on gender for survival **"
   ]
  },
  {
   "cell_type": "code",
   "execution_count": 16,
   "metadata": {
    "collapsed": false
   },
   "outputs": [
    {
     "data": {
      "text/plain": [
       "<seaborn.axisgrid.FacetGrid at 0x94802b0>"
      ]
     },
     "execution_count": 16,
     "metadata": {},
     "output_type": "execute_result"
    },
    {
     "data": {
      "image/png": "[encoded data removed]",
      "text/plain": [
       "<matplotlib.figure.Figure at 0x9480a20>"
      ]
     },
     "metadata": {},
     "output_type": "display_data"
    }
   ],
   "source": [
    "gender_fg = sns.factorplot(x=\"Survival_Status\",col=\"Sex\",data=titanic_data_frame,kind=\"count\")\n",
    "## Modify facet grid for x/y axis text\n",
    "(gender_fg.set_axis_labels(\"Survival Rate\", \"Count of Passengers\")\n",
    ".despine(left=True))"
   ]
  },
  {
   "cell_type": "markdown",
   "metadata": {},
   "source": [
    "<h4>Survival rate based on age</h4>"
   ]
  },
  {
   "cell_type": "markdown",
   "metadata": {},
   "source": [
    "We can determine relationship between passenger survival based on age and sex"
   ]
  },
  {
   "cell_type": "code",
   "execution_count": 17,
   "metadata": {
    "collapsed": false
   },
   "outputs": [
    {
     "data": {
      "text/plain": [
       "<seaborn.axisgrid.FacetGrid at 0xb4aa6a0>"
      ]
     },
     "execution_count": 17,
     "metadata": {},
     "output_type": "execute_result"
    },
    {
     "data": {
      "image/png": "[encoded data removed]",
      "text/plain": [
       "<matplotlib.figure.Figure at 0xb4aa6d8>"
      ]
     },
     "metadata": {},
     "output_type": "display_data"
    }
   ],
   "source": [
    "titanic_fg = sns.FacetGrid(titanic_data_frame,size=4, aspect=.7)\n",
    "(titanic_fg.map(sns.boxplot, \"Sex\", \"Age\", \"Survival_Status\")\n",
    ".despine(left=True)\n",
    ".add_legend(title=\"Survived\"))  "
   ]
  },
  {
   "cell_type": "markdown",
   "metadata": {},
   "source": [
    "From this we can make out, Female passengers had more chances of surving. Male passenges who survived had an average age around 23 and female passengers who survived had an average age around 25."
   ]
  },
  {
   "cell_type": "code",
   "execution_count": 18,
   "metadata": {
    "collapsed": false
   },
   "outputs": [
    {
     "name": "stdout",
     "output_type": "stream",
     "text": [
      "Male survival rate 23.272202\n",
      "Female survival rate 24.390558\n"
     ]
    }
   ],
   "source": [
    "print \"Male survival rate %f\" %male_surviving_passengers_df['Age'].mean()\n",
    "print \"Female survival rate %f\" %female_surviving_passengers_df['Age'].mean()"
   ]
  },
  {
   "cell_type": "markdown",
   "metadata": {},
   "source": [
    "We can also check the relationship between the age group of passengers, sex and how much it impacted their survival rate"
   ]
  },
  {
   "cell_type": "code",
   "execution_count": 19,
   "metadata": {
    "collapsed": false
   },
   "outputs": [
    {
     "data": {
      "image/png": "[encoded data removed]",
      "text/plain": [
       "<matplotlib.figure.Figure at 0xb4b3828>"
      ]
     },
     "metadata": {},
     "output_type": "display_data"
    }
   ],
   "source": [
    "ax = sns.factorplot(x=\"Sex\", y=\"Survived\", hue=\"AgeGroup\", data=titanic_data_frame,kind=\"bar\")"
   ]
  },
  {
   "cell_type": "markdown",
   "metadata": {},
   "source": [
    "From this graph we can clearly make out that infants(between 0.1-1 years) irrespective of gender and elderly woman had 100% survival rate. Female passengers in general had the highest survival rate. The statistics corresponding to this:"
   ]
  },
  {
   "cell_type": "code",
   "execution_count": 20,
   "metadata": {
    "collapsed": false
   },
   "outputs": [
    {
     "name": "stdout",
     "output_type": "stream",
     "text": [
      "Surviving Female age groups average:\n",
      "AgeGroup\n",
      "Adult      0.767327\n",
      "Child      0.679245\n",
      "Elderly    1.000000\n",
      "Infant     1.000000\n",
      "NA         0.679245\n",
      "Name: PassengerId, dtype: float64\n",
      "\n",
      "Surviving Male age groups average\n",
      "AgeGroup\n",
      "Adult      0.179625\n",
      "Child      0.339623\n",
      "Elderly    0.136364\n",
      "Infant     1.000000\n",
      "NA         0.129032\n",
      "Name: PassengerId, dtype: float64\n"
     ]
    }
   ],
   "source": [
    "#Group surviving female passengers based on age group and count surviving passsengers \n",
    "surviving_female_ages=female_surviving_passengers_df.groupby('AgeGroup')['PassengerId'].count()\n",
    "#Group all female passengers based on age group and count  passsengers \n",
    "all_female_ages=female_passengers_df.groupby('AgeGroup')['PassengerId'].count()\n",
    "print \"Surviving Female age groups average:\"\n",
    "print surviving_female_ages/all_female_ages\n",
    "\n",
    "#Group surviving male passengers based on age group and count surviving passsengers \n",
    "surviving_male_ages=male_surviving_passengers_df.groupby('AgeGroup')['PassengerId'].count()\n",
    "#Group all male passengers based on age group and count passsengers \n",
    "all_male_ages=male_passengers_df.groupby('AgeGroup')['PassengerId'].count()\n",
    "print \"\"\n",
    "print \"Surviving Male age groups average\"\n",
    "print surviving_male_ages/all_male_ages"
   ]
  },
  {
   "cell_type": "markdown",
   "metadata": {},
   "source": [
    "<h4>Analysis based on passenger travelling conditions</h4>"
   ]
  },
  {
   "cell_type": "code",
   "execution_count": 21,
   "metadata": {
    "collapsed": false
   },
   "outputs": [
    {
     "name": "stdout",
     "output_type": "stream",
     "text": [
      "In class 1\n",
      "136 survived out of 216\n",
      "\n",
      "In class 2\n",
      "87 survived out of 184\n",
      "\n",
      "In class 3\n",
      "119 survived out of 491\n"
     ]
    }
   ],
   "source": [
    "class1_passengers = titanic_data_frame[titanic_data_frame['Pclass']==1]\n",
    "surviving_class1_passengers = surviving_passengers_df[surviving_passengers_df['Pclass']==1]\n",
    "print \"In class 1\"\n",
    "print \"%d survived out of %d\" %(surviving_class1_passengers['PassengerId'].count(),class1_passengers['PassengerId'].count())\n",
    "print \"\"\n",
    "class2_passengers = titanic_data_frame[titanic_data_frame['Pclass']==2]\n",
    "surviving_class2_passengers = surviving_passengers_df[surviving_passengers_df['Pclass']==2]\n",
    "print \"In class 2\"\n",
    "print \"%d survived out of %d\" %(surviving_class2_passengers['PassengerId'].count(),class2_passengers['PassengerId'].count())\n",
    "\n",
    "class3_passengers = titanic_data_frame[titanic_data_frame['Pclass']==3]\n",
    "surviving_class3_passengers = surviving_passengers_df[surviving_passengers_df['Pclass']==3]\n",
    "print \"\"\n",
    "print \"In class 3\"\n",
    "print \"%d survived out of %d\" %(surviving_class3_passengers['PassengerId'].count(),class3_passengers['PassengerId'].count())"
   ]
  },
  {
   "cell_type": "code",
   "execution_count": 23,
   "metadata": {
    "collapsed": false
   },
   "outputs": [
    {
     "data": {
      "image/png": "[encoded data removed]",
      "text/plain": [
       "<matplotlib.figure.Figure at 0xb7c1550>"
      ]
     },
     "metadata": {},
     "output_type": "display_data"
    }
   ],
   "source": [
    "class_grid = sns.factorplot(\"Pclass\",\"Survived\",  data=titanic_data_frame,kind=\"bar\")"
   ]
  },
  {
   "cell_type": "code",
   "execution_count": 22,
   "metadata": {
    "collapsed": false
   },
   "outputs": [
    {
     "data": {
      "text/plain": [
       "Pclass\n",
       "1    0.629630\n",
       "2    0.472826\n",
       "3    0.242363\n",
       "Name: Survived, dtype: float64"
      ]
     },
     "execution_count": 22,
     "metadata": {},
     "output_type": "execute_result"
    }
   ],
   "source": [
    "titanic_data_frame.groupby('Pclass')[\"Survived\"].mean()"
   ]
  },
  {
   "cell_type": "markdown",
   "metadata": {},
   "source": [
    "As per the above statistic, survival rate is highest in class 1 with mean of 0.6296."
   ]
  },
  {
   "cell_type": "markdown",
   "metadata": {},
   "source": [
    "We can also check from surviving passengers passengers of which gender has the highest probability of surviving in each class"
   ]
  },
  {
   "cell_type": "code",
   "execution_count": 24,
   "metadata": {
    "collapsed": false
   },
   "outputs": [
    {
     "data": {
      "image/png": "[encoded data removed]",
      "text/plain": [
       "<matplotlib.figure.Figure at 0xbcfc358>"
      ]
     },
     "metadata": {},
     "output_type": "display_data"
    }
   ],
   "source": [
    "surviving_class_grid = sns.factorplot(\"Pclass\",hue=\"Sex\",kind=\"count\",data=surviving_passengers_df)"
   ]
  },
  {
   "cell_type": "code",
   "execution_count": 142,
   "metadata": {
    "collapsed": false
   },
   "outputs": [
    {
     "data": {
      "text/plain": [
       "Sex\n",
       "female    0.968085\n",
       "male      0.368852\n",
       "Name: Survived, dtype: float64"
      ]
     },
     "execution_count": 142,
     "metadata": {},
     "output_type": "execute_result"
    }
   ],
   "source": [
    "class1_passengers.groupby('Sex').Survived.mean()"
   ]
  },
  {
   "cell_type": "markdown",
   "metadata": {},
   "source": [
    "From this visualization it is clear that female passengers overall had the highest survival rate irrespective of the class they were travelling in."
   ]
  },
  {
   "cell_type": "code",
   "execution_count": 26,
   "metadata": {
    "collapsed": false
   },
   "outputs": [
    {
     "data": {
      "image/png": "[encoded data removed]",
      "text/plain": [
       "<matplotlib.figure.Figure at 0xd2de438>"
      ]
     },
     "metadata": {},
     "output_type": "display_data"
    }
   ],
   "source": [
    "surviving_class_age_grid = sns.factorplot(\"Pclass\",hue=\"AgeGroup\",kind=\"count\",data=titanic_data_frame)"
   ]
  },
  {
   "cell_type": "markdown",
   "metadata": {},
   "source": [
    "From this visualization, it appears that adults(between age 18-59) have the highest overall rate of survival in all the classes, highest being in Class 3. Children have the highest rate of survival in Class 3 and elderly in Class 1."
   ]
  },
  {
   "cell_type": "code",
   "execution_count": 32,
   "metadata": {
    "collapsed": true
   },
   "outputs": [],
   "source": [
    "def class_age_survival(data,groupby):\n",
    "    return data.groupby(groupby).Survived.mean()"
   ]
  },
  {
   "cell_type": "code",
   "execution_count": 35,
   "metadata": {
    "collapsed": false
   },
   "outputs": [
    {
     "name": "stdout",
     "output_type": "stream",
     "text": [
      "Class 1 passengers survival based on age\n",
      "AgeGroup\n",
      "Adult      0.675159\n",
      "Child      0.909091\n",
      "Elderly    0.294118\n",
      "Infant     1.000000\n",
      "NA         0.466667\n",
      "Name: Survived, dtype: float64\n",
      "\n",
      "Class 2 passengers survival based on age\n",
      "AgeGroup\n",
      "Adult      0.417808\n",
      "Child      0.900000\n",
      "Elderly    0.250000\n",
      "Infant     1.000000\n",
      "NA         0.363636\n",
      "Name: Survived, dtype: float64\n",
      "\n",
      "Class 3 passengers survival based on age\n",
      "AgeGroup\n",
      "Adult      0.202206\n",
      "Child      0.346667\n",
      "Elderly    0.200000\n",
      "Infant     1.000000\n",
      "NA         0.250000\n",
      "Name: Survived, dtype: float64\n"
     ]
    }
   ],
   "source": [
    "print \"Class 1 passengers survival based on age\"\n",
    "print class_age_survival(class1_passengers,\"AgeGroup\")\n",
    "print \"\"\n",
    "print \"Class 2 passengers survival based on age\"\n",
    "print class_age_survival(class2_passengers,\"AgeGroup\")\n",
    "print \"\"\n",
    "print \"Class 3 passengers survival based on age\"\n",
    "print class_age_survival(class3_passengers,\"AgeGroup\")"
   ]
  },
  {
   "cell_type": "code",
   "execution_count": 160,
   "metadata": {
    "collapsed": false
   },
   "outputs": [
    {
     "data": {
      "text/plain": [
       "Pclass       \n",
       "1       count    136.000000\n",
       "        mean      31.727353\n",
       "        std       16.913693\n",
       "        min        0.000000\n",
       "        25%       22.000000\n",
       "        50%       33.500000\n",
       "        75%       43.250000\n",
       "        max       80.000000\n",
       "2       count     87.000000\n",
       "        mean      24.710690\n",
       "        std       15.481908\n",
       "        min        0.000000\n",
       "        25%       13.500000\n",
       "        50%       27.000000\n",
       "        75%       34.000000\n",
       "        max       62.000000\n",
       "3       count    119.000000\n",
       "        mean      14.747227\n",
       "        std       13.789611\n",
       "        min        0.000000\n",
       "        25%        0.000000\n",
       "        50%       16.000000\n",
       "        75%       26.000000\n",
       "        max       63.000000\n",
       "Name: Age, dtype: float64"
      ]
     },
     "execution_count": 160,
     "metadata": {},
     "output_type": "execute_result"
    }
   ],
   "source": [
    "#compute age based statistics of passengers in each class who survived\n",
    "surviving_passengers_df.groupby('Pclass')['Age'].describe()"
   ]
  },
  {
   "cell_type": "code",
   "execution_count": 173,
   "metadata": {
    "collapsed": false
   },
   "outputs": [
    {
     "name": "stdout",
     "output_type": "stream",
     "text": [
      "Count per embarked port\n",
      "Embarked\n",
      "       2\n",
      "C     93\n",
      "Q     30\n",
      "S    217\n",
      "Name: PassengerId, dtype: int64\n",
      "Mean per embarked port\n",
      "Embarked\n",
      "     446.000000\n",
      "C    473.989247\n",
      "Q    319.966667\n",
      "S    448.857143\n",
      "Name: PassengerId, dtype: float64\n",
      "Standard Deviation per embarked port\n",
      "Embarked\n",
      "     543.058008\n",
      "C    253.344348\n",
      "Q    224.947424\n",
      "S    249.991764\n",
      "Name: PassengerId, dtype: float64\n"
     ]
    }
   ],
   "source": [
    "## Statistics based on port of embarkation\n",
    "print 'Count per embarked port'\n",
    "print surviving_passengers_df.groupby('Embarked')['PassengerId'].count()\n",
    "print 'Mean per embarked port'\n",
    "print surviving_passengers_df.groupby('Embarked')['PassengerId'].mean()\n",
    "print 'Standard Deviation per embarked port'\n",
    "print surviving_passengers_df.groupby('Embarked')['PassengerId'].std()\n"
   ]
  },
  {
   "cell_type": "code",
   "execution_count": 182,
   "metadata": {
    "collapsed": false
   },
   "outputs": [
    {
     "data": {
      "text/plain": [
       "SibSp\n",
       "0    210\n",
       "1    112\n",
       "2     13\n",
       "3      4\n",
       "4      3\n",
       "Name: PassengerId, dtype: int64"
      ]
     },
     "execution_count": 182,
     "metadata": {},
     "output_type": "execute_result"
    }
   ],
   "source": [
    "#Count the no of surviving passengers having sibling/spouse on aboard\n",
    "surviving_passengers_df.groupby('SibSp')['PassengerId'].count()"
   ]
  },
  {
   "cell_type": "code",
   "execution_count": 183,
   "metadata": {
    "collapsed": false
   },
   "outputs": [
    {
     "data": {
      "text/plain": [
       "Parch\n",
       "0    233\n",
       "1     65\n",
       "2     40\n",
       "3      3\n",
       "5      1\n",
       "Name: PassengerId, dtype: int64"
      ]
     },
     "execution_count": 183,
     "metadata": {},
     "output_type": "execute_result"
    }
   ],
   "source": [
    "#Count the no of surviving passengers having parents on aboard\n",
    "surviving_passengers_df.groupby('Parch')['PassengerId'].count()"
   ]
  },
  {
   "cell_type": "code",
   "execution_count": 205,
   "metadata": {
    "collapsed": false
   },
   "outputs": [
    {
     "data": {
      "text/plain": [
       "Survived  Parch  SibSp\n",
       "0         0      0        374\n",
       "                 1         59\n",
       "                 2         12\n",
       "          1      0         13\n",
       "                 1         23\n",
       "                 2          1\n",
       "                 3          7\n",
       "                 4          9\n",
       "          2      0          8\n",
       "                 1          7\n",
       "                 2          2\n",
       "                 3          5\n",
       "                 4          6\n",
       "                 5          5\n",
       "                 8          7\n",
       "          3      1          2\n",
       "          4      0          1\n",
       "                 1          3\n",
       "          5      0          2\n",
       "                 1          2\n",
       "          6      1          1\n",
       "1         0      0        163\n",
       "                 1         64\n",
       "                 2          4\n",
       "                 3          2\n",
       "          1      0         25\n",
       "                 1         34\n",
       "                 2          6\n",
       "          2      0         21\n",
       "                 1         12\n",
       "                 2          2\n",
       "                 3          2\n",
       "                 4          3\n",
       "          3      0          1\n",
       "                 1          1\n",
       "                 2          1\n",
       "          5      1          1\n",
       "Name: Parch, dtype: int64"
      ]
     },
     "execution_count": 205,
     "metadata": {},
     "output_type": "execute_result"
    }
   ],
   "source": [
    "#Determine parents/spouse/sibling count for passengers on board\n",
    "titanic_data_frame.groupby(['Survived','Parch','SibSp'])['Parch'].count()"
   ]
  },
  {
   "cell_type": "code",
   "execution_count": 316,
   "metadata": {
    "collapsed": false,
    "scrolled": false
   },
   "outputs": [
    {
     "name": "stdout",
     "output_type": "stream",
     "text": [
      "     PassengerId  Survived  Pclass                                    Name  \\\n",
      "262          263         0       1                       Taussig, Mr. Emil   \n",
      "558          559         1       1  Taussig, Mrs. Emil (Tillie Mandelbaum)   \n",
      "585          586         1       1                     Taussig, Miss. Ruth   \n",
      "\n",
      "        Sex   Age  SibSp  Parch  Ticket   Fare Cabin Embarked  \n",
      "262    male  52.0      1      1  110413  79.65   E67        S  \n",
      "558  female  39.0      1      1  110413  79.65   E67        S  \n",
      "585  female  18.0      0      2  110413  79.65   E68        S  \n",
      "     PassengerId  Survived  Pclass                            Name   Sex  \\\n",
      "110          111         0       1  Porter, Mr. Walter Chamberlain  male   \n",
      "475          476         0       1     Clifford, Mr. George Quincy  male   \n",
      "\n",
      "      Age  SibSp  Parch  Ticket  Fare Cabin Embarked  \n",
      "110  47.0      0      0  110465  52.0  C110        S  \n",
      "475   NaN      0      0  110465  52.0   A14        S  \n",
      "     PassengerId  Survived  Pclass                               Name     Sex  \\\n",
      "151          152         1       1  Pears, Mrs. Thomas (Edith Wearne)  female   \n",
      "336          337         0       1          Pears, Mr. Thomas Clinton    male   \n",
      "\n",
      "      Age  SibSp  Parch  Ticket  Fare Cabin Embarked  \n",
      "151  22.0      1      0  113776  66.6    C2        S  \n",
      "336  29.0      1      0  113776  66.6    C2        S  \n",
      "     PassengerId  Survived  Pclass  \\\n",
      "297          298         0       1   \n",
      "305          306         1       1   \n",
      "498          499         0       1   \n",
      "708          709         1       1   \n",
      "\n",
      "                                                Name     Sex    Age  SibSp  \\\n",
      "297                     Allison, Miss. Helen Loraine  female   2.00      1   \n",
      "305                   Allison, Master. Hudson Trevor    male   0.92      1   \n",
      "498  Allison, Mrs. Hudson J C (Bessie Waldo Daniels)  female  25.00      1   \n",
      "708                             Cleaver, Miss. Alice  female  22.00      0   \n",
      "\n",
      "     Parch  Ticket    Fare    Cabin Embarked  \n",
      "297      2  113781  151.55  C22 C26        S  \n",
      "305      2  113781  151.55  C22 C26        S  \n",
      "498      2  113781  151.55  C22 C26        S  \n",
      "708      0  113781  151.55      NaN        S  \n",
      "     PassengerId  Survived  Pclass  \\\n",
      "35            36         0       1   \n",
      "383          384         1       1   \n",
      "\n",
      "                                                  Name     Sex   Age  SibSp  \\\n",
      "35                      Holverson, Mr. Alexander Oskar    male  42.0      1   \n",
      "383  Holverson, Mrs. Alexander Oskar (Mary Aline To...  female  35.0      1   \n",
      "\n",
      "     Parch  Ticket  Fare Cabin Embarked  \n",
      "35       0  113789  52.0   NaN        S  \n",
      "383      0  113789  52.0   NaN        S  \n",
      "     PassengerId  Survived  Pclass                     Name     Sex   Age  \\\n",
      "270          271         0       1    Cairns, Mr. Alexander    male   NaN   \n",
      "842          843         1       1  Serepeca, Miss. Augusta  female  30.0   \n",
      "\n",
      "     SibSp  Parch  Ticket  Fare Cabin Embarked  \n",
      "270      0      0  113798  31.0   NaN        S  \n",
      "842      0      0  113798  31.0   NaN        C  \n",
      "     PassengerId  Survived  Pclass  \\\n",
      "3              4         1       1   \n",
      "137          138         0       1   \n",
      "\n",
      "                                             Name     Sex   Age  SibSp  Parch  \\\n",
      "3    Futrelle, Mrs. Jacques Heath (Lily May Peel)  female  35.0      1      0   \n",
      "137                   Futrelle, Mr. Jacques Heath    male  37.0      1      0   \n",
      "\n",
      "     Ticket  Fare Cabin Embarked  \n",
      "3    113803  53.1  C123        S  \n",
      "137  113803  53.1  C123        S  \n",
      "     PassengerId  Survived  Pclass  \\\n",
      "41            42         0       2   \n",
      "117          118         0       2   \n",
      "\n",
      "                                                  Name     Sex   Age  SibSp  \\\n",
      "41   Turpin, Mrs. William John Robert (Dorothy Ann ...  female  27.0      1   \n",
      "117                    Turpin, Mr. William John Robert    male  29.0      1   \n",
      "\n",
      "     Parch Ticket  Fare Cabin Embarked  \n",
      "41       0  11668  21.0   NaN        S  \n",
      "117      0  11668  21.0   NaN        S  \n",
      "     PassengerId  Survived  Pclass                                       Name  \\\n",
      "434          435         0       1                  Silvey, Mr. William Baird   \n",
      "577          578         1       1  Silvey, Mrs. William Baird (Alice Munger)   \n",
      "\n",
      "        Sex   Age  SibSp  Parch Ticket  Fare Cabin Embarked  \n",
      "434    male  50.0      1      0  13507  55.9   E44        S  \n",
      "577  female  39.0      1      0  13507  55.9   E44        S  \n",
      "     PassengerId  Survived  Pclass             Name   Sex   Age  SibSp  Parch  \\\n",
      "74            75         1       3    Bing, Mr. Lee  male  32.0      0      0   \n",
      "169          170         0       3    Ling, Mr. Lee  male  28.0      0      0   \n",
      "509          510         1       3   Lang, Mr. Fang  male  26.0      0      0   \n",
      "643          644         1       3  Foo, Mr. Choong  male   NaN      0      0   \n",
      "692          693         1       3     Lam, Mr. Ali  male   NaN      0      0   \n",
      "826          827         0       3     Lam, Mr. Len  male   NaN      0      0   \n",
      "838          839         1       3  Chip, Mr. Chang  male  32.0      0      0   \n",
      "\n",
      "    Ticket     Fare Cabin Embarked  \n",
      "74    1601  56.4958   NaN        S  \n",
      "169   1601  56.4958   NaN        S  \n",
      "509   1601  56.4958   NaN        S  \n",
      "643   1601  56.4958   NaN        S  \n",
      "692   1601  56.4958   NaN        S  \n",
      "826   1601  56.4958   NaN        S  \n",
      "838   1601  56.4958   NaN        S  \n",
      "     PassengerId  Survived  Pclass  \\\n",
      "306          307         1       1   \n",
      "550          551         1       1   \n",
      "581          582         1       1   \n",
      "698          699         0       1   \n",
      "\n",
      "                                                  Name     Sex   Age  SibSp  \\\n",
      "306                            Fleming, Miss. Margaret  female   NaN      0   \n",
      "550                        Thayer, Mr. John Borland Jr    male  17.0      0   \n",
      "581  Thayer, Mrs. John Borland (Marian Longstreth M...  female  39.0      1   \n",
      "698                           Thayer, Mr. John Borland    male  49.0      1   \n",
      "\n",
      "     Parch Ticket      Fare Cabin Embarked  \n",
      "306      0  17421  110.8833   NaN        C  \n",
      "550      2  17421  110.8833   C70        C  \n",
      "581      1  17421  110.8833   C68        C  \n",
      "698      1  17421  110.8833   C68        C  \n",
      "     PassengerId  Survived  Pclass                           Name     Sex  \\\n",
      "290          291         1       1   Barber, Miss. Ellen \"Nellie\"  female   \n",
      "741          742         0       1  Cavendish, Mr. Tyrell William    male   \n",
      "\n",
      "      Age  SibSp  Parch Ticket   Fare Cabin Embarked  \n",
      "290  26.0      0      0  19877  78.85   NaN        S  \n",
      "741  36.0      1      0  19877  78.85   C46        S  \n",
      "     PassengerId  Survived  Pclass                         Name     Sex   Age  \\\n",
      "245          246         0       1  Minahan, Dr. William Edward    male  44.0   \n",
      "412          413         1       1       Minahan, Miss. Daisy E  female  33.0   \n",
      "\n",
      "     SibSp  Parch Ticket  Fare Cabin Embarked  \n",
      "245      2      0  19928  90.0   C78        Q  \n",
      "412      1      0  19928  90.0   C78        Q  \n",
      "     PassengerId  Survived  Pclass                            Name     Sex  \\\n",
      "27            28         0       1  Fortune, Mr. Charles Alexander    male   \n",
      "88            89         1       1      Fortune, Miss. Mabel Helen  female   \n",
      "341          342         1       1  Fortune, Miss. Alice Elizabeth  female   \n",
      "438          439         0       1               Fortune, Mr. Mark    male   \n",
      "\n",
      "      Age  SibSp  Parch Ticket   Fare        Cabin Embarked  \n",
      "27   19.0      3      2  19950  263.0  C23 C25 C27        S  \n",
      "88   23.0      3      2  19950  263.0  C23 C25 C27        S  \n",
      "341  24.0      3      2  19950  263.0  C23 C25 C27        S  \n",
      "438  64.0      1      4  19950  263.0  C23 C25 C27        S  \n",
      "     PassengerId  Survived  Pclass                                      Name  \\\n",
      "148          149         0       2  Navratil, Mr. Michel (\"Louis M Hoffman\")   \n",
      "193          194         1       2                Navratil, Master. Michel M   \n",
      "340          341         1       2            Navratil, Master. Edmond Roger   \n",
      "\n",
      "      Sex   Age  SibSp  Parch  Ticket  Fare Cabin Embarked  \n",
      "148  male  36.5      0      2  230080  26.0    F2        S  \n",
      "193  male   3.0      1      1  230080  26.0    F2        S  \n",
      "340  male   2.0      1      1  230080  26.0    F2        S  \n",
      "     PassengerId  Survived  Pclass                                 Name  \\\n",
      "9             10         1       2  Nasser, Mrs. Nicholas (Adele Achem)   \n",
      "122          123         0       2                 Nasser, Mr. Nicholas   \n",
      "\n",
      "        Sex   Age  SibSp  Parch  Ticket     Fare Cabin Embarked  \n",
      "9    female  14.0      1      0  237736  30.0708   NaN        C  \n",
      "122    male  32.5      1      0  237736  30.0708   NaN        C  \n",
      "     PassengerId  Survived  Pclass                            Name   Sex  Age  \\\n",
      "277          278         0       2     Parkes, Mr. Francis \"Frank\"  male  NaN   \n",
      "413          414         0       2  Cunningham, Mr. Alfred Fleming  male  NaN   \n",
      "466          467         0       2           Campbell, Mr. William  male  NaN   \n",
      "\n",
      "     SibSp  Parch  Ticket  Fare Cabin Embarked  \n",
      "277      0      0  239853   0.0   NaN        S  \n",
      "413      0      0  239853   0.0   NaN        S  \n",
      "466      0      0  239853   0.0   NaN        S  \n",
      "     PassengerId  Survived  Pclass                  Name   Sex   Age  SibSp  \\\n",
      "20            21         0       2  Fynney, Mr. Joseph J  male  35.0      0   \n",
      "791          792         0       2   Gaskell, Mr. Alfred  male  16.0      0   \n",
      "\n",
      "     Parch  Ticket  Fare Cabin Embarked  \n",
      "20       0  239865  26.0   NaN        S  \n",
      "791      0  239865  26.0   NaN        S  \n",
      "     PassengerId  Survived  Pclass  \\\n",
      "217          218         0       2   \n",
      "600          601         1       2   \n",
      "\n",
      "                                                  Name     Sex   Age  SibSp  \\\n",
      "217                       Jacobsohn, Mr. Sidney Samuel    male  42.0      1   \n",
      "600  Jacobsohn, Mrs. Sidney Samuel (Amy Frances Chr...  female  24.0      2   \n",
      "\n",
      "     Parch  Ticket  Fare Cabin Embarked  \n",
      "217      0  243847  27.0   NaN        S  \n",
      "600      1  243847  27.0   NaN        S  \n",
      "     PassengerId  Survived  Pclass  \\\n",
      "249          250         0       2   \n",
      "854          855         0       2   \n",
      "\n",
      "                                              Name     Sex   Age  SibSp  \\\n",
      "249                  Carter, Rev. Ernest Courtenay    male  54.0      1   \n",
      "854  Carter, Mrs. Ernest Courtenay (Lilian Hughes)  female  44.0      1   \n",
      "\n",
      "     Parch  Ticket  Fare Cabin Embarked  \n",
      "249      0  244252  26.0   NaN        S  \n",
      "854      0  244252  26.0   NaN        S  \n",
      "     PassengerId  Survived  Pclass                                 Name  \\\n",
      "99           100         0       2                    Kantor, Mr. Sinai   \n",
      "316          317         1       2  Kantor, Mrs. Sinai (Miriam Sternin)   \n",
      "\n",
      "        Sex   Age  SibSp  Parch  Ticket  Fare Cabin Embarked  \n",
      "99     male  34.0      1      0  244367  26.0   NaN        S  \n",
      "316  female  24.0      1      0  244367  26.0   NaN        S  \n",
      "     PassengerId  Survived  Pclass                               Name     Sex  \\\n",
      "596          597         1       2         Leitch, Miss. Jessie Wills  female   \n",
      "720          721         1       2  Harper, Miss. Annie Jessie \"Nina\"  female   \n",
      "848          849         0       2                  Harper, Rev. John    male   \n",
      "\n",
      "      Age  SibSp  Parch  Ticket  Fare Cabin Embarked  \n",
      "596   NaN      0      0  248727  33.0   NaN        S  \n",
      "720   6.0      0      1  248727  33.0   NaN        S  \n",
      "848  28.0      0      1  248727  33.0   NaN        S  \n",
      "     PassengerId  Survived  Pclass                   Name   Sex   Age  SibSp  \\\n",
      "714          715         0       2  Greenberg, Mr. Samuel  male  52.0      0   \n",
      "800          801         0       2   Ponesell, Mr. Martin  male  34.0      0   \n",
      "\n",
      "     Parch  Ticket  Fare Cabin Embarked  \n",
      "714      0  250647  13.0   NaN        S  \n",
      "800      0  250647  13.0   NaN        S  \n",
      "     PassengerId  Survived  Pclass  \\\n",
      "427          428         1       2   \n",
      "705          706         0       2   \n",
      "\n",
      "                                                  Name     Sex   Age  SibSp  \\\n",
      "427  Phillips, Miss. Kate Florence (\"Mrs Kate Louis...  female  19.0      0   \n",
      "705     Morley, Mr. Henry Samuel (\"Mr Henry Marshall\")    male  39.0      0   \n",
      "\n",
      "     Parch  Ticket  Fare Cabin Embarked  \n",
      "427      0  250655  26.0   NaN        S  \n",
      "705      0  250655  26.0   NaN        S  \n",
      "     PassengerId  Survived  Pclass                   Name     Sex   Age  \\\n",
      "114          115         0       3  Attalah, Miss. Malake  female  17.0   \n",
      "495          496         0       3  Yousseff, Mr. Gerious    male   NaN   \n",
      "\n",
      "     SibSp  Parch Ticket     Fare Cabin Embarked  \n",
      "114      0      0   2627  14.4583   NaN        C  \n",
      "495      0      0   2627  14.4583   NaN        C  \n",
      "     PassengerId  Survived  Pclass                                     Name  \\\n",
      "620          621         0       3                      Yasbeck, Mr. Antoni   \n",
      "830          831         1       3  Yasbeck, Mrs. Antoni (Selini Alexander)   \n",
      "\n",
      "        Sex   Age  SibSp  Parch Ticket     Fare Cabin Embarked  \n",
      "620    male  27.0      1      0   2659  14.4542   NaN        C  \n",
      "830  female  15.0      1      0   2659  14.4542   NaN        C  \n",
      "     PassengerId  Survived  Pclass                   Name     Sex   Age  \\\n",
      "111          112         0       3   Zabour, Miss. Hileni  female  14.5   \n",
      "240          241         0       3  Zabour, Miss. Thamine  female   NaN   \n",
      "\n",
      "     SibSp  Parch Ticket     Fare Cabin Embarked  \n",
      "111      1      0   2665  14.4542   NaN        C  \n",
      "240      1      0   2665  14.4542   NaN        C  \n",
      "     PassengerId  Survived  Pclass                           Name     Sex  \\\n",
      "140          141         0       3  Boulos, Mrs. Joseph (Sultana)  female   \n",
      "852          853         0       3        Boulos, Miss. Nourelain  female   \n",
      "\n",
      "     Age  SibSp  Parch Ticket     Fare Cabin Embarked  \n",
      "140  NaN      0      2   2678  15.2458   NaN        C  \n",
      "852  9.0      1      1   2678  15.2458   NaN        C  \n",
      "     PassengerId  Survived  Pclass                             Name     Sex  \\\n",
      "362          363         0       3  Barbara, Mrs. (Catherine David)  female   \n",
      "702          703         0       3            Barbara, Miss. Saiide  female   \n",
      "\n",
      "      Age  SibSp  Parch Ticket     Fare Cabin Embarked  \n",
      "362  45.0      0      1   2691  14.4542   NaN        C  \n",
      "702  18.0      0      1   2691  14.4542   NaN        C  \n",
      "     PassengerId  Survived  Pclass                         Name   Sex   Age  \\\n",
      "207          208         1       3  Albimona, Mr. Nassef Cassem  male  26.0   \n",
      "731          732         0       3     Hassan, Mr. Houssein G N  male  11.0   \n",
      "\n",
      "     SibSp  Parch Ticket     Fare Cabin Embarked  \n",
      "207      0      0   2699  18.7875   NaN        C  \n",
      "731      0      0   2699  18.7875   NaN        C  \n",
      "     PassengerId  Survived  Pclass                        Name   Sex   Age  \\\n",
      "397          398         0       2     McKane, Mr. Peter David  male  46.0   \n",
      "582          583         0       2  Downton, Mr. William James  male  54.0   \n",
      "\n",
      "     SibSp  Parch Ticket  Fare Cabin Embarked  \n",
      "397      0      0  28403  26.0   NaN        S  \n",
      "582      0      0  28403  26.0   NaN        S  \n",
      "     PassengerId  Survived  Pclass  \\\n",
      "670          671         1       2   \n",
      "684          685         0       2   \n",
      "\n",
      "                                                  Name     Sex   Age  SibSp  \\\n",
      "670  Brown, Mrs. Thomas William Solomon (Elizabeth ...  female  40.0      1   \n",
      "684                  Brown, Mr. Thomas William Solomon    male  60.0      1   \n",
      "\n",
      "     Parch Ticket  Fare Cabin Embarked  \n",
      "670      1  29750  39.0   NaN        S  \n",
      "684      1  29750  39.0   NaN        S  \n",
      "     PassengerId  Survived  Pclass  \\\n",
      "85            86         1       3   \n",
      "206          207         0       3   \n",
      "\n",
      "                                                  Name     Sex   Age  SibSp  \\\n",
      "85   Backstrom, Mrs. Karl Alfred (Maria Mathilda Gu...  female  33.0      3   \n",
      "206                         Backstrom, Mr. Karl Alfred    male  32.0      1   \n",
      "\n",
      "     Parch   Ticket   Fare Cabin Embarked  \n",
      "85       0  3101278  15.85   NaN        S  \n",
      "206      0  3101278  15.85   NaN        S  \n",
      "     PassengerId  Survived  Pclass                                    Name  \\\n",
      "50            51         0       3              Panula, Master. Juha Niilo   \n",
      "164          165         0       3            Panula, Master. Eino Viljami   \n",
      "266          267         0       3               Panula, Mr. Ernesti Arvid   \n",
      "638          639         0       3  Panula, Mrs. Juha (Maria Emilia Ojala)   \n",
      "686          687         0       3                Panula, Mr. Jaako Arnold   \n",
      "824          825         0       3            Panula, Master. Urho Abraham   \n",
      "\n",
      "        Sex   Age  SibSp  Parch   Ticket     Fare Cabin Embarked  \n",
      "50     male   7.0      4      1  3101295  39.6875   NaN        S  \n",
      "164    male   1.0      4      1  3101295  39.6875   NaN        S  \n",
      "266    male  16.0      4      1  3101295  39.6875   NaN        S  \n",
      "638  female  41.0      0      5  3101295  39.6875   NaN        S  \n",
      "686    male  14.0      4      1  3101295  39.6875   NaN        S  \n",
      "824    male   2.0      4      1  3101295  39.6875   NaN        S  \n",
      "     PassengerId  Survived  Pclass  \\\n",
      "476          477         0       2   \n",
      "726          727         1       2   \n",
      "\n",
      "                                            Name     Sex   Age  SibSp  Parch  \\\n",
      "476                      Renouf, Mr. Peter Henry    male  34.0      1      0   \n",
      "726  Renouf, Mrs. Peter Henry (Lillian Jefferys)  female  30.0      3      0   \n",
      "\n",
      "    Ticket  Fare Cabin Embarked  \n",
      "476  31027  21.0   NaN        S  \n",
      "726  31027  21.0   NaN        S  \n",
      "     PassengerId  Survived  Pclass                                Name  \\\n",
      "38            39         0       3  Vander Planke, Miss. Augusta Maria   \n",
      "333          334         0       3     Vander Planke, Mr. Leo Edmondus   \n",
      "\n",
      "        Sex   Age  SibSp  Parch  Ticket  Fare Cabin Embarked  \n",
      "38   female  18.0      2      0  345764  18.0   NaN        S  \n",
      "333    male  16.0      2      0  345764  18.0   NaN        S  \n",
      "     PassengerId  Survived  Pclass  \\\n",
      "419          420         0       3   \n",
      "595          596         0       3   \n",
      "799          800         0       3   \n",
      "\n",
      "                                                  Name     Sex   Age  SibSp  \\\n",
      "419                          Van Impe, Miss. Catharina  female  10.0      0   \n",
      "595                        Van Impe, Mr. Jean Baptiste    male  36.0      1   \n",
      "799  Van Impe, Mrs. Jean Baptiste (Rosalie Paula Go...  female  30.0      1   \n",
      "\n",
      "     Parch  Ticket   Fare Cabin Embarked  \n",
      "419      2  345773  24.15   NaN        S  \n",
      "595      1  345773  24.15   NaN        S  \n",
      "799      1  345773  24.15   NaN        S  \n",
      "     PassengerId  Survived  Pclass  \\\n",
      "205          206         0       3   \n",
      "251          252         0       3   \n",
      "\n",
      "                                           Name     Sex   Age  SibSp  Parch  \\\n",
      "205                  Strom, Miss. Telma Matilda  female   2.0      0      1   \n",
      "251  Strom, Mrs. Wilhelm (Elna Matilda Persson)  female  29.0      1      1   \n",
      "\n",
      "     Ticket     Fare Cabin Embarked  \n",
      "205  347054  10.4625    G6        S  \n",
      "251  347054  10.4625    G6        S  \n",
      "     PassengerId  Survived  Pclass  \\\n",
      "25            26         1       3   \n",
      "182          183         0       3   \n",
      "233          234         1       3   \n",
      "261          262         1       3   \n",
      "\n",
      "                                                  Name     Sex   Age  SibSp  \\\n",
      "25   Asplund, Mrs. Carl Oscar (Selma Augusta Emilia...  female  38.0      1   \n",
      "182              Asplund, Master. Clarence Gustaf Hugo    male   9.0      4   \n",
      "233                     Asplund, Miss. Lillian Gertrud  female   5.0      4   \n",
      "261                  Asplund, Master. Edvin Rojj Felix    male   3.0      4   \n",
      "\n",
      "     Parch  Ticket     Fare Cabin Embarked  \n",
      "25       5  347077  31.3875   NaN        S  \n",
      "182      2  347077  31.3875   NaN        S  \n",
      "233      2  347077  31.3875   NaN        S  \n",
      "261      2  347077  31.3875   NaN        S  \n",
      "     PassengerId  Survived  Pclass  \\\n",
      "423          424         0       3   \n",
      "616          617         0       3   \n",
      "\n",
      "                                                  Name     Sex   Age  SibSp  \\\n",
      "423  Danbom, Mrs. Ernst Gilbert (Anna Sigrid Maria ...  female  28.0      1   \n",
      "616                          Danbom, Mr. Ernst Gilbert    male  34.0      1   \n",
      "\n",
      "     Parch  Ticket  Fare Cabin Embarked  \n",
      "423      1  347080  14.4   NaN        S  \n",
      "616      1  347080  14.4   NaN        S  \n",
      "     PassengerId  Survived  Pclass  \\\n",
      "13            14         0       3   \n",
      "119          120         0       3   \n",
      "541          542         0       3   \n",
      "542          543         0       3   \n",
      "610          611         0       3   \n",
      "813          814         0       3   \n",
      "850          851         0       3   \n",
      "\n",
      "                                                  Name     Sex   Age  SibSp  \\\n",
      "13                         Andersson, Mr. Anders Johan    male  39.0      1   \n",
      "119                  Andersson, Miss. Ellis Anna Maria  female   2.0      4   \n",
      "541               Andersson, Miss. Ingeborg Constanzia  female   9.0      4   \n",
      "542                  Andersson, Miss. Sigrid Elisabeth  female  11.0      4   \n",
      "610  Andersson, Mrs. Anders Johan (Alfrida Konstant...  female  39.0      1   \n",
      "813                 Andersson, Miss. Ebba Iris Alfrida  female   6.0      4   \n",
      "850            Andersson, Master. Sigvard Harald Elias    male   4.0      4   \n",
      "\n",
      "     Parch  Ticket    Fare Cabin Embarked  \n",
      "13       5  347082  31.275   NaN        S  \n",
      "119      2  347082  31.275   NaN        S  \n",
      "541      2  347082  31.275   NaN        S  \n",
      "542      2  347082  31.275   NaN        S  \n",
      "610      5  347082  31.275   NaN        S  \n",
      "813      2  347082  31.275   NaN        S  \n",
      "850      2  347082  31.275   NaN        S  \n",
      "     PassengerId  Survived  Pclass  \\\n",
      "63            64         0       3   \n",
      "167          168         0       3   \n",
      "360          361         0       3   \n",
      "634          635         0       3   \n",
      "642          643         0       3   \n",
      "819          820         0       3   \n",
      "\n",
      "                                                Name     Sex   Age  SibSp  \\\n",
      "63                             Skoog, Master. Harald    male   4.0      3   \n",
      "167  Skoog, Mrs. William (Anna Bernhardina Karlsson)  female  45.0      1   \n",
      "360                               Skoog, Mr. Wilhelm    male  40.0      1   \n",
      "634                               Skoog, Miss. Mabel  female   9.0      3   \n",
      "642                    Skoog, Miss. Margit Elizabeth  female   2.0      3   \n",
      "819                     Skoog, Master. Karl Thorsten    male  10.0      3   \n",
      "\n",
      "     Parch  Ticket  Fare Cabin Embarked  \n",
      "63       2  347088  27.9   NaN        S  \n",
      "167      4  347088  27.9   NaN        S  \n",
      "360      4  347088  27.9   NaN        S  \n",
      "634      2  347088  27.9   NaN        S  \n",
      "642      2  347088  27.9   NaN        S  \n",
      "819      2  347088  27.9   NaN        S  \n",
      "     PassengerId  Survived  Pclass  \\\n",
      "49            50         0       3   \n",
      "353          354         0       3   \n",
      "\n",
      "                                              Name     Sex   Age  SibSp  \\\n",
      "49   Arnold-Franchi, Mrs. Josef (Josefine Franchi)  female  18.0      1   \n",
      "353                      Arnold-Franchi, Mr. Josef    male  25.0      1   \n",
      "\n",
      "     Parch  Ticket  Fare Cabin Embarked  \n",
      "49       0  349237  17.8   NaN        S  \n",
      "353      0  349237  17.8   NaN        S  \n",
      "     PassengerId  Survived  Pclass  \\\n",
      "7              8         0       3   \n",
      "24            25         0       3   \n",
      "374          375         0       3   \n",
      "567          568         0       3   \n",
      "\n",
      "                                            Name     Sex   Age  SibSp  Parch  \\\n",
      "7                 Palsson, Master. Gosta Leonard    male   2.0      3      1   \n",
      "24                 Palsson, Miss. Torborg Danira  female   8.0      3      1   \n",
      "374                   Palsson, Miss. Stina Viola  female   3.0      3      1   \n",
      "567  Palsson, Mrs. Nils (Alma Cornelia Berglund)  female  29.0      0      4   \n",
      "\n",
      "     Ticket    Fare Cabin Embarked  \n",
      "7    349909  21.075   NaN        S  \n",
      "24   349909  21.075   NaN        S  \n",
      "374  349909  21.075   NaN        S  \n",
      "567  349909  21.075   NaN        S  \n",
      "     PassengerId  Survived  Pclass                        Name     Sex   Age  \\\n",
      "215          216         1       1     Newell, Miss. Madeleine  female  31.0   \n",
      "393          394         1       1      Newell, Miss. Marjorie  female  23.0   \n",
      "659          660         0       1  Newell, Mr. Arthur Webster    male  58.0   \n",
      "\n",
      "     SibSp  Parch Ticket     Fare Cabin Embarked  \n",
      "215      1      0  35273  113.275   D36        C  \n",
      "393      1      0  35273  113.275   D36        C  \n",
      "659      0      2  35273  113.275   D48        C  \n",
      "     PassengerId  Survived  Pclass                         Name   Sex   Age  \\\n",
      "102          103         0       1    White, Mr. Richard Frasar  male  21.0   \n",
      "124          125         0       1  White, Mr. Percival Wayland  male  54.0   \n",
      "\n",
      "     SibSp  Parch Ticket     Fare Cabin Embarked  \n",
      "102      0      1  35281  77.2875   D26        S  \n",
      "124      0      1  35281  77.2875   D26        S  \n",
      "     PassengerId  Survived  Pclass                  Name   Sex   Age  SibSp  \\\n",
      "575          576         0       3  Patchett, Mr. George  male  19.0      0   \n",
      "760          761         0       3    Garfirth, Mr. John  male   NaN      0   \n",
      "\n",
      "     Parch  Ticket  Fare Cabin Embarked  \n",
      "575      0  358585  14.5   NaN        S  \n",
      "760      0  358585  14.5   NaN        S  \n",
      "     PassengerId  Survived  Pclass  \\\n",
      "165          166         1       3   \n",
      "328          329         1       3   \n",
      "548          549         0       3   \n",
      "\n",
      "                                                Name     Sex   Age  SibSp  \\\n",
      "165  Goldsmith, Master. Frank John William \"Frankie\"    male   9.0      0   \n",
      "328   Goldsmith, Mrs. Frank John (Emily Alice Brown)  female  31.0      1   \n",
      "548                        Goldsmith, Mr. Frank John    male  33.0      1   \n",
      "\n",
      "     Parch  Ticket    Fare Cabin Embarked  \n",
      "165      2  363291  20.525   NaN        S  \n",
      "328      1  363291  20.525   NaN        S  \n",
      "548      1  363291  20.525   NaN        S  \n",
      "     PassengerId  Survived  Pclass                           Name     Sex  \\\n",
      "188          189         0       3               Bourke, Mr. John    male   \n",
      "657          658         0       3  Bourke, Mrs. John (Catherine)  female   \n",
      "\n",
      "      Age  SibSp  Parch  Ticket  Fare Cabin Embarked  \n",
      "188  40.0      1      1  364849  15.5   NaN        Q  \n",
      "657  32.0      1      1  364849  15.5   NaN        Q  \n",
      "     PassengerId  Survived  Pclass  \\\n",
      "62            63         0       1   \n",
      "230          231         1       1   \n",
      "\n",
      "                                             Name     Sex   Age  SibSp  Parch  \\\n",
      "62                    Harris, Mr. Henry Birkhardt    male  45.0      1      0   \n",
      "230  Harris, Mrs. Henry Birkhardt (Irene Wallach)  female  35.0      1      0   \n",
      "\n",
      "    Ticket    Fare Cabin Embarked  \n",
      "62   36973  83.475   C83        S  \n",
      "230  36973  83.475   C83        S  \n",
      "     PassengerId  Survived  Pclass                                      Name  \\\n",
      "254          255         0       3  Rosblom, Mrs. Viktor (Helena Wilhelmina)   \n",
      "424          425         0       3               Rosblom, Mr. Viktor Richard   \n",
      "\n",
      "        Sex   Age  SibSp  Parch  Ticket     Fare Cabin Embarked  \n",
      "254  female  41.0      0      2  370129  20.2125   NaN        S  \n",
      "424    male  18.0      1      1  370129  20.2125   NaN        S  \n",
      "     PassengerId  Survived  Pclass  \\\n",
      "186          187         1       3   \n",
      "364          365         0       3   \n",
      "\n",
      "                                                Name     Sex  Age  SibSp  \\\n",
      "186  O'Brien, Mrs. Thomas (Johanna \"Hannah\" Godfrey)  female  NaN      1   \n",
      "364                              O'Brien, Mr. Thomas    male  NaN      1   \n",
      "\n",
      "     Parch  Ticket  Fare Cabin Embarked  \n",
      "186      0  370365  15.5   NaN        Q  \n",
      "364      0  370365  15.5   NaN        Q  \n",
      "     PassengerId  Survived  Pclass                 Name     Sex  Age  SibSp  \\\n",
      "109          110         1       3  Moran, Miss. Bertha  female  NaN      1   \n",
      "517          518         0       3    Ryan, Mr. Patrick    male  NaN      0   \n",
      "768          769         0       3  Moran, Mr. Daniel J    male  NaN      1   \n",
      "\n",
      "     Parch  Ticket   Fare Cabin Embarked  \n",
      "109      0  371110  24.15   NaN        Q  \n",
      "517      0  371110  24.15   NaN        Q  \n",
      "768      0  371110  24.15   NaN        Q  \n",
      "     PassengerId  Survived  Pclass  \\\n",
      "431          432         1       3   \n",
      "639          640         0       3   \n",
      "\n",
      "                                                  Name     Sex  Age  SibSp  \\\n",
      "431  Thorneycroft, Mrs. Percival (Florence Kate White)  female  NaN      1   \n",
      "639                         Thorneycroft, Mr. Percival    male  NaN      1   \n",
      "\n",
      "     Parch  Ticket  Fare Cabin Embarked  \n",
      "431      0  376564  16.1   NaN        S  \n",
      "639      0  376564  16.1   NaN        S  \n",
      "     PassengerId  Survived  Pclass                                  Name  \\\n",
      "16            17         0       3                  Rice, Master. Eugene   \n",
      "171          172         0       3                  Rice, Master. Arthur   \n",
      "278          279         0       3                    Rice, Master. Eric   \n",
      "787          788         0       3             Rice, Master. George Hugh   \n",
      "885          886         0       3  Rice, Mrs. William (Margaret Norton)   \n",
      "\n",
      "        Sex   Age  SibSp  Parch  Ticket    Fare Cabin Embarked  \n",
      "16     male   2.0      4      1  382652  29.125   NaN        Q  \n",
      "171    male   4.0      4      1  382652  29.125   NaN        Q  \n",
      "278    male   7.0      4      1  382652  29.125   NaN        Q  \n",
      "787    male   8.0      4      1  382652  29.125   NaN        Q  \n",
      "885  female  39.0      0      5  382652  29.125   NaN        Q  \n",
      "     PassengerId  Survived  Pclass                           Name     Sex  \\\n",
      "176          177         0       3  Lefebre, Master. Henry Forbes    male   \n",
      "229          230         0       3        Lefebre, Miss. Mathilde  female   \n",
      "409          410         0       3             Lefebre, Miss. Ida  female   \n",
      "485          486         0       3         Lefebre, Miss. Jeannie  female   \n",
      "\n",
      "     Age  SibSp  Parch Ticket     Fare Cabin Embarked  \n",
      "176  NaN      3      1   4133  25.4667   NaN        S  \n",
      "229  NaN      3      1   4133  25.4667   NaN        S  \n",
      "409  NaN      3      1   4133  25.4667   NaN        S  \n",
      "485  NaN      3      1   4133  25.4667   NaN        S  \n",
      "     PassengerId  Survived  Pclass                         Name   Sex   Age  \\\n",
      "624          625         0       3  Bowen, Mr. David John \"Dai\"  male  21.0   \n",
      "735          736         0       3         Williams, Mr. Leslie  male  28.5   \n",
      "\n",
      "     SibSp  Parch Ticket  Fare Cabin Embarked  \n",
      "624      0      0  54636  16.1   NaN        S  \n",
      "735      0      0  54636  16.1   NaN        S  \n",
      "     PassengerId  Survived  Pclass                           Name   Sex   Age  \\\n",
      "138          139         0       3            Osen, Mr. Olaf Elon  male  16.0   \n",
      "876          877         0       3  Gustafsson, Mr. Alfred Ossian  male  20.0   \n",
      "\n",
      "     SibSp  Parch Ticket    Fare Cabin Embarked  \n",
      "138      0      0   7534  9.2167   NaN        S  \n",
      "876      0      0   7534  9.8458   NaN        S  \n",
      "     PassengerId  Survived  Pclass                  Name   Sex   Age  SibSp  \\\n",
      "565          566         0       3  Davies, Mr. Alfred J  male  24.0      2   \n",
      "811          812         0       3     Lester, Mr. James  male  39.0      0   \n",
      "\n",
      "     Parch     Ticket   Fare Cabin Embarked  \n",
      "565      0  A/4 48871  24.15   NaN        S  \n",
      "811      0  A/4 48871  24.15   NaN        S  \n",
      "     PassengerId  Survived  Pclass  \\\n",
      "253          254         0       3   \n",
      "617          618         0       3   \n",
      "\n",
      "                                                Name     Sex   Age  SibSp  \\\n",
      "253                         Lobb, Mr. William Arthur    male  30.0      1   \n",
      "617  Lobb, Mrs. William Arthur (Cordelia K Stanlick)  female  26.0      1   \n",
      "\n",
      "     Parch     Ticket  Fare Cabin Embarked  \n",
      "253      0  A/5. 3336  16.1   NaN        S  \n",
      "617      0  A/5. 3336  16.1   NaN        S  \n",
      "     PassengerId  Survived  Pclass                        Name   Sex   Age  \\\n",
      "93            94         0       3     Dean, Mr. Bertram Frank  male  26.0   \n",
      "788          789         1       3  Dean, Master. Bertram Vere  male   1.0   \n",
      "\n",
      "     SibSp  Parch     Ticket    Fare Cabin Embarked  \n",
      "93       1      2  C.A. 2315  20.575   NaN        S  \n",
      "788      1      2  C.A. 2315  20.575   NaN        S  \n",
      "     PassengerId  Survived  Pclass                              Name     Sex  \\\n",
      "279          280         1       3  Abbott, Mrs. Stanton (Rosa Hunt)  female   \n",
      "746          747         0       3       Abbott, Mr. Rossmore Edward    male   \n",
      "\n",
      "      Age  SibSp  Parch     Ticket   Fare Cabin Embarked  \n",
      "279  35.0      1      1  C.A. 2673  20.25   NaN        S  \n",
      "746  16.0      1      1  C.A. 2673  20.25   NaN        S  \n",
      "     PassengerId  Survived  Pclass  \\\n",
      "237          238         1       2   \n",
      "637          638         0       2   \n",
      "801          802         1       2   \n",
      "\n",
      "                                            Name     Sex   Age  SibSp  Parch  \\\n",
      "237             Collyer, Miss. Marjorie \"Lottie\"  female   8.0      0      2   \n",
      "637                          Collyer, Mr. Harvey    male  31.0      1      1   \n",
      "801  Collyer, Mrs. Harvey (Charlotte Annie Tate)  female  31.0      1      1   \n",
      "\n",
      "         Ticket   Fare Cabin Embarked  \n",
      "237  C.A. 31921  26.25   NaN        S  \n",
      "637  C.A. 31921  26.25   NaN        S  \n",
      "801  C.A. 31921  26.25   NaN        S  \n",
      "     PassengerId  Survived  Pclass                            Name   Sex  \\\n",
      "145          146         0       2    Nicholls, Mr. Joseph Charles  male   \n",
      "549          550         1       2  Davies, Master. John Morgan Jr  male   \n",
      "\n",
      "      Age  SibSp  Parch      Ticket   Fare Cabin Embarked  \n",
      "145  19.0      1      1  C.A. 33112  36.75   NaN        S  \n",
      "549   8.0      1      1  C.A. 33112  36.75   NaN        S  \n",
      "     PassengerId  Survived  Pclass                                     Name  \\\n",
      "58            59         1       2             West, Miss. Constance Mirium   \n",
      "450          451         0       2                    West, Mr. Edwy Arthur   \n",
      "472          473         1       2  West, Mrs. Edwy Arthur (Ada Mary Worth)   \n",
      "\n",
      "        Sex   Age  SibSp  Parch      Ticket   Fare Cabin Embarked  \n",
      "58   female   5.0      1      2  C.A. 34651  27.75   NaN        S  \n",
      "450    male  36.0      1      2  C.A. 34651  27.75   NaN        S  \n",
      "472  female  33.0      1      2  C.A. 34651  27.75   NaN        S  \n",
      "     PassengerId  Survived  Pclass                                     Name  \\\n",
      "59            60         0       3       Goodwin, Master. William Frederick   \n",
      "71            72         0       3               Goodwin, Miss. Lillian Amy   \n",
      "386          387         0       3          Goodwin, Master. Sidney Leonard   \n",
      "480          481         0       3           Goodwin, Master. Harold Victor   \n",
      "678          679         0       3  Goodwin, Mrs. Frederick (Augusta Tyler)   \n",
      "683          684         0       3              Goodwin, Mr. Charles Edward   \n",
      "\n",
      "        Sex   Age  SibSp  Parch   Ticket  Fare Cabin Embarked  \n",
      "59     male  11.0      5      2  CA 2144  46.9   NaN        S  \n",
      "71   female  16.0      5      2  CA 2144  46.9   NaN        S  \n",
      "386    male   1.0      5      2  CA 2144  46.9   NaN        S  \n",
      "480    male   9.0      5      2  CA 2144  46.9   NaN        S  \n",
      "678  female  43.0      1      6  CA 2144  46.9   NaN        S  \n",
      "683    male  14.0      5      2  CA 2144  46.9   NaN        S  \n",
      "     PassengerId  Survived  Pclass                               Name     Sex  \\\n",
      "159          160         0       3         Sage, Master. Thomas Henry    male   \n",
      "180          181         0       3       Sage, Miss. Constance Gladys  female   \n",
      "201          202         0       3                Sage, Mr. Frederick    male   \n",
      "324          325         0       3           Sage, Mr. George John Jr    male   \n",
      "792          793         0       3            Sage, Miss. Stella Anna  female   \n",
      "846          847         0       3           Sage, Mr. Douglas Bullen    male   \n",
      "863          864         0       3  Sage, Miss. Dorothy Edith \"Dolly\"  female   \n",
      "\n",
      "     Age  SibSp  Parch    Ticket   Fare Cabin Embarked  \n",
      "159  NaN      8      2  CA. 2343  69.55   NaN        S  \n",
      "180  NaN      8      2  CA. 2343  69.55   NaN        S  \n",
      "201  NaN      8      2  CA. 2343  69.55   NaN        S  \n",
      "324  NaN      8      2  CA. 2343  69.55   NaN        S  \n",
      "792  NaN      8      2  CA. 2343  69.55   NaN        S  \n",
      "846  NaN      8      2  CA. 2343  69.55   NaN        S  \n",
      "863  NaN      8      2  CA. 2343  69.55   NaN        S  \n",
      "     PassengerId  Survived  Pclass  \\\n",
      "314          315         0       2   \n",
      "440          441         1       2   \n",
      "535          536         1       2   \n",
      "\n",
      "                                            Name     Sex   Age  SibSp  Parch  \\\n",
      "314                           Hart, Mr. Benjamin    male  43.0      1      1   \n",
      "440  Hart, Mrs. Benjamin (Esther Ada Bloomfield)  female  45.0      1      1   \n",
      "535                       Hart, Miss. Eva Miriam  female   7.0      0      2   \n",
      "\n",
      "           Ticket   Fare Cabin Embarked  \n",
      "314  F.C.C. 13529  26.25   NaN        S  \n",
      "440  F.C.C. 13529  26.25   NaN        S  \n",
      "535  F.C.C. 13529  26.25   NaN        S  \n",
      "     PassengerId  Survived  Pclass                             Name   Sex  \\\n",
      "179          180         0       3              Leonard, Mr. Lionel  male   \n",
      "271          272         1       3     Tornquist, Mr. William Henry  male   \n",
      "302          303         0       3  Johnson, Mr. William Cahoone Jr  male   \n",
      "597          598         0       3              Johnson, Mr. Alfred  male   \n",
      "\n",
      "      Age  SibSp  Parch Ticket  Fare Cabin Embarked  \n",
      "179  36.0      0      0   LINE   0.0   NaN        S  \n",
      "271  25.0      0      0   LINE   0.0   NaN        S  \n",
      "302  19.0      0      0   LINE   0.0   NaN        S  \n",
      "597  49.0      0      0   LINE   0.0   NaN        S  \n",
      "     PassengerId  Survived  Pclass                                   Name  \\\n",
      "308          309         0       2                    Abelson, Mr. Samuel   \n",
      "874          875         1       2  Abelson, Mrs. Samuel (Hannah Wizosky)   \n",
      "\n",
      "        Sex   Age  SibSp  Parch     Ticket  Fare Cabin Embarked  \n",
      "308    male  30.0      1      0  P/PP 3381  24.0   NaN        C  \n",
      "874  female  28.0      1      0  P/PP 3381  24.0   NaN        C  \n",
      "     PassengerId  Survived  Pclass  \\\n",
      "118          119         0       1   \n",
      "299          300         1       1   \n",
      "\n",
      "                                                Name     Sex   Age  SibSp  \\\n",
      "118                         Baxter, Mr. Quigg Edmond    male  24.0      0   \n",
      "299  Baxter, Mrs. James (Helene DeLaudeniere Chaput)  female  50.0      0   \n",
      "\n",
      "     Parch    Ticket      Fare    Cabin Embarked  \n",
      "118      1  PC 17558  247.5208  B58 B60        C  \n",
      "299      1  PC 17558  247.5208  B58 B60        C  \n",
      "     PassengerId  Survived  Pclass  \\\n",
      "268          269         1       1   \n",
      "332          333         0       1   \n",
      "609          610         1       1   \n",
      "\n",
      "                                              Name     Sex   Age  SibSp  \\\n",
      "268  Graham, Mrs. William Thompson (Edith Junkins)  female  58.0      0   \n",
      "332                      Graham, Mr. George Edward    male  38.0      0   \n",
      "609                      Shutes, Miss. Elizabeth W  female  40.0      0   \n",
      "\n",
      "     Parch    Ticket      Fare Cabin Embarked  \n",
      "268      1  PC 17582  153.4625  C125        S  \n",
      "332      1  PC 17582  153.4625   C91        S  \n",
      "609      0  PC 17582  153.4625  C125        S  \n",
      "     PassengerId  Survived  Pclass                      Name   Sex   Age  \\\n",
      "139          140         0       1        Giglio, Mr. Victor  male  24.0   \n",
      "789          790         0       1  Guggenheim, Mr. Benjamin  male  46.0   \n",
      "\n",
      "     SibSp  Parch    Ticket  Fare    Cabin Embarked  \n",
      "139      0      0  PC 17593  79.2      B86        C  \n",
      "789      0      0  PC 17593  79.2  B82 B84        C  \n",
      "     PassengerId  Survived  Pclass                                   Name  \\\n",
      "34            35         0       1                Meyer, Mr. Edgar Joseph   \n",
      "375          376         1       1  Meyer, Mrs. Edgar Joseph (Leila Saks)   \n",
      "\n",
      "        Sex   Age  SibSp  Parch    Ticket     Fare Cabin Embarked  \n",
      "34     male  28.0      1      0  PC 17604  82.1708   NaN        C  \n",
      "375  female   NaN      1      0  PC 17604  82.1708   NaN        C  \n",
      "     PassengerId  Survived  Pclass  \\\n",
      "380          381         1       1   \n",
      "557          558         0       1   \n",
      "700          701         1       1   \n",
      "716          717         1       1   \n",
      "\n",
      "                                                  Name     Sex   Age  SibSp  \\\n",
      "380                              Bidois, Miss. Rosalie  female  42.0      0   \n",
      "557                                Robbins, Mr. Victor    male   NaN      0   \n",
      "700  Astor, Mrs. John Jacob (Madeleine Talmadge Force)  female  18.0      1   \n",
      "716                      Endres, Miss. Caroline Louise  female  38.0      0   \n",
      "\n",
      "     Parch    Ticket     Fare    Cabin Embarked  \n",
      "380      0  PC 17757  227.525      NaN        C  \n",
      "557      0  PC 17757  227.525      NaN        C  \n",
      "700      0  PC 17757  227.525  C62 C64        C  \n",
      "716      0  PC 17757  227.525      C45        C  \n",
      "     PassengerId  Survived  Pclass  \\\n",
      "307          308         1       1   \n",
      "505          506         0       1   \n",
      "\n",
      "                                                  Name     Sex   Age  SibSp  \\\n",
      "307  Penasco y Castellana, Mrs. Victor de Satode (M...  female  17.0      1   \n",
      "505         Penasco y Castellana, Mr. Victor de Satode    male  18.0      1   \n",
      "\n",
      "     Parch    Ticket   Fare Cabin Embarked  \n",
      "307      0  PC 17758  108.9   C65        C  \n",
      "505      0  PC 17758  108.9   C65        C  \n",
      "     PassengerId  Survived  Pclass                      Name     Sex   Age  \\\n",
      "269          270         1       1    Bissette, Miss. Amelia  female  35.0   \n",
      "325          326         1       1  Young, Miss. Marie Grice  female  36.0   \n",
      "373          374         0       1       Ringhini, Mr. Sante    male  22.0   \n",
      "\n",
      "     SibSp  Parch    Ticket      Fare Cabin Embarked  \n",
      "269      0      0  PC 17760  135.6333   C99        S  \n",
      "325      0      0  PC 17760  135.6333   C32        C  \n",
      "373      0      0  PC 17760  135.6333   NaN        C  \n",
      "     PassengerId  Survived  Pclass                        Name     Sex   Age  \\\n",
      "537          538         1       1         LeRoy, Miss. Bertha  female  30.0   \n",
      "544          545         0       1  Douglas, Mr. Walter Donald    male  50.0   \n",
      "\n",
      "     SibSp  Parch    Ticket     Fare Cabin Embarked  \n",
      "537      0      0  PC 17761  106.425   NaN        C  \n",
      "544      1      0  PC 17761  106.425   C86        C  \n",
      "     PassengerId  Survived  Pclass                   Name   Sex   Age  SibSp  \\\n",
      "817          818         0       2     Mallet, Mr. Albert  male  31.0      1   \n",
      "827          828         1       2  Mallet, Master. Andre  male   1.0      0   \n",
      "\n",
      "     Parch           Ticket     Fare Cabin Embarked  \n",
      "817      1  S.C./PARIS 2079  37.0042   NaN        C  \n",
      "827      2  S.C./PARIS 2079  37.0042   NaN        C  \n",
      "     PassengerId  Survived  Pclass                      Name     Sex   Age  \\\n",
      "772          773         0       2         Mack, Mrs. (Mary)  female  57.0   \n",
      "841          842         0       2  Mudd, Mr. Thomas Charles    male  16.0   \n",
      "\n",
      "     SibSp  Parch       Ticket  Fare Cabin Embarked  \n",
      "772      0      0  S.O./P.P. 3  10.5   E77        S  \n",
      "841      0      0  S.O./P.P. 3  10.5   NaN        S  \n",
      "     PassengerId  Survived  Pclass                         Name   Sex   Age  \\\n",
      "72            73         0       2         Hood, Mr. Ambrose Jr  male  21.0   \n",
      "120          121         0       2  Hickman, Mr. Stanley George  male  21.0   \n",
      "385          386         0       2    Davies, Mr. Charles Henry  male  18.0   \n",
      "655          656         0       2    Hickman, Mr. Leonard Mark  male  24.0   \n",
      "665          666         0       2           Hickman, Mr. Lewis  male  32.0   \n",
      "\n",
      "     SibSp  Parch        Ticket  Fare Cabin Embarked  \n",
      "72       0      0  S.O.C. 14879  73.5   NaN        S  \n",
      "120      2      0  S.O.C. 14879  73.5   NaN        S  \n",
      "385      0      0  S.O.C. 14879  73.5   NaN        S  \n",
      "655      2      0  S.O.C. 14879  73.5   NaN        S  \n",
      "665      2      0  S.O.C. 14879  73.5   NaN        S  \n",
      "     PassengerId  Survived  Pclass  \\\n",
      "43            44         1       2   \n",
      "608          609         1       2   \n",
      "685          686         0       2   \n",
      "\n",
      "                                                  Name     Sex   Age  SibSp  \\\n",
      "43            Laroche, Miss. Simonne Marie Anne Andree  female   3.0      1   \n",
      "608  Laroche, Mrs. Joseph (Juliette Marie Louise La...  female  22.0      1   \n",
      "685             Laroche, Mr. Joseph Philippe Lemercier    male  25.0      1   \n",
      "\n",
      "     Parch         Ticket     Fare Cabin Embarked  \n",
      "43       2  SC/Paris 2123  41.5792   NaN        C  \n",
      "608      2  SC/Paris 2123  41.5792   NaN        C  \n",
      "685      2  SC/Paris 2123  41.5792   NaN        C  \n",
      "     PassengerId  Survived  Pclass  \\\n",
      "142          143         1       3   \n",
      "403          404         0       3   \n",
      "\n",
      "                                                  Name     Sex   Age  SibSp  \\\n",
      "142  Hakkarainen, Mrs. Pekka Pietari (Elin Matilda ...  female  24.0      1   \n",
      "403                     Hakkarainen, Mr. Pekka Pietari    male  28.0      1   \n",
      "\n",
      "     Parch            Ticket   Fare Cabin Embarked  \n",
      "142      0  STON/O2. 3101279  15.85   NaN        S  \n",
      "403      0  STON/O2. 3101279  15.85   NaN        S  \n",
      "     PassengerId  Survived  Pclass                                      Name  \\\n",
      "783          784         0       3                    Johnston, Mr. Andrew G   \n",
      "888          889         0       3  Johnston, Miss. Catherine Helen \"Carrie\"   \n",
      "\n",
      "        Sex  Age  SibSp  Parch      Ticket   Fare Cabin Embarked  \n",
      "783    male  NaN      1      2  W./C. 6607  23.45   NaN        S  \n",
      "888  female  NaN      1      2  W./C. 6607  23.45   NaN        S  \n",
      "     PassengerId  Survived  Pclass                                     Name  \\\n",
      "86            87         0       3                   Ford, Mr. William Neal   \n",
      "147          148         0       3         Ford, Miss. Robina Maggie \"Ruby\"   \n",
      "436          437         0       3     Ford, Miss. Doolina Margaret \"Daisy\"   \n",
      "736          737         0       3  Ford, Mrs. Edward (Margaret Ann Watson)   \n",
      "\n",
      "        Sex   Age  SibSp  Parch      Ticket    Fare Cabin Embarked  \n",
      "86     male  16.0      1      3  W./C. 6608  34.375   NaN        S  \n",
      "147  female   9.0      2      2  W./C. 6608  34.375   NaN        S  \n",
      "436  female  21.0      2      2  W./C. 6608  34.375   NaN        S  \n",
      "736  female  48.0      1      3  W./C. 6608  34.375   NaN        S  \n",
      "     PassengerId  Survived  Pclass                          Name     Sex  \\\n",
      "540          541         1       1       Crosby, Miss. Harriet R  female   \n",
      "745          746         0       1  Crosby, Capt. Edward Gifford    male   \n",
      "\n",
      "      Age  SibSp  Parch     Ticket  Fare Cabin Embarked  \n",
      "540  36.0      0      2  WE/P 5735  71.0   B22        S  \n",
      "745  70.0      1      1  WE/P 5735  71.0   B22        S  \n"
     ]
    }
   ],
   "source": [
    "#Determine families who lost family members in the disaster\n",
    "family_members_count=0\n",
    "for name,data_point in titanic_data_frame.groupby('Ticket'):\n",
    "    family_members_count=data_point.size/12\n",
    "    alive_family_members_count=0\n",
    "    passenger_group =data_point.reset_index().iloc[0]\n",
    "    family_member_count=max(passenger_group.SibSp+passenger_group.Parch+1,family_members_count)\n",
    "    if  family_members_count > 1:\n",
    "        for family_member in range(len(data_point)): \n",
    "            if data_point.iloc[family_member]['Survived']==1:\n",
    "                alive_family_members_count+=1\n",
    "        if alive_family_members_count<family_members_count:\n",
    "            print data_point"
   ]
  },
  {
   "cell_type": "code",
   "execution_count": 322,
   "metadata": {
    "collapsed": false
   },
   "outputs": [
    {
     "data": {
      "text/plain": [
       "Ticket\n",
       "110152               3\n",
       "110413               2\n",
       "110465               0\n",
       "110564               1\n",
       "110813               1\n",
       "111240               0\n",
       "111320               0\n",
       "111361               2\n",
       "111369               1\n",
       "111426               1\n",
       "111427               1\n",
       "111428               1\n",
       "112050               0\n",
       "112052               0\n",
       "112053               1\n",
       "112058               0\n",
       "112059               0\n",
       "112277               1\n",
       "112379               0\n",
       "113028               0\n",
       "113043               0\n",
       "113050               0\n",
       "113051               0\n",
       "113055               1\n",
       "113056               0\n",
       "113059               0\n",
       "113501               0\n",
       "113503               0\n",
       "113505               2\n",
       "113509               0\n",
       "                    ..\n",
       "SOTON/OQ 392082      0\n",
       "SOTON/OQ 392086      0\n",
       "SOTON/OQ 392089      1\n",
       "SOTON/OQ 392090      0\n",
       "STON/O 2. 3101269    1\n",
       "STON/O 2. 3101273    0\n",
       "STON/O 2. 3101274    0\n",
       "STON/O 2. 3101275    0\n",
       "STON/O 2. 3101280    0\n",
       "STON/O 2. 3101285    1\n",
       "STON/O 2. 3101286    1\n",
       "STON/O 2. 3101288    1\n",
       "STON/O 2. 3101289    1\n",
       "STON/O 2. 3101292    0\n",
       "STON/O 2. 3101293    0\n",
       "STON/O 2. 3101294    0\n",
       "STON/O2. 3101271     0\n",
       "STON/O2. 3101279     1\n",
       "STON/O2. 3101282     1\n",
       "STON/O2. 3101283     1\n",
       "STON/O2. 3101290     0\n",
       "SW/PP 751            1\n",
       "W./C. 14258          1\n",
       "W./C. 14263          0\n",
       "W./C. 6607           0\n",
       "W./C. 6608           0\n",
       "W./C. 6609           0\n",
       "W.E.P. 5734          0\n",
       "W/C 14208            0\n",
       "WE/P 5735            1\n",
       "dtype: int64"
      ]
     },
     "execution_count": 322,
     "metadata": {},
     "output_type": "execute_result"
    }
   ],
   "source": [
    "\n",
    "g = titanic_data_frame.groupby('Ticket')\n",
    "g.apply(lambda x: x[x['Survived'] == 1]['PassengerId'].count())"
   ]
  },
  {
   "cell_type": "markdown",
   "metadata": {},
   "source": [
    "https://en.wikipedia.org/wiki/Timeline_of_young_people's_rights_in_the_United_Kingdom"
   ]
  }
 ],
 "metadata": {
  "anaconda-cloud": {},
  "kernelspec": {
   "display_name": "Python [conda env:DAND]",
   "language": "python",
   "name": "conda-env-DAND-py"
  },
  "language_info": {
   "codemirror_mode": {
    "name": "ipython",
    "version": 2
   },
   "file_extension": ".py",
   "mimetype": "text/x-python",
   "name": "python",
   "nbconvert_exporter": "python",
   "pygments_lexer": "ipython2",
   "version": "2.7.12"
  }
 },
 "nbformat": 4,
 "nbformat_minor": 2
}
